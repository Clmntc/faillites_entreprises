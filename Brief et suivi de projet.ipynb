{
 "cells": [
  {
   "cell_type": "markdown",
   "id": "39fbbb58",
   "metadata": {
    "toc": true
   },
   "source": [
    "<h1>Table of Contents<span class=\"tocSkip\"></span></h1>\n",
    "<div class=\"toc\"><ul class=\"toc-item\"><li><span><a href=\"#Développez-un-programme-d'IA-pour-la-prédiction-des-faillites-d'entreprises\" data-toc-modified-id=\"Développez-un-programme-d'IA-pour-la-prédiction-des-faillites-d'entreprises-1\">Développez un programme d'IA pour la prédiction des faillites d'entreprises</a></span><ul class=\"toc-item\"><li><span><a href=\"#Livrables\" data-toc-modified-id=\"Livrables-1.1\">Livrables</a></span></li></ul></li><li><span><a href=\"#Planning\" data-toc-modified-id=\"Planning-2\">Planning</a></span><ul class=\"toc-item\"><li><span><a href=\"#21-/-10\" data-toc-modified-id=\"21-/-10-2.1\">21 / 10</a></span></li><li><span><a href=\"#22-/-10\" data-toc-modified-id=\"22-/-10-2.2\">22 / 10</a></span></li><li><span><a href=\"#27-/-10-(demi-journée)\" data-toc-modified-id=\"27-/-10-(demi-journée)-2.3\">27 / 10 (demi-journée)</a></span></li><li><span><a href=\"#28-/-10\" data-toc-modified-id=\"28-/-10-2.4\">28 / 10</a></span></li><li><span><a href=\"#29-/-10\" data-toc-modified-id=\"29-/-10-2.5\">29 / 10</a></span></li></ul></li></ul></div>"
   ]
  },
  {
   "cell_type": "markdown",
   "id": "c9c76d3d",
   "metadata": {},
   "source": [
    "# Développez un programme d'IA pour la prédiction des faillites d'entreprises"
   ]
  },
  {
   "cell_type": "markdown",
   "id": "1ceb001b",
   "metadata": {},
   "source": [
    "_Notre objectif dans ce projet est d'utiliser les modèles ensemblistes pour nous aider à détecter les entreprises proches de la faillite._\n",
    "\n",
    "\n",
    "**Contexte du projet**\n",
    "\n",
    "Vous êtes développeur dans une entreprise qui travaille dans le domaine de la FinTech. Votre client est une société d'investissement qui souhaite détecter les faillites d'entreprises, ce qui leur permet de mieux comprendre et gérer les risques.\n",
    "\n",
    "\n",
    "Votre objectif est de créer un modèle de machine learning pour détecter la probabilité de faire faillite en utilisant les decision trees et les méthodes ensemblistes (bagging, boosting and stacking).\n",
    "\n",
    "Pour cela, vous disposez d'un dataset avec 95 features (X1-X95) et un target. Les features représentent des indicateurs définis par les réglementations commerciaux de la Bourse. Votre target est appelé \"Bankrupt ?\", qui a la valeur 0 si l'entreprise n'a pas fait faillite, et la valeur 1 si l'entreprise a fait faillite.  \n",
    "\n",
    "**Modalités pédagogiques**<br>  \n",
    "Vous disposez de 4 jours en binôme pour réaliser ce projet et faire un présentation technique.\n",
    "\n",
    "\n",
    "Pensez bien à créer un fichier .gitignore pour éviter de stocker les données dans le repository.\n",
    "\n",
    "\n",
    "Binômes :\n",
    "\n",
    "* Nasreddine et Théo\n",
    "* Salma et Eden\n",
    "* Marianne et Youcef\n",
    "* Imen et Cédric\n",
    "* Amani et Clément\n",
    "* Zohra et Matthis\n",
    "* Adil et Véronique\n",
    "* Mélody et Jonathan\n",
    "* Cyril et Nidal  \n",
    "\n",
    "**Critères de performance**\n",
    "* compréhension du jeux de données\n",
    "* performance des modèles de prédiction\n",
    "* capacité à apporter une solution dans le temps imparti\n",
    "* qualité du synthèse du travail  \n",
    "\n",
    "**Modalités d'évaluation**\n",
    "* Auto-évaluation avec charte de réflexivité\n",
    "* Présentation orale - 10 min (Q/A inclus)\n",
    "* Pré-planning du projet\n",
    "* Code review via github\n",
    "* Vous pouvez travailler individuellement mais faire une présentation en binôme."
   ]
  },
  {
   "cell_type": "markdown",
   "id": "ee0da2d0",
   "metadata": {},
   "source": [
    "## Livrables"
   ]
  },
  {
   "cell_type": "markdown",
   "id": "908e69c5",
   "metadata": {},
   "source": [
    "- créer un repo git et un espace sur github/gitlab pour le projet\n",
    "- présenter un planning de travail\n",
    "- faire une EDA des données (notebook_EDA)\n",
    "- analyser et nettoyer cette base de données (procédure expliqué dans le notebook EDA)\n",
    "- présenter la procédure suivi pour trouver un modèle adapté (notebook_model)\n",
    "- sélectionner les données (features) pertinents pour le modèle (dans le notebook model)\n",
    "- créer un modèle d'IA entraîné et adapté au problème (format pickle)\n",
    "- proposer un protocole d'utilisation du modèle pour faire des prédictions\n",
    "- faire une présentation qui explique votre démarche et les résultats obtenus. Vous devez expliquer (10 slides maximum)"
   ]
  },
  {
   "cell_type": "markdown",
   "id": "8678833d",
   "metadata": {},
   "source": [
    "# Planning"
   ]
  },
  {
   "cell_type": "markdown",
   "id": "e9386f4a",
   "metadata": {},
   "source": [
    "## 21 / 10"
   ]
  },
  {
   "cell_type": "markdown",
   "id": "7513cdac",
   "metadata": {},
   "source": [
    "- ~~Création du repo git et un espace sur github/gitlab pour le projet~~\n",
    "- ~~Création des notebooks et autres (notebook_brief / notebook_EDA / notebook_model (pickle) / protocole d'utilisation / Présentation de 10 slides)~~\n",
    "- ~~Commencer EDA et cleaning avec commentaires + premier modèle~~ "
   ]
  },
  {
   "cell_type": "markdown",
   "id": "df77d3b3",
   "metadata": {},
   "source": [
    "## 22 / 10"
   ]
  },
  {
   "cell_type": "markdown",
   "id": "145133a5",
   "metadata": {},
   "source": [
    "- ~~Cleaning / itérations...~~ "
   ]
  },
  {
   "cell_type": "markdown",
   "id": "87908843",
   "metadata": {},
   "source": [
    "## 27 / 10 (demi-journée)"
   ]
  },
  {
   "cell_type": "markdown",
   "id": "719f09fb",
   "metadata": {},
   "source": [
    "- ~~Cleaning / itérations...~~\n",
    "- ~~Model tunning / optimisation~~"
   ]
  },
  {
   "cell_type": "markdown",
   "id": "911850a6",
   "metadata": {},
   "source": [
    "## 28 / 10"
   ]
  },
  {
   "cell_type": "markdown",
   "id": "8a161df4",
   "metadata": {},
   "source": [
    "- ~~Cleaning / itérations...~~ \n",
    "- ~~Model tunning / optimisation~~\n",
    "- ~~Choix du modèle + pickle~~\n",
    "- Rédaction de la procédure\n",
    "- Préparation d'une démo\n",
    "- ~~Préparation de la présentation~~"
   ]
  },
  {
   "cell_type": "markdown",
   "id": "f1f74f14",
   "metadata": {},
   "source": [
    "## 29 / 10"
   ]
  },
  {
   "cell_type": "markdown",
   "id": "72ede77b",
   "metadata": {},
   "source": [
    "- ~~Finition de la présentation~~"
   ]
  }
 ],
 "metadata": {
  "kernelspec": {
   "display_name": "Python 3",
   "language": "python",
   "name": "python3"
  },
  "language_info": {
   "codemirror_mode": {
    "name": "ipython",
    "version": 3
   },
   "file_extension": ".py",
   "mimetype": "text/x-python",
   "name": "python",
   "nbconvert_exporter": "python",
   "pygments_lexer": "ipython3",
   "version": "3.8.8"
  },
  "toc": {
   "base_numbering": 1,
   "nav_menu": {},
   "number_sections": false,
   "sideBar": true,
   "skip_h1_title": false,
   "title_cell": "Table of Contents",
   "title_sidebar": "Contents",
   "toc_cell": true,
   "toc_position": {},
   "toc_section_display": true,
   "toc_window_display": false
  }
 },
 "nbformat": 4,
 "nbformat_minor": 5
}
