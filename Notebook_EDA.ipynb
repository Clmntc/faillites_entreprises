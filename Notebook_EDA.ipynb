{
 "cells": [
  {
   "cell_type": "markdown",
   "id": "8459161f",
   "metadata": {
    "toc": true
   },
   "source": [
    "<h1>Table of Contents<span class=\"tocSkip\"></span></h1>\n",
    "<div class=\"toc\"><ul class=\"toc-item\"><li><span><a href=\"#EDA\" data-toc-modified-id=\"EDA-1\">EDA</a></span><ul class=\"toc-item\"><li><span><a href=\"#Visualisations\" data-toc-modified-id=\"Visualisations-1.1\">Visualisations</a></span></li><li><span><a href=\"#Premières-infos\" data-toc-modified-id=\"Premières-infos-1.2\">Premières infos</a></span></li><li><span><a href=\"#Outliers\" data-toc-modified-id=\"Outliers-1.3\">Outliers</a></span></li><li><span><a href=\"#Distribution\" data-toc-modified-id=\"Distribution-1.4\">Distribution</a></span></li><li><span><a href=\"#Balancing\" data-toc-modified-id=\"Balancing-1.5\">Balancing</a></span></li><li><span><a href=\"#Corrélation\" data-toc-modified-id=\"Corrélation-1.6\">Corrélation</a></span><ul class=\"toc-item\"><li><span><a href=\"#Features\" data-toc-modified-id=\"Features-1.6.1\">Features</a></span><ul class=\"toc-item\"><li><span><a href=\"#Analyse-de-la-corrélation\" data-toc-modified-id=\"Analyse-de-la-corrélation-1.6.1.1\">Analyse de la corrélation</a></span></li></ul></li><li><span><a href=\"#Target\" data-toc-modified-id=\"Target-1.6.2\">Target</a></span><ul class=\"toc-item\"><li><span><a href=\"#Analyse-de-la-corrélation\" data-toc-modified-id=\"Analyse-de-la-corrélation-1.6.2.1\">Analyse de la corrélation</a></span></li></ul></li></ul></li></ul></li><li><span><a href=\"#Undersampling-Preprocessing\" data-toc-modified-id=\"Undersampling-Preprocessing-2\">Undersampling Preprocessing</a></span><ul class=\"toc-item\"><li><span><a href=\"#Hold-out-et-baseline-model\" data-toc-modified-id=\"Hold-out-et-baseline-model-2.1\">Hold out et baseline model</a></span></li><li><span><a href=\"#Modèle-1-=-datacleaning\" data-toc-modified-id=\"Modèle-1-=-datacleaning-2.2\">Modèle 1 = datacleaning</a></span></li><li><span><a href=\"#Modèle-1bis-=-Feature-permutation\" data-toc-modified-id=\"Modèle-1bis-=-Feature-permutation-2.3\">Modèle 1bis = Feature permutation</a></span><ul class=\"toc-item\"><li><span><a href=\"#test-FP\" data-toc-modified-id=\"test-FP-2.3.1\">test FP</a></span></li><li><span><a href=\"#Feature-permutation\" data-toc-modified-id=\"Feature-permutation-2.3.2\">Feature permutation</a></span></li></ul></li><li><span><a href=\"#Modèle-2-=-Scaling\" data-toc-modified-id=\"Modèle-2-=-Scaling-2.4\">Modèle 2 = Scaling</a></span></li><li><span><a href=\"#Modèle-3-=-PCA\" data-toc-modified-id=\"Modèle-3-=-PCA-2.5\">Modèle 3 = PCA</a></span></li><li><span><a href=\"#Modèle-4-=-Différents-test-de-modèle\" data-toc-modified-id=\"Modèle-4-=-Différents-test-de-modèle-2.6\">Modèle 4 = Différents test de modèle</a></span></li><li><span><a href=\"#Modèle-5-=-GridSearch\" data-toc-modified-id=\"Modèle-5-=-GridSearch-2.7\">Modèle 5 = GridSearch</a></span><ul class=\"toc-item\"><li><span><a href=\"#SVC\" data-toc-modified-id=\"SVC-2.7.1\">SVC</a></span><ul class=\"toc-item\"><li><span><a href=\"#get-param\" data-toc-modified-id=\"get-param-2.7.1.1\">get param</a></span></li><li><span><a href=\"#GridSearch\" data-toc-modified-id=\"GridSearch-2.7.1.2\">GridSearch</a></span></li></ul></li><li><span><a href=\"#SGD\" data-toc-modified-id=\"SGD-2.7.2\">SGD</a></span><ul class=\"toc-item\"><li><span><a href=\"#get-param\" data-toc-modified-id=\"get-param-2.7.2.1\">get param</a></span></li><li><span><a href=\"#GridSearch\" data-toc-modified-id=\"GridSearch-2.7.2.2\">GridSearch</a></span></li></ul></li></ul></li><li><span><a href=\"#Modèle-6-=-Bagging\" data-toc-modified-id=\"Modèle-6-=-Bagging-2.8\">Modèle 6 = Bagging</a></span><ul class=\"toc-item\"><li><span><a href=\"#RF\" data-toc-modified-id=\"RF-2.8.1\">RF</a></span><ul class=\"toc-item\"><li><span><a href=\"#get-param\" data-toc-modified-id=\"get-param-2.8.1.1\">get param</a></span></li><li><span><a href=\"#GridSearch\" data-toc-modified-id=\"GridSearch-2.8.1.2\">GridSearch</a></span></li></ul></li><li><span><a href=\"#BaggingClassifier-avec-SVC\" data-toc-modified-id=\"BaggingClassifier-avec-SVC-2.8.2\">BaggingClassifier avec SVC</a></span></li></ul></li><li><span><a href=\"#Modèle-7-=-Boosting\" data-toc-modified-id=\"Modèle-7-=-Boosting-2.9\">Modèle 7 = Boosting</a></span></li><li><span><a href=\"#Modèle-8-=-Stacking\" data-toc-modified-id=\"Modèle-8-=-Stacking-2.10\">Modèle 8 = Stacking</a></span></li></ul></li><li><span><a href=\"#Oversampling-Preprocessing\" data-toc-modified-id=\"Oversampling-Preprocessing-3\">Oversampling Preprocessing</a></span><ul class=\"toc-item\"><li><span><a href=\"#Hold-out-et-baseline-model\" data-toc-modified-id=\"Hold-out-et-baseline-model-3.1\">Hold out et baseline model</a></span></li><li><span><a href=\"#Modèle-1-=-datacleaning\" data-toc-modified-id=\"Modèle-1-=-datacleaning-3.2\">Modèle 1 = datacleaning</a></span></li></ul></li></ul></div>"
   ]
  },
  {
   "cell_type": "markdown",
   "id": "85e737de",
   "metadata": {},
   "source": [
    "_Your target is called \"Bankrupt ?\", which has the value 0 if the company has not gone bankrupt, and the value 1 if the company has gone bankrupt._"
   ]
  },
  {
   "cell_type": "code",
   "execution_count": 1,
   "id": "ad843559",
   "metadata": {},
   "outputs": [
    {
     "data": {
      "text/html": [
       "<div><div id=e429490c-5c99-4b1f-937f-f67df92cba3f style=\"display:none; background-color:#9D6CFF; color:white; width:200px; height:30px; padding-left:5px; border-radius:4px; flex-direction:row; justify-content:space-around; align-items:center;\" onmouseover=\"this.style.backgroundColor='#BA9BF8'\" onmouseout=\"this.style.backgroundColor='#9D6CFF'\" onclick=\"window.commands?.execute('create-mitosheet-from-dataframe-output');\">See Full Dataframe in Mito</div> <script> if (window.commands.hasCommand('create-mitosheet-from-dataframe-output')) document.getElementById('e429490c-5c99-4b1f-937f-f67df92cba3f').style.display = 'flex' </script> <table border=\"1\" class=\"dataframe\">\n",
       "  <thead>\n",
       "    <tr style=\"text-align: right;\">\n",
       "      <th></th>\n",
       "      <th>Bankrupt?</th>\n",
       "      <th>ROA(C) before interest and depreciation before interest</th>\n",
       "      <th>ROA(A) before interest and % after tax</th>\n",
       "      <th>ROA(B) before interest and depreciation after tax</th>\n",
       "      <th>Operating Gross Margin</th>\n",
       "      <th>Realized Sales Gross Margin</th>\n",
       "      <th>Operating Profit Rate</th>\n",
       "      <th>Pre-tax net Interest Rate</th>\n",
       "      <th>After-tax net Interest Rate</th>\n",
       "      <th>Non-industry income and expenditure/revenue</th>\n",
       "      <th>Continuous interest rate (after tax)</th>\n",
       "      <th>Operating Expense Rate</th>\n",
       "      <th>Research and development expense rate</th>\n",
       "      <th>Cash flow rate</th>\n",
       "      <th>Interest-bearing debt interest rate</th>\n",
       "      <th>Tax rate (A)</th>\n",
       "      <th>Net Value Per Share (B)</th>\n",
       "      <th>Net Value Per Share (A)</th>\n",
       "      <th>Net Value Per Share (C)</th>\n",
       "      <th>Persistent EPS in the Last Four Seasons</th>\n",
       "      <th>Cash Flow Per Share</th>\n",
       "      <th>Revenue Per Share (Yuan ¥)</th>\n",
       "      <th>Operating Profit Per Share (Yuan ¥)</th>\n",
       "      <th>Per Share Net profit before tax (Yuan ¥)</th>\n",
       "      <th>Realized Sales Gross Profit Growth Rate</th>\n",
       "      <th>Operating Profit Growth Rate</th>\n",
       "      <th>After-tax Net Profit Growth Rate</th>\n",
       "      <th>Regular Net Profit Growth Rate</th>\n",
       "      <th>Continuous Net Profit Growth Rate</th>\n",
       "      <th>Total Asset Growth Rate</th>\n",
       "      <th>Net Value Growth Rate</th>\n",
       "      <th>Total Asset Return Growth Rate Ratio</th>\n",
       "      <th>Cash Reinvestment %</th>\n",
       "      <th>Current Ratio</th>\n",
       "      <th>Quick Ratio</th>\n",
       "      <th>Interest Expense Ratio</th>\n",
       "      <th>Total debt/Total net worth</th>\n",
       "      <th>Debt ratio %</th>\n",
       "      <th>Net worth/Assets</th>\n",
       "      <th>Long-term fund suitability ratio (A)</th>\n",
       "      <th>Borrowing dependency</th>\n",
       "      <th>Contingent liabilities/Net worth</th>\n",
       "      <th>Operating profit/Paid-in capital</th>\n",
       "      <th>Net profit before tax/Paid-in capital</th>\n",
       "      <th>Inventory and accounts receivable/Net value</th>\n",
       "      <th>Total Asset Turnover</th>\n",
       "      <th>Accounts Receivable Turnover</th>\n",
       "      <th>Average Collection Days</th>\n",
       "      <th>Inventory Turnover Rate (times)</th>\n",
       "      <th>Fixed Assets Turnover Frequency</th>\n",
       "      <th>Net Worth Turnover Rate (times)</th>\n",
       "      <th>Revenue per person</th>\n",
       "      <th>Operating profit per person</th>\n",
       "      <th>Allocation rate per person</th>\n",
       "      <th>Working Capital to Total Assets</th>\n",
       "      <th>Quick Assets/Total Assets</th>\n",
       "      <th>Current Assets/Total Assets</th>\n",
       "      <th>Cash/Total Assets</th>\n",
       "      <th>Quick Assets/Current Liability</th>\n",
       "      <th>Cash/Current Liability</th>\n",
       "      <th>Current Liability to Assets</th>\n",
       "      <th>Operating Funds to Liability</th>\n",
       "      <th>Inventory/Working Capital</th>\n",
       "      <th>Inventory/Current Liability</th>\n",
       "      <th>Current Liabilities/Liability</th>\n",
       "      <th>Working Capital/Equity</th>\n",
       "      <th>Current Liabilities/Equity</th>\n",
       "      <th>Long-term Liability to Current Assets</th>\n",
       "      <th>Retained Earnings to Total Assets</th>\n",
       "      <th>Total income/Total expense</th>\n",
       "      <th>Total expense/Assets</th>\n",
       "      <th>Current Asset Turnover Rate</th>\n",
       "      <th>Quick Asset Turnover Rate</th>\n",
       "      <th>Working capitcal Turnover Rate</th>\n",
       "      <th>Cash Turnover Rate</th>\n",
       "      <th>Cash Flow to Sales</th>\n",
       "      <th>Fixed Assets to Assets</th>\n",
       "      <th>Current Liability to Liability</th>\n",
       "      <th>Current Liability to Equity</th>\n",
       "      <th>Equity to Long-term Liability</th>\n",
       "      <th>Cash Flow to Total Assets</th>\n",
       "      <th>Cash Flow to Liability</th>\n",
       "      <th>CFO to Assets</th>\n",
       "      <th>Cash Flow to Equity</th>\n",
       "      <th>Current Liability to Current Assets</th>\n",
       "      <th>Liability-Assets Flag</th>\n",
       "      <th>Net Income to Total Assets</th>\n",
       "      <th>Total assets to GNP price</th>\n",
       "      <th>No-credit Interval</th>\n",
       "      <th>Gross Profit to Sales</th>\n",
       "      <th>Net Income to Stockholders Equity</th>\n",
       "      <th>Liability to Equity</th>\n",
       "      <th>Degree of Financial Leverage (DFL)</th>\n",
       "      <th>Interest Coverage Ratio (Interest expense to EBIT)</th>\n",
       "      <th>Net Income Flag</th>\n",
       "      <th>Equity to Liability</th>\n",
       "    </tr>\n",
       "  </thead>\n",
       "  <tbody>\n",
       "    <tr>\n",
       "      <th>0</th>\n",
       "      <td>1</td>\n",
       "      <td>0.370594</td>\n",
       "      <td>0.424389</td>\n",
       "      <td>0.405750</td>\n",
       "      <td>0.601457</td>\n",
       "      <td>0.601457</td>\n",
       "      <td>0.998969</td>\n",
       "      <td>0.796887</td>\n",
       "      <td>0.808809</td>\n",
       "      <td>0.302646</td>\n",
       "      <td>0.780985</td>\n",
       "      <td>1.256969e-04</td>\n",
       "      <td>0.0</td>\n",
       "      <td>0.458143</td>\n",
       "      <td>0.000725</td>\n",
       "      <td>0.0</td>\n",
       "      <td>0.147950</td>\n",
       "      <td>0.147950</td>\n",
       "      <td>0.147950</td>\n",
       "      <td>0.169141</td>\n",
       "      <td>0.311664</td>\n",
       "      <td>0.017560</td>\n",
       "      <td>0.095921</td>\n",
       "      <td>0.138736</td>\n",
       "      <td>0.022102</td>\n",
       "      <td>0.848195</td>\n",
       "      <td>0.688979</td>\n",
       "      <td>0.688979</td>\n",
       "      <td>0.217535</td>\n",
       "      <td>4.980000e+09</td>\n",
       "      <td>0.000327</td>\n",
       "      <td>0.263100</td>\n",
       "      <td>0.363725</td>\n",
       "      <td>0.002259</td>\n",
       "      <td>0.001208</td>\n",
       "      <td>0.629951</td>\n",
       "      <td>0.021266</td>\n",
       "      <td>0.207576</td>\n",
       "      <td>0.792424</td>\n",
       "      <td>0.005024</td>\n",
       "      <td>0.390284</td>\n",
       "      <td>0.006479</td>\n",
       "      <td>0.095885</td>\n",
       "      <td>0.137757</td>\n",
       "      <td>0.398036</td>\n",
       "      <td>0.086957</td>\n",
       "      <td>0.001814</td>\n",
       "      <td>0.003487</td>\n",
       "      <td>1.820926e-04</td>\n",
       "      <td>1.165007e-04</td>\n",
       "      <td>0.032903</td>\n",
       "      <td>0.034164</td>\n",
       "      <td>0.392913</td>\n",
       "      <td>0.037135</td>\n",
       "      <td>0.672775</td>\n",
       "      <td>0.166673</td>\n",
       "      <td>0.190643</td>\n",
       "      <td>0.004094</td>\n",
       "      <td>0.001997</td>\n",
       "      <td>1.473360e-04</td>\n",
       "      <td>0.147308</td>\n",
       "      <td>0.334015</td>\n",
       "      <td>0.276920</td>\n",
       "      <td>0.001036</td>\n",
       "      <td>0.676269</td>\n",
       "      <td>0.721275</td>\n",
       "      <td>0.339077</td>\n",
       "      <td>0.025592</td>\n",
       "      <td>0.903225</td>\n",
       "      <td>0.002022</td>\n",
       "      <td>0.064856</td>\n",
       "      <td>7.010000e+08</td>\n",
       "      <td>6.550000e+09</td>\n",
       "      <td>0.593831</td>\n",
       "      <td>4.580000e+08</td>\n",
       "      <td>0.671568</td>\n",
       "      <td>0.424206</td>\n",
       "      <td>0.676269</td>\n",
       "      <td>0.339077</td>\n",
       "      <td>0.126549</td>\n",
       "      <td>0.637555</td>\n",
       "      <td>0.458609</td>\n",
       "      <td>0.520382</td>\n",
       "      <td>0.312905</td>\n",
       "      <td>0.118250</td>\n",
       "      <td>0</td>\n",
       "      <td>0.716845</td>\n",
       "      <td>0.009219</td>\n",
       "      <td>0.622879</td>\n",
       "      <td>0.601453</td>\n",
       "      <td>0.827890</td>\n",
       "      <td>0.290202</td>\n",
       "      <td>0.026601</td>\n",
       "      <td>0.564050</td>\n",
       "      <td>1</td>\n",
       "      <td>0.016469</td>\n",
       "    </tr>\n",
       "    <tr>\n",
       "      <th>1</th>\n",
       "      <td>1</td>\n",
       "      <td>0.464291</td>\n",
       "      <td>0.538214</td>\n",
       "      <td>0.516730</td>\n",
       "      <td>0.610235</td>\n",
       "      <td>0.610235</td>\n",
       "      <td>0.998946</td>\n",
       "      <td>0.797380</td>\n",
       "      <td>0.809301</td>\n",
       "      <td>0.303556</td>\n",
       "      <td>0.781506</td>\n",
       "      <td>2.897851e-04</td>\n",
       "      <td>0.0</td>\n",
       "      <td>0.461867</td>\n",
       "      <td>0.000647</td>\n",
       "      <td>0.0</td>\n",
       "      <td>0.182251</td>\n",
       "      <td>0.182251</td>\n",
       "      <td>0.182251</td>\n",
       "      <td>0.208944</td>\n",
       "      <td>0.318137</td>\n",
       "      <td>0.021144</td>\n",
       "      <td>0.093722</td>\n",
       "      <td>0.169918</td>\n",
       "      <td>0.022080</td>\n",
       "      <td>0.848088</td>\n",
       "      <td>0.689693</td>\n",
       "      <td>0.689702</td>\n",
       "      <td>0.217620</td>\n",
       "      <td>6.110000e+09</td>\n",
       "      <td>0.000443</td>\n",
       "      <td>0.264516</td>\n",
       "      <td>0.376709</td>\n",
       "      <td>0.006016</td>\n",
       "      <td>0.004039</td>\n",
       "      <td>0.635172</td>\n",
       "      <td>0.012502</td>\n",
       "      <td>0.171176</td>\n",
       "      <td>0.828824</td>\n",
       "      <td>0.005059</td>\n",
       "      <td>0.376760</td>\n",
       "      <td>0.005835</td>\n",
       "      <td>0.093743</td>\n",
       "      <td>0.168962</td>\n",
       "      <td>0.397725</td>\n",
       "      <td>0.064468</td>\n",
       "      <td>0.001286</td>\n",
       "      <td>0.004917</td>\n",
       "      <td>9.360000e+09</td>\n",
       "      <td>7.190000e+08</td>\n",
       "      <td>0.025484</td>\n",
       "      <td>0.006889</td>\n",
       "      <td>0.391590</td>\n",
       "      <td>0.012335</td>\n",
       "      <td>0.751111</td>\n",
       "      <td>0.127236</td>\n",
       "      <td>0.182419</td>\n",
       "      <td>0.014948</td>\n",
       "      <td>0.004136</td>\n",
       "      <td>1.383910e-03</td>\n",
       "      <td>0.056963</td>\n",
       "      <td>0.341106</td>\n",
       "      <td>0.289642</td>\n",
       "      <td>0.005210</td>\n",
       "      <td>0.308589</td>\n",
       "      <td>0.731975</td>\n",
       "      <td>0.329740</td>\n",
       "      <td>0.023947</td>\n",
       "      <td>0.931065</td>\n",
       "      <td>0.002226</td>\n",
       "      <td>0.025516</td>\n",
       "      <td>1.065198e-04</td>\n",
       "      <td>7.700000e+09</td>\n",
       "      <td>0.593916</td>\n",
       "      <td>2.490000e+09</td>\n",
       "      <td>0.671570</td>\n",
       "      <td>0.468828</td>\n",
       "      <td>0.308589</td>\n",
       "      <td>0.329740</td>\n",
       "      <td>0.120916</td>\n",
       "      <td>0.641100</td>\n",
       "      <td>0.459001</td>\n",
       "      <td>0.567101</td>\n",
       "      <td>0.314163</td>\n",
       "      <td>0.047775</td>\n",
       "      <td>0</td>\n",
       "      <td>0.795297</td>\n",
       "      <td>0.008323</td>\n",
       "      <td>0.623652</td>\n",
       "      <td>0.610237</td>\n",
       "      <td>0.839969</td>\n",
       "      <td>0.283846</td>\n",
       "      <td>0.264577</td>\n",
       "      <td>0.570175</td>\n",
       "      <td>1</td>\n",
       "      <td>0.020794</td>\n",
       "    </tr>\n",
       "    <tr>\n",
       "      <th>2</th>\n",
       "      <td>1</td>\n",
       "      <td>0.426071</td>\n",
       "      <td>0.499019</td>\n",
       "      <td>0.472295</td>\n",
       "      <td>0.601450</td>\n",
       "      <td>0.601364</td>\n",
       "      <td>0.998857</td>\n",
       "      <td>0.796403</td>\n",
       "      <td>0.808388</td>\n",
       "      <td>0.302035</td>\n",
       "      <td>0.780284</td>\n",
       "      <td>2.361297e-04</td>\n",
       "      <td>25500000.0</td>\n",
       "      <td>0.458521</td>\n",
       "      <td>0.000790</td>\n",
       "      <td>0.0</td>\n",
       "      <td>0.177911</td>\n",
       "      <td>0.177911</td>\n",
       "      <td>0.193713</td>\n",
       "      <td>0.180581</td>\n",
       "      <td>0.307102</td>\n",
       "      <td>0.005944</td>\n",
       "      <td>0.092338</td>\n",
       "      <td>0.142803</td>\n",
       "      <td>0.022760</td>\n",
       "      <td>0.848094</td>\n",
       "      <td>0.689463</td>\n",
       "      <td>0.689470</td>\n",
       "      <td>0.217601</td>\n",
       "      <td>7.280000e+09</td>\n",
       "      <td>0.000396</td>\n",
       "      <td>0.264184</td>\n",
       "      <td>0.368913</td>\n",
       "      <td>0.011543</td>\n",
       "      <td>0.005348</td>\n",
       "      <td>0.629631</td>\n",
       "      <td>0.021248</td>\n",
       "      <td>0.207516</td>\n",
       "      <td>0.792484</td>\n",
       "      <td>0.005100</td>\n",
       "      <td>0.379093</td>\n",
       "      <td>0.006562</td>\n",
       "      <td>0.092318</td>\n",
       "      <td>0.148036</td>\n",
       "      <td>0.406580</td>\n",
       "      <td>0.014993</td>\n",
       "      <td>0.001495</td>\n",
       "      <td>0.004227</td>\n",
       "      <td>6.500000e+07</td>\n",
       "      <td>2.650000e+09</td>\n",
       "      <td>0.013387</td>\n",
       "      <td>0.028997</td>\n",
       "      <td>0.381968</td>\n",
       "      <td>0.141016</td>\n",
       "      <td>0.829502</td>\n",
       "      <td>0.340201</td>\n",
       "      <td>0.602806</td>\n",
       "      <td>0.000991</td>\n",
       "      <td>0.006302</td>\n",
       "      <td>5.340000e+09</td>\n",
       "      <td>0.098162</td>\n",
       "      <td>0.336731</td>\n",
       "      <td>0.277456</td>\n",
       "      <td>0.013879</td>\n",
       "      <td>0.446027</td>\n",
       "      <td>0.742729</td>\n",
       "      <td>0.334777</td>\n",
       "      <td>0.003715</td>\n",
       "      <td>0.909903</td>\n",
       "      <td>0.002060</td>\n",
       "      <td>0.021387</td>\n",
       "      <td>1.791094e-03</td>\n",
       "      <td>1.022676e-03</td>\n",
       "      <td>0.594502</td>\n",
       "      <td>7.610000e+08</td>\n",
       "      <td>0.671571</td>\n",
       "      <td>0.276179</td>\n",
       "      <td>0.446027</td>\n",
       "      <td>0.334777</td>\n",
       "      <td>0.117922</td>\n",
       "      <td>0.642765</td>\n",
       "      <td>0.459254</td>\n",
       "      <td>0.538491</td>\n",
       "      <td>0.314515</td>\n",
       "      <td>0.025346</td>\n",
       "      <td>0</td>\n",
       "      <td>0.774670</td>\n",
       "      <td>0.040003</td>\n",
       "      <td>0.623841</td>\n",
       "      <td>0.601449</td>\n",
       "      <td>0.836774</td>\n",
       "      <td>0.290189</td>\n",
       "      <td>0.026555</td>\n",
       "      <td>0.563706</td>\n",
       "      <td>1</td>\n",
       "      <td>0.016474</td>\n",
       "    </tr>\n",
       "    <tr>\n",
       "      <th>3</th>\n",
       "      <td>1</td>\n",
       "      <td>0.399844</td>\n",
       "      <td>0.451265</td>\n",
       "      <td>0.457733</td>\n",
       "      <td>0.583541</td>\n",
       "      <td>0.583541</td>\n",
       "      <td>0.998700</td>\n",
       "      <td>0.796967</td>\n",
       "      <td>0.808966</td>\n",
       "      <td>0.303350</td>\n",
       "      <td>0.781241</td>\n",
       "      <td>1.078888e-04</td>\n",
       "      <td>0.0</td>\n",
       "      <td>0.465705</td>\n",
       "      <td>0.000449</td>\n",
       "      <td>0.0</td>\n",
       "      <td>0.154187</td>\n",
       "      <td>0.154187</td>\n",
       "      <td>0.154187</td>\n",
       "      <td>0.193722</td>\n",
       "      <td>0.321674</td>\n",
       "      <td>0.014368</td>\n",
       "      <td>0.077762</td>\n",
       "      <td>0.148603</td>\n",
       "      <td>0.022046</td>\n",
       "      <td>0.848005</td>\n",
       "      <td>0.689110</td>\n",
       "      <td>0.689110</td>\n",
       "      <td>0.217568</td>\n",
       "      <td>4.880000e+09</td>\n",
       "      <td>0.000382</td>\n",
       "      <td>0.263371</td>\n",
       "      <td>0.384077</td>\n",
       "      <td>0.004194</td>\n",
       "      <td>0.002896</td>\n",
       "      <td>0.630228</td>\n",
       "      <td>0.009572</td>\n",
       "      <td>0.151465</td>\n",
       "      <td>0.848535</td>\n",
       "      <td>0.005047</td>\n",
       "      <td>0.379743</td>\n",
       "      <td>0.005366</td>\n",
       "      <td>0.077727</td>\n",
       "      <td>0.147561</td>\n",
       "      <td>0.397925</td>\n",
       "      <td>0.089955</td>\n",
       "      <td>0.001966</td>\n",
       "      <td>0.003215</td>\n",
       "      <td>7.130000e+09</td>\n",
       "      <td>9.150000e+09</td>\n",
       "      <td>0.028065</td>\n",
       "      <td>0.015463</td>\n",
       "      <td>0.378497</td>\n",
       "      <td>0.021320</td>\n",
       "      <td>0.725754</td>\n",
       "      <td>0.161575</td>\n",
       "      <td>0.225815</td>\n",
       "      <td>0.018851</td>\n",
       "      <td>0.002961</td>\n",
       "      <td>1.010646e-03</td>\n",
       "      <td>0.098715</td>\n",
       "      <td>0.348716</td>\n",
       "      <td>0.276580</td>\n",
       "      <td>0.003540</td>\n",
       "      <td>0.615848</td>\n",
       "      <td>0.729825</td>\n",
       "      <td>0.331509</td>\n",
       "      <td>0.022165</td>\n",
       "      <td>0.906902</td>\n",
       "      <td>0.001831</td>\n",
       "      <td>0.024161</td>\n",
       "      <td>8.140000e+09</td>\n",
       "      <td>6.050000e+09</td>\n",
       "      <td>0.593889</td>\n",
       "      <td>2.030000e+09</td>\n",
       "      <td>0.671519</td>\n",
       "      <td>0.559144</td>\n",
       "      <td>0.615848</td>\n",
       "      <td>0.331509</td>\n",
       "      <td>0.120760</td>\n",
       "      <td>0.579039</td>\n",
       "      <td>0.448518</td>\n",
       "      <td>0.604105</td>\n",
       "      <td>0.302382</td>\n",
       "      <td>0.067250</td>\n",
       "      <td>0</td>\n",
       "      <td>0.739555</td>\n",
       "      <td>0.003252</td>\n",
       "      <td>0.622929</td>\n",
       "      <td>0.583538</td>\n",
       "      <td>0.834697</td>\n",
       "      <td>0.281721</td>\n",
       "      <td>0.026697</td>\n",
       "      <td>0.564663</td>\n",
       "      <td>1</td>\n",
       "      <td>0.023982</td>\n",
       "    </tr>\n",
       "    <tr>\n",
       "      <th>4</th>\n",
       "      <td>1</td>\n",
       "      <td>0.465022</td>\n",
       "      <td>0.538432</td>\n",
       "      <td>0.522298</td>\n",
       "      <td>0.598783</td>\n",
       "      <td>0.598783</td>\n",
       "      <td>0.998973</td>\n",
       "      <td>0.797366</td>\n",
       "      <td>0.809304</td>\n",
       "      <td>0.303475</td>\n",
       "      <td>0.781550</td>\n",
       "      <td>7.890000e+09</td>\n",
       "      <td>0.0</td>\n",
       "      <td>0.462746</td>\n",
       "      <td>0.000686</td>\n",
       "      <td>0.0</td>\n",
       "      <td>0.167502</td>\n",
       "      <td>0.167502</td>\n",
       "      <td>0.167502</td>\n",
       "      <td>0.212537</td>\n",
       "      <td>0.319162</td>\n",
       "      <td>0.029690</td>\n",
       "      <td>0.096898</td>\n",
       "      <td>0.168412</td>\n",
       "      <td>0.022096</td>\n",
       "      <td>0.848258</td>\n",
       "      <td>0.689697</td>\n",
       "      <td>0.689697</td>\n",
       "      <td>0.217626</td>\n",
       "      <td>5.510000e+09</td>\n",
       "      <td>0.000439</td>\n",
       "      <td>0.265218</td>\n",
       "      <td>0.379690</td>\n",
       "      <td>0.006022</td>\n",
       "      <td>0.003727</td>\n",
       "      <td>0.636055</td>\n",
       "      <td>0.005150</td>\n",
       "      <td>0.106509</td>\n",
       "      <td>0.893491</td>\n",
       "      <td>0.005303</td>\n",
       "      <td>0.375025</td>\n",
       "      <td>0.006624</td>\n",
       "      <td>0.096927</td>\n",
       "      <td>0.167461</td>\n",
       "      <td>0.400079</td>\n",
       "      <td>0.175412</td>\n",
       "      <td>0.001449</td>\n",
       "      <td>0.004367</td>\n",
       "      <td>1.633674e-04</td>\n",
       "      <td>2.935211e-04</td>\n",
       "      <td>0.040161</td>\n",
       "      <td>0.058111</td>\n",
       "      <td>0.394371</td>\n",
       "      <td>0.023988</td>\n",
       "      <td>0.751822</td>\n",
       "      <td>0.260330</td>\n",
       "      <td>0.358380</td>\n",
       "      <td>0.014161</td>\n",
       "      <td>0.004275</td>\n",
       "      <td>6.804636e-04</td>\n",
       "      <td>0.110195</td>\n",
       "      <td>0.344639</td>\n",
       "      <td>0.287913</td>\n",
       "      <td>0.004869</td>\n",
       "      <td>0.975007</td>\n",
       "      <td>0.732000</td>\n",
       "      <td>0.330726</td>\n",
       "      <td>0.000000</td>\n",
       "      <td>0.913850</td>\n",
       "      <td>0.002224</td>\n",
       "      <td>0.026385</td>\n",
       "      <td>6.680000e+09</td>\n",
       "      <td>5.050000e+09</td>\n",
       "      <td>0.593915</td>\n",
       "      <td>8.240000e+08</td>\n",
       "      <td>0.671563</td>\n",
       "      <td>0.309555</td>\n",
       "      <td>0.975007</td>\n",
       "      <td>0.330726</td>\n",
       "      <td>0.110933</td>\n",
       "      <td>0.622374</td>\n",
       "      <td>0.454411</td>\n",
       "      <td>0.578469</td>\n",
       "      <td>0.311567</td>\n",
       "      <td>0.047725</td>\n",
       "      <td>0</td>\n",
       "      <td>0.795016</td>\n",
       "      <td>0.003878</td>\n",
       "      <td>0.623521</td>\n",
       "      <td>0.598782</td>\n",
       "      <td>0.839973</td>\n",
       "      <td>0.278514</td>\n",
       "      <td>0.024752</td>\n",
       "      <td>0.575617</td>\n",
       "      <td>1</td>\n",
       "      <td>0.035490</td>\n",
       "    </tr>\n",
       "  </tbody>\n",
       "</table></div>"
      ],
      "text/plain": [
       "   Bankrupt?  ROA(C) before interest and depreciation before interest  \\\n",
       "0          1                                           0.370594         \n",
       "1          1                                           0.464291         \n",
       "2          1                                           0.426071         \n",
       "3          1                                           0.399844         \n",
       "4          1                                           0.465022         \n",
       "\n",
       "   ROA(A) before interest and % after tax  \\\n",
       "0                                0.424389   \n",
       "1                                0.538214   \n",
       "2                                0.499019   \n",
       "3                                0.451265   \n",
       "4                                0.538432   \n",
       "\n",
       "   ROA(B) before interest and depreciation after tax  Operating Gross Margin  \\\n",
       "0                                           0.405750                0.601457   \n",
       "1                                           0.516730                0.610235   \n",
       "2                                           0.472295                0.601450   \n",
       "3                                           0.457733                0.583541   \n",
       "4                                           0.522298                0.598783   \n",
       "\n",
       "   Realized Sales Gross Margin  Operating Profit Rate  \\\n",
       "0                     0.601457               0.998969   \n",
       "1                     0.610235               0.998946   \n",
       "2                     0.601364               0.998857   \n",
       "3                     0.583541               0.998700   \n",
       "4                     0.598783               0.998973   \n",
       "\n",
       "   Pre-tax net Interest Rate  After-tax net Interest Rate  \\\n",
       "0                   0.796887                     0.808809   \n",
       "1                   0.797380                     0.809301   \n",
       "2                   0.796403                     0.808388   \n",
       "3                   0.796967                     0.808966   \n",
       "4                   0.797366                     0.809304   \n",
       "\n",
       "   Non-industry income and expenditure/revenue  \\\n",
       "0                                     0.302646   \n",
       "1                                     0.303556   \n",
       "2                                     0.302035   \n",
       "3                                     0.303350   \n",
       "4                                     0.303475   \n",
       "\n",
       "   Continuous interest rate (after tax)  Operating Expense Rate  \\\n",
       "0                              0.780985            1.256969e-04   \n",
       "1                              0.781506            2.897851e-04   \n",
       "2                              0.780284            2.361297e-04   \n",
       "3                              0.781241            1.078888e-04   \n",
       "4                              0.781550            7.890000e+09   \n",
       "\n",
       "   Research and development expense rate  Cash flow rate  \\\n",
       "0                                    0.0        0.458143   \n",
       "1                                    0.0        0.461867   \n",
       "2                             25500000.0        0.458521   \n",
       "3                                    0.0        0.465705   \n",
       "4                                    0.0        0.462746   \n",
       "\n",
       "   Interest-bearing debt interest rate  Tax rate (A)  Net Value Per Share (B)  \\\n",
       "0                             0.000725           0.0                 0.147950   \n",
       "1                             0.000647           0.0                 0.182251   \n",
       "2                             0.000790           0.0                 0.177911   \n",
       "3                             0.000449           0.0                 0.154187   \n",
       "4                             0.000686           0.0                 0.167502   \n",
       "\n",
       "   Net Value Per Share (A)  Net Value Per Share (C)  \\\n",
       "0                 0.147950                 0.147950   \n",
       "1                 0.182251                 0.182251   \n",
       "2                 0.177911                 0.193713   \n",
       "3                 0.154187                 0.154187   \n",
       "4                 0.167502                 0.167502   \n",
       "\n",
       "   Persistent EPS in the Last Four Seasons  Cash Flow Per Share  \\\n",
       "0                                 0.169141             0.311664   \n",
       "1                                 0.208944             0.318137   \n",
       "2                                 0.180581             0.307102   \n",
       "3                                 0.193722             0.321674   \n",
       "4                                 0.212537             0.319162   \n",
       "\n",
       "   Revenue Per Share (Yuan ¥)  Operating Profit Per Share (Yuan ¥)  \\\n",
       "0                    0.017560                             0.095921   \n",
       "1                    0.021144                             0.093722   \n",
       "2                    0.005944                             0.092338   \n",
       "3                    0.014368                             0.077762   \n",
       "4                    0.029690                             0.096898   \n",
       "\n",
       "   Per Share Net profit before tax (Yuan ¥)  \\\n",
       "0                                  0.138736   \n",
       "1                                  0.169918   \n",
       "2                                  0.142803   \n",
       "3                                  0.148603   \n",
       "4                                  0.168412   \n",
       "\n",
       "   Realized Sales Gross Profit Growth Rate  Operating Profit Growth Rate  \\\n",
       "0                                 0.022102                      0.848195   \n",
       "1                                 0.022080                      0.848088   \n",
       "2                                 0.022760                      0.848094   \n",
       "3                                 0.022046                      0.848005   \n",
       "4                                 0.022096                      0.848258   \n",
       "\n",
       "   After-tax Net Profit Growth Rate  Regular Net Profit Growth Rate  \\\n",
       "0                          0.688979                        0.688979   \n",
       "1                          0.689693                        0.689702   \n",
       "2                          0.689463                        0.689470   \n",
       "3                          0.689110                        0.689110   \n",
       "4                          0.689697                        0.689697   \n",
       "\n",
       "   Continuous Net Profit Growth Rate  Total Asset Growth Rate  \\\n",
       "0                           0.217535             4.980000e+09   \n",
       "1                           0.217620             6.110000e+09   \n",
       "2                           0.217601             7.280000e+09   \n",
       "3                           0.217568             4.880000e+09   \n",
       "4                           0.217626             5.510000e+09   \n",
       "\n",
       "   Net Value Growth Rate  Total Asset Return Growth Rate Ratio  \\\n",
       "0               0.000327                              0.263100   \n",
       "1               0.000443                              0.264516   \n",
       "2               0.000396                              0.264184   \n",
       "3               0.000382                              0.263371   \n",
       "4               0.000439                              0.265218   \n",
       "\n",
       "   Cash Reinvestment %  Current Ratio  Quick Ratio  Interest Expense Ratio  \\\n",
       "0             0.363725       0.002259     0.001208                0.629951   \n",
       "1             0.376709       0.006016     0.004039                0.635172   \n",
       "2             0.368913       0.011543     0.005348                0.629631   \n",
       "3             0.384077       0.004194     0.002896                0.630228   \n",
       "4             0.379690       0.006022     0.003727                0.636055   \n",
       "\n",
       "   Total debt/Total net worth  Debt ratio %  Net worth/Assets  \\\n",
       "0                    0.021266      0.207576          0.792424   \n",
       "1                    0.012502      0.171176          0.828824   \n",
       "2                    0.021248      0.207516          0.792484   \n",
       "3                    0.009572      0.151465          0.848535   \n",
       "4                    0.005150      0.106509          0.893491   \n",
       "\n",
       "   Long-term fund suitability ratio (A)  Borrowing dependency  \\\n",
       "0                              0.005024              0.390284   \n",
       "1                              0.005059              0.376760   \n",
       "2                              0.005100              0.379093   \n",
       "3                              0.005047              0.379743   \n",
       "4                              0.005303              0.375025   \n",
       "\n",
       "   Contingent liabilities/Net worth  Operating profit/Paid-in capital  \\\n",
       "0                          0.006479                          0.095885   \n",
       "1                          0.005835                          0.093743   \n",
       "2                          0.006562                          0.092318   \n",
       "3                          0.005366                          0.077727   \n",
       "4                          0.006624                          0.096927   \n",
       "\n",
       "   Net profit before tax/Paid-in capital  \\\n",
       "0                               0.137757   \n",
       "1                               0.168962   \n",
       "2                               0.148036   \n",
       "3                               0.147561   \n",
       "4                               0.167461   \n",
       "\n",
       "   Inventory and accounts receivable/Net value  Total Asset Turnover  \\\n",
       "0                                     0.398036              0.086957   \n",
       "1                                     0.397725              0.064468   \n",
       "2                                     0.406580              0.014993   \n",
       "3                                     0.397925              0.089955   \n",
       "4                                     0.400079              0.175412   \n",
       "\n",
       "   Accounts Receivable Turnover  Average Collection Days  \\\n",
       "0                      0.001814                 0.003487   \n",
       "1                      0.001286                 0.004917   \n",
       "2                      0.001495                 0.004227   \n",
       "3                      0.001966                 0.003215   \n",
       "4                      0.001449                 0.004367   \n",
       "\n",
       "   Inventory Turnover Rate (times)  Fixed Assets Turnover Frequency  \\\n",
       "0                     1.820926e-04                     1.165007e-04   \n",
       "1                     9.360000e+09                     7.190000e+08   \n",
       "2                     6.500000e+07                     2.650000e+09   \n",
       "3                     7.130000e+09                     9.150000e+09   \n",
       "4                     1.633674e-04                     2.935211e-04   \n",
       "\n",
       "   Net Worth Turnover Rate (times)  Revenue per person  \\\n",
       "0                         0.032903            0.034164   \n",
       "1                         0.025484            0.006889   \n",
       "2                         0.013387            0.028997   \n",
       "3                         0.028065            0.015463   \n",
       "4                         0.040161            0.058111   \n",
       "\n",
       "   Operating profit per person  Allocation rate per person  \\\n",
       "0                     0.392913                    0.037135   \n",
       "1                     0.391590                    0.012335   \n",
       "2                     0.381968                    0.141016   \n",
       "3                     0.378497                    0.021320   \n",
       "4                     0.394371                    0.023988   \n",
       "\n",
       "   Working Capital to Total Assets  Quick Assets/Total Assets  \\\n",
       "0                         0.672775                   0.166673   \n",
       "1                         0.751111                   0.127236   \n",
       "2                         0.829502                   0.340201   \n",
       "3                         0.725754                   0.161575   \n",
       "4                         0.751822                   0.260330   \n",
       "\n",
       "   Current Assets/Total Assets  Cash/Total Assets  \\\n",
       "0                     0.190643           0.004094   \n",
       "1                     0.182419           0.014948   \n",
       "2                     0.602806           0.000991   \n",
       "3                     0.225815           0.018851   \n",
       "4                     0.358380           0.014161   \n",
       "\n",
       "   Quick Assets/Current Liability  Cash/Current Liability  \\\n",
       "0                        0.001997            1.473360e-04   \n",
       "1                        0.004136            1.383910e-03   \n",
       "2                        0.006302            5.340000e+09   \n",
       "3                        0.002961            1.010646e-03   \n",
       "4                        0.004275            6.804636e-04   \n",
       "\n",
       "   Current Liability to Assets  Operating Funds to Liability  \\\n",
       "0                     0.147308                      0.334015   \n",
       "1                     0.056963                      0.341106   \n",
       "2                     0.098162                      0.336731   \n",
       "3                     0.098715                      0.348716   \n",
       "4                     0.110195                      0.344639   \n",
       "\n",
       "   Inventory/Working Capital  Inventory/Current Liability  \\\n",
       "0                   0.276920                     0.001036   \n",
       "1                   0.289642                     0.005210   \n",
       "2                   0.277456                     0.013879   \n",
       "3                   0.276580                     0.003540   \n",
       "4                   0.287913                     0.004869   \n",
       "\n",
       "   Current Liabilities/Liability  Working Capital/Equity  \\\n",
       "0                       0.676269                0.721275   \n",
       "1                       0.308589                0.731975   \n",
       "2                       0.446027                0.742729   \n",
       "3                       0.615848                0.729825   \n",
       "4                       0.975007                0.732000   \n",
       "\n",
       "   Current Liabilities/Equity  Long-term Liability to Current Assets  \\\n",
       "0                    0.339077                               0.025592   \n",
       "1                    0.329740                               0.023947   \n",
       "2                    0.334777                               0.003715   \n",
       "3                    0.331509                               0.022165   \n",
       "4                    0.330726                               0.000000   \n",
       "\n",
       "   Retained Earnings to Total Assets  Total income/Total expense  \\\n",
       "0                           0.903225                    0.002022   \n",
       "1                           0.931065                    0.002226   \n",
       "2                           0.909903                    0.002060   \n",
       "3                           0.906902                    0.001831   \n",
       "4                           0.913850                    0.002224   \n",
       "\n",
       "   Total expense/Assets  Current Asset Turnover Rate  \\\n",
       "0              0.064856                 7.010000e+08   \n",
       "1              0.025516                 1.065198e-04   \n",
       "2              0.021387                 1.791094e-03   \n",
       "3              0.024161                 8.140000e+09   \n",
       "4              0.026385                 6.680000e+09   \n",
       "\n",
       "   Quick Asset Turnover Rate  Working capitcal Turnover Rate  \\\n",
       "0               6.550000e+09                        0.593831   \n",
       "1               7.700000e+09                        0.593916   \n",
       "2               1.022676e-03                        0.594502   \n",
       "3               6.050000e+09                        0.593889   \n",
       "4               5.050000e+09                        0.593915   \n",
       "\n",
       "   Cash Turnover Rate  Cash Flow to Sales  Fixed Assets to Assets  \\\n",
       "0        4.580000e+08            0.671568                0.424206   \n",
       "1        2.490000e+09            0.671570                0.468828   \n",
       "2        7.610000e+08            0.671571                0.276179   \n",
       "3        2.030000e+09            0.671519                0.559144   \n",
       "4        8.240000e+08            0.671563                0.309555   \n",
       "\n",
       "   Current Liability to Liability  Current Liability to Equity  \\\n",
       "0                        0.676269                     0.339077   \n",
       "1                        0.308589                     0.329740   \n",
       "2                        0.446027                     0.334777   \n",
       "3                        0.615848                     0.331509   \n",
       "4                        0.975007                     0.330726   \n",
       "\n",
       "   Equity to Long-term Liability  Cash Flow to Total Assets  \\\n",
       "0                       0.126549                   0.637555   \n",
       "1                       0.120916                   0.641100   \n",
       "2                       0.117922                   0.642765   \n",
       "3                       0.120760                   0.579039   \n",
       "4                       0.110933                   0.622374   \n",
       "\n",
       "   Cash Flow to Liability  CFO to Assets  Cash Flow to Equity  \\\n",
       "0                0.458609       0.520382             0.312905   \n",
       "1                0.459001       0.567101             0.314163   \n",
       "2                0.459254       0.538491             0.314515   \n",
       "3                0.448518       0.604105             0.302382   \n",
       "4                0.454411       0.578469             0.311567   \n",
       "\n",
       "   Current Liability to Current Assets  Liability-Assets Flag  \\\n",
       "0                             0.118250                      0   \n",
       "1                             0.047775                      0   \n",
       "2                             0.025346                      0   \n",
       "3                             0.067250                      0   \n",
       "4                             0.047725                      0   \n",
       "\n",
       "   Net Income to Total Assets  Total assets to GNP price  No-credit Interval  \\\n",
       "0                    0.716845                   0.009219            0.622879   \n",
       "1                    0.795297                   0.008323            0.623652   \n",
       "2                    0.774670                   0.040003            0.623841   \n",
       "3                    0.739555                   0.003252            0.622929   \n",
       "4                    0.795016                   0.003878            0.623521   \n",
       "\n",
       "   Gross Profit to Sales  Net Income to Stockholders Equity  \\\n",
       "0               0.601453                           0.827890   \n",
       "1               0.610237                           0.839969   \n",
       "2               0.601449                           0.836774   \n",
       "3               0.583538                           0.834697   \n",
       "4               0.598782                           0.839973   \n",
       "\n",
       "   Liability to Equity  Degree of Financial Leverage (DFL)  \\\n",
       "0             0.290202                            0.026601   \n",
       "1             0.283846                            0.264577   \n",
       "2             0.290189                            0.026555   \n",
       "3             0.281721                            0.026697   \n",
       "4             0.278514                            0.024752   \n",
       "\n",
       "   Interest Coverage Ratio (Interest expense to EBIT)  Net Income Flag  \\\n",
       "0                                           0.564050                 1   \n",
       "1                                           0.570175                 1   \n",
       "2                                           0.563706                 1   \n",
       "3                                           0.564663                 1   \n",
       "4                                           0.575617                 1   \n",
       "\n",
       "   Equity to Liability  \n",
       "0             0.016469  \n",
       "1             0.020794  \n",
       "2             0.016474  \n",
       "3             0.023982  \n",
       "4             0.035490  "
      ]
     },
     "metadata": {},
     "output_type": "display_data"
    }
   ],
   "source": [
    "import pandas as pd\n",
    "import numpy as np\n",
    "\n",
    "# Visualisation\n",
    "import seaborn as sns\n",
    "import plotly.express as px\n",
    "import matplotlib.pyplot as plt\n",
    "\n",
    "# model\n",
    "from sklearn.linear_model import LogisticRegression\n",
    "from sklearn.metrics import accuracy_score, precision_score, recall_score, f1_score, \\\n",
    "    confusion_matrix, classification_report\n",
    "from sklearn.model_selection import learning_curve\n",
    "from sklearn import datasets, metrics, model_selection, svm\n",
    "from sklearn.base import TransformerMixin, BaseEstimator\n",
    "\n",
    "from sklearn.svm import SVC \n",
    "from sklearn.neighbors import KNeighborsClassifier\n",
    "from sklearn.linear_model import SGDClassifier\n",
    "from sklearn.ensemble import RandomForestClassifier\n",
    "\n",
    "from sklearn.ensemble import BaggingClassifier\n",
    "from sklearn.datasets import make_classification\n",
    "\n",
    "from sklearn.ensemble import AdaBoostClassifier\n",
    "\n",
    "from sklearn.ensemble import StackingClassifier\n",
    "\n",
    "# Holdout\n",
    "from sklearn.model_selection import train_test_split\n",
    "\n",
    "# Feature permutation\n",
    "from sklearn.inspection import permutation_importance\n",
    "\n",
    "# Scaling\n",
    "from sklearn.preprocessing import StandardScaler, RobustScaler, MinMaxScaler\n",
    "\n",
    "# Pipelines\n",
    "from sklearn.compose import ColumnTransformer\n",
    "from sklearn.preprocessing import FunctionTransformer\n",
    "from sklearn.pipeline import Pipeline\n",
    "from sklearn.pipeline import FeatureUnion\n",
    "from sklearn import set_config; set_config(display='diagram') # Pour visualiser \n",
    "\n",
    "# PCA\n",
    "from sklearn.decomposition import PCA\n",
    "from sklearn import decomposition\n",
    "from sklearn import preprocessing\n",
    "from mlxtend.plotting import plot_pca_correlation_graph\n",
    "\n",
    "# GridSearch\n",
    "from sklearn.model_selection import GridSearchCV\n",
    "\n",
    "# Par fit \n",
    "import parfit.parfit as pf\n",
    "\n",
    "\n",
    "df_raw = pd.read_csv('data/data.csv')\n",
    "df_raw = df_raw.rename(columns=lambda x: x.strip()) #enlever espace blanc\n",
    "df_raw = df_raw.rename(columns={\"Net Income to Stockholder's Equity\": 'Net Income to Stockholders Equity'})\n",
    "df_raw = df_raw.drop_duplicates() # Duplicates\n",
    "pd.options.display.max_columns = None\n",
    "display(df_raw.head())"
   ]
  },
  {
   "cell_type": "markdown",
   "id": "3b2a9773",
   "metadata": {},
   "source": [
    "# EDA"
   ]
  },
  {
   "cell_type": "markdown",
   "id": "6f949402",
   "metadata": {},
   "source": [
    "## Visualisations"
   ]
  },
  {
   "cell_type": "code",
   "execution_count": null,
   "id": "f8873cf6",
   "metadata": {},
   "outputs": [],
   "source": [
    "# Montrer que le dataset n'est pas balancé \n",
    "# Montrer en fonction du revenue ? "
   ]
  },
  {
   "cell_type": "markdown",
   "id": "c19fd13b",
   "metadata": {},
   "source": [
    "## Premières infos"
   ]
  },
  {
   "cell_type": "code",
   "execution_count": null,
   "id": "1a4d9e5d",
   "metadata": {},
   "outputs": [],
   "source": [
    "# colonnes num/cat   et   shape / observation  et   missing values\n",
    "print(df_raw.info())\n",
    "df_raw.describe()\n",
    "# Il n'y a pas de null / 96 colonnes pour 6819 lignes / 3 int64 + 93 float(64)\n",
    "# De nombreuses colonnes ont des valeurs max et min suspectes\n",
    "\n",
    "# df.isnull().sum()\n",
    "# df.isna().sum()\n",
    "# Pas de valeurs null ou NaN"
   ]
  },
  {
   "cell_type": "markdown",
   "id": "e2c9786b",
   "metadata": {
    "heading_collapsed": true
   },
   "source": [
    "## Outliers"
   ]
  },
  {
   "cell_type": "markdown",
   "id": "51a64b80",
   "metadata": {
    "heading_collapsed": true
   },
   "source": [
    "## Distribution"
   ]
  },
  {
   "cell_type": "code",
   "execution_count": null,
   "id": "cbc84a12",
   "metadata": {
    "hidden": true
   },
   "outputs": [],
   "source": [
    "# Distribution gaussienne pour toutes les features (RAS)\n",
    "# Operating Profit Rate / Operating Expense Rate (beaucoup de zero)\n",
    "\n",
    "# df['Net Income Flag'].value_counts() = Il n'y a que des 1 / drop\n",
    "\n",
    "# Liability-Assets Flag = 0.14 de corrélation / 8 valeur en 1 dont 6 qui influence bankrupt en 1 / On laisse la colonne pour l'instant\n",
    "# df_new = df[(df['Interest-bearing debt interest rate']>0.01) & (df['Liability-Assets Flag']<0.99)]\n",
    "# df_new = df \n",
    "# print(df_new['Liability-Assets Flag'].value_counts())\n",
    "# print(df_new['Bankrupt?'].value_counts())\n",
    "# print(df_new.shape)\n",
    "\n",
    "\n",
    "for col in df:\n",
    "    plt.figure()\n",
    "    sns.distplot(df[col], kde=True)"
   ]
  },
  {
   "cell_type": "markdown",
   "id": "e17aa344",
   "metadata": {
    "heading_collapsed": true
   },
   "source": [
    "## Balancing"
   ]
  },
  {
   "cell_type": "code",
   "execution_count": null,
   "id": "4d4c684f",
   "metadata": {
    "hidden": true
   },
   "outputs": [],
   "source": [
    "df['Bankrupt?'].value_counts()\n",
    "# 6599 - 0 vs 220 - 1 / le dataset n'est pas du tout balancé de base"
   ]
  },
  {
   "cell_type": "markdown",
   "id": "ed5e5e29",
   "metadata": {
    "heading_collapsed": true
   },
   "source": [
    "## Corrélation"
   ]
  },
  {
   "cell_type": "markdown",
   "id": "54bf1376",
   "metadata": {
    "hidden": true
   },
   "source": [
    "### Features"
   ]
  },
  {
   "cell_type": "code",
   "execution_count": null,
   "id": "8847e6c5",
   "metadata": {
    "hidden": true,
    "scrolled": false
   },
   "outputs": [],
   "source": [
    "df.corr().style.background_gradient(cmap='coolwarm')"
   ]
  },
  {
   "cell_type": "markdown",
   "id": "92aa1506",
   "metadata": {
    "hidden": true
   },
   "source": [
    "#### Analyse de la corrélation"
   ]
  },
  {
   "cell_type": "markdown",
   "id": "e8206f9a",
   "metadata": {
    "hidden": true
   },
   "source": [
    "**~~ROA(C) before interest and depreciation before interest~~**  \n",
    "**~~ROA(A) before interest and % after tax~~**  \n",
    "**~~ROA(B) before interest and depreciation after tax~~**  \n",
    "**Net Income to Total Assets**  \n",
    "_Le ROA (Return on assets) permet de mesurer le rapport entre le résultat net et le total des actifs d'une entreprise. C'est un indicateur clé car il exprime la capacité à générer du revenu à partir de ressources._  \n",
    "_Les 3 sont extrémements corrélees (0.94). Peut-être faire une moyenne_  \n",
    "_Corrélation avec Net Income to Total Assets (0.86 pour le C à 0.96 pour le A)_<br><br>\n",
    "\n",
    "**Operating Profit Rate  \n",
    "Pre-tax net Interest Rate  \n",
    "After-tax net Interest Rate  \n",
    "Continuous interest rate (after tax)**  \n",
    "_Les 4 sont corrélees fortement (0.86 à 0.99)_<br><br>\n",
    "\n",
    "**Cash Flow Per Share  \n",
    "Revenue Per Share (Yuan ¥)**  <br><br>\n",
    "\n",
    "**Persistent EPS in the Last Four Seasons  \n",
    "Operating Profit Per Share (Yuan ¥)    \n",
    "Per Share Net profit before tax (Yuan ¥)   \n",
    "Operating profit/Paid-in capital  \n",
    "Net profit before tax/Paid-in capital**  \n",
    "_Les 5 sont corrélees fortement (0.85 pour operating à 0.95 pour share avec persistent)_<br><br>\n",
    "\n",
    "\n",
    "**Borrowing dependency  \n",
    "Current Liabilities/Equity  \n",
    "Current Liabilities/Liability  \n",
    "Liability to Equity**      \n",
    "_Les 4 sont corrélees fortement avec borrowing dependency (0.89 / 0.95 pour la dernière avec Borrowing dependency)_  \n",
    "_Current Liabilities/Equity et Liability to Equity corrélation de 0.96_  <br><br>\n",
    "\n",
    "\n",
    "**Working Capital to Total Assets  \n",
    "Quick Assets/Total Assets  \n",
    "Current Assets/Total Assets  \n",
    "Cash/Total Assets**  \n",
    "_Petite corrélation (0.60 / 0.75 )_<br><br>\n",
    "\n",
    "**Quick Assets/Current Liability  \n",
    "Cash/Current Liability**<br><br>\n",
    "\n",
    "**Current Liability to Assets   \n",
    "Debt ratio %**   \n",
    "_Petite corrélation (0.84)_<br><br>\n",
    "\n",
    "**Operating Funds to Liability  \n",
    "Cash flow rate**  \n",
    "_Petite corrélation (0.88)_<br><br> \n",
    "\n",
    "\n",
    "**Working capitcal Turnover Rate  \n",
    "Cash Flow to Sales**   \n",
    "_Corrélation (0.94)_<br><br>\n",
    "\n",
    "\n",
    "**~~Operating Gross Margin~~**  \n",
    "**~~Realized Sales Gross Margin~~**  \n",
    "**~~Gross Profit to Sales~~**   \n",
    "_Les 3 sont extrémements corrélees (0.99)_<br><br>\n",
    "\n",
    "**~~Current Liability to Liability~~  \n",
    "Current Liabilities/Liability**  \n",
    "_Corrélation de 1_<br><br>\n",
    "\n",
    "**Current Liabilities/Equity   \n",
    "~~Liability to Equity~~    \n",
    "~~Current Liability to Equity~~**    \n",
    "_Corrélation de 1 entre / et to + O.96 entre / et sans current_<br><br>\n",
    "\n",
    "**~~Net Value Per Share (B)~~**  \n",
    "**~~Net Value Per Share (A)~~**  \n",
    "**~~Net Value Per Share (C)~~**  \n",
    "_Les 3 sont extrémements corrélees (0.99)_ <br><br> \n",
    "\n",
    "**Non-industry income and expenditure/revenue   \n",
    "Operating Expense Rate  \n",
    "Research and development expense rate    \n",
    "Interest-bearing debt interest rate    \n",
    "Tax rate (A)  \n",
    "Realized Sales Gross Profit Growth Rate  \n",
    "Operating Profit Growth Rate  \n",
    "After-tax Net Profit Growth Rate  \n",
    "Regular Net Profit Growth Rate  \n",
    "Continuous Net Profit Growth Rate  \n",
    "Total Asset Growth Rate  \n",
    "Net Value Growth Rate  \n",
    "Total Asset Return Growth Rate Ratio \n",
    "Cash Reinvestment %   \n",
    "Current Ratio  \n",
    "Quick Ratio  \n",
    "Interest Expense Ratio  \n",
    "Total debt/Total net worth   \n",
    "Net worth/Assets  \n",
    "Long-term fund suitability ratio (A)  \n",
    "Contingent liabilities/Net worth  \n",
    "Inventory and accounts receivable/Net value  \n",
    "Total Asset Turnover  \n",
    "Accounts Receivable Turnover  \n",
    "Average Collection Days  \n",
    "Inventory Turnover Rate (times)  \n",
    "Fixed Assets Turnover Frequency  \n",
    "Net Worth Turnover Rate (times)  \n",
    "Revenue per person  \n",
    "Operating profit per person  \n",
    "Allocation rate per person  \n",
    "Inventory/Working Capital  \n",
    "Inventory/Current Liability    \n",
    "Working Capital/Equity  \n",
    "Long-term Liability to Current Assets  \n",
    "Retained Earnings to Total Assets  \n",
    "Total income/Total expense  \n",
    "Total expense/Assets  \n",
    "Current Asset Turnover Rate  \n",
    "Quick Asset Turnover Rate  \n",
    "Cash Turnover Rate   \n",
    "Fixed Assets to Assets  \n",
    "Equity to Long-term Liability  \n",
    "Cash Flow to Total Assets  \n",
    "Cash Flow to Liability  \n",
    "CFO to Assets  \n",
    "Cash Flow to Equity  \n",
    "Current Liability to Current Assets  \n",
    "Liability-Assets Flag   \n",
    "Total assets to GNP price  \n",
    "No-credit Interval  \n",
    "Net Income to Stockholder's Equity  \n",
    "Degree of Financial Leverage (DFL)  \n",
    "Interest Coverage Ratio (Interest expense to EBIT)  \n",
    "Net Income Flag  \n",
    "Equity to Liability**  "
   ]
  },
  {
   "cell_type": "markdown",
   "id": "afb3f8a7",
   "metadata": {
    "hidden": true
   },
   "source": [
    "### Target"
   ]
  },
  {
   "cell_type": "code",
   "execution_count": null,
   "id": "5914504c",
   "metadata": {
    "hidden": true
   },
   "outputs": [],
   "source": [
    "# Voir les corrélations avec la target\n",
    "\n",
    "target = df.corr()\n",
    "target = pd.DataFrame(target['Bankrupt?'])\n",
    "target.sort_values(by='Bankrupt?', ascending=False, inplace=True)\n",
    "target\n",
    "\n",
    "\n",
    "df_target = df[['Bankrupt?','Net Value Per Share', 'Net Income to Stockholders Equity', 'Working Capital to Total Assets',\n",
    "                  'Per Share Net profit before tax (Yuan ¥)', 'Debt ratio %', 'Current Liability to Assets', \n",
    "                 'Current Liability to Current Assets', 'Borrowing dependency']]"
   ]
  },
  {
   "cell_type": "code",
   "execution_count": null,
   "id": "f6bd408a",
   "metadata": {
    "hidden": true
   },
   "outputs": [],
   "source": [
    "sns.pairplot(data=df, hue='Bankrupt?')"
   ]
  },
  {
   "cell_type": "markdown",
   "id": "a671b9e2",
   "metadata": {
    "hidden": true
   },
   "source": [
    "#### Analyse de la corrélation"
   ]
  },
  {
   "cell_type": "markdown",
   "id": "2660b750",
   "metadata": {
    "hidden": true
   },
   "source": [
    "**le moins de corrélations (0.00)**  \n",
    "Operating Expense Rate -0.006145  \n",
    "Revenue Per Share (Yuan ¥) -0.003647  \n",
    "Realized Sales Gross Profit Growth Rate 0.009120  \n",
    "Interest Expense Ratio 0.005400  \n",
    "Inventory/Current Liability 0.00082  \n",
    "Long-term Liability to Current Assets 0.000821  \n",
    "Accounts Receivable Turnover -0.003268  \n",
    "Average Collection Days -0.006301  \n",
    "Inventory Turnover Rate (times) -0.001576  \n",
    "Allocation rate per person 0.002762  \n",
    "Quick Assets/Current Liability -0.003860  \n",
    "Inventory/Working Capital -0.003167  \n",
    "Cash Flow to Sales -0.006735  \n",
    "No-credit Interval -0.008626  \n",
    "Interest Coverage Ratio (Interest expense to EBIT) -0.007208  \n",
    "\n",
    "**Plus de corrélations**   \n",
    "Net Value Per Share -0.180462  \n",
    "Net Income to Stockholders Equity -0.182086  \n",
    "Working Capital to Total Assets -0.198057  \n",
    "Per Share Net profit before tax (Yuan ¥) -0.210435  \n",
    "Net profit before tax/Paid-in capital -0.216158  \n",
    "Persistent EPS in the Last Four Seasons -0.231273  \n",
    "Retained Earnings to Total Assets -0.255450  \n",
    "Net worth/Assets -0.257321  \n",
    "ROA -0.284310  \n",
    "Net Income to Total Assets -0.335542  \n",
    "\n",
    "Debt ratio % 0.257321  \n",
    "Current Liability to Assets 0.201234  \n",
    "Current Liability to Current Assets 0.193670  \n",
    "Borrowing dependency 0.176481  \n",
    "Total expense/Assets 0.158928  \n",
    "Current Liabilities/Equity 0.154425  \n",
    "Liability-Assets Flag 0.149617  \n"
   ]
  },
  {
   "cell_type": "markdown",
   "id": "5b7bad3a",
   "metadata": {},
   "source": [
    "# Undersampling Preprocessing"
   ]
  },
  {
   "cell_type": "markdown",
   "id": "18df3327",
   "metadata": {
    "heading_collapsed": true
   },
   "source": [
    "## Hold out et baseline model"
   ]
  },
  {
   "cell_type": "code",
   "execution_count": null,
   "id": "e1e822d1",
   "metadata": {
    "hidden": true
   },
   "outputs": [],
   "source": [
    "df1 = df_raw[(df_raw['Bankrupt?'] == 0)]\n",
    "df1 = df1.sample(n=220,random_state=1)\n",
    "\n",
    "df2 = df_raw[(df_raw['Bankrupt?'] == 1)]\n",
    "\n",
    "df_model1 = df1.append(df2)\n",
    "\n",
    "X = df_model1.drop(['Bankrupt?'], axis=1)\n",
    "y = df_model1['Bankrupt?']\n",
    "\n",
    "X_train, X_test, y_train, y_test = train_test_split(X, y, test_size=.3, random_state=1)\n",
    "\n",
    "model = LogisticRegression()\n",
    "\n",
    "model.fit(X_train, y_train)\n",
    "\n",
    "y_pred = model.predict(X_test)\n",
    "\n",
    "print(model.score(X_test,y_test))\n",
    "print(classification_report(y_test, y_pred))\n",
    "\n",
    "\n",
    "def plot_confusion_matrix(y, y_pred):\n",
    "     cm = confusion_matrix(y, y_pred)\n",
    "     sns.heatmap(cm, annot=True, fmt=\".0f\")\n",
    "     plt.xlabel('y_pred')\n",
    "     plt.ylabel('y')\n",
    "     plt.show()\n",
    "\n",
    "plot_confusion_matrix(y_test, y_pred)"
   ]
  },
  {
   "cell_type": "markdown",
   "id": "0c1ef5af",
   "metadata": {
    "heading_collapsed": true
   },
   "source": [
    "## Modèle 1 = datacleaning"
   ]
  },
  {
   "cell_type": "code",
   "execution_count": 2,
   "id": "a46d1aa9",
   "metadata": {
    "hidden": true
   },
   "outputs": [
    {
     "name": "stdout",
     "output_type": "stream",
     "text": [
      "0.5757575757575758\n",
      "              precision    recall  f1-score   support\n",
      "\n",
      "           0       0.53      0.74      0.62        61\n",
      "           1       0.66      0.44      0.53        71\n",
      "\n",
      "    accuracy                           0.58       132\n",
      "   macro avg       0.59      0.59      0.57       132\n",
      "weighted avg       0.60      0.58      0.57       132\n",
      "\n"
     ]
    },
    {
     "data": {
      "image/png": "[encoded data removed]",
      "text/plain": [
       "<Figure size 432x288 with 2 Axes>"
      ]
     },
     "metadata": {
      "needs_background": "light"
     },
     "output_type": "display_data"
    }
   ],
   "source": [
    "df = df_raw\n",
    "\n",
    "# Aucunes missing Values (Drop / SimpleImputer) et duplicates\n",
    "\n",
    "# Moyenne de certaines colonnes après avoir vu les corrélations dans le dataset\n",
    "df['ROA'] = (df[['ROA(C) before interest and depreciation before interest', 'ROA(A) before interest and % after tax',\n",
    "                 'ROA(B) before interest and depreciation after tax']].sum(axis=1))/3\n",
    "\n",
    "df['Margin'] = (df[['Operating Gross Margin', 'Realized Sales Gross Margin',\n",
    "                 'Gross Profit to Sales']].sum(axis=1))/3\n",
    "\n",
    "df['Net Value Per Share'] = (df[['Net Value Per Share (B)', 'Net Value Per Share (A)',\n",
    "                 'Net Value Per Share (C)']].sum(axis=1))/3\n",
    "\n",
    "#drop de colonnes avec une forte corrélation + 'Net Income Flag' qui est inutile\n",
    "df = df.drop(['Current Liability to Liability', 'Liability to Equity', 'Current Liability to Equity', \n",
    "             'ROA(C) before interest and depreciation before interest', 'ROA(A) before interest and % after tax',\n",
    "             'ROA(B) before interest and depreciation after tax', 'Operating Gross Margin', 'Realized Sales Gross Margin',\n",
    "             'Gross Profit to Sales', 'Net Value Per Share (B)' , 'Net Value Per Share (A)',\n",
    "             'Net Value Per Share (C)','Net Income Flag'], axis=1)\n",
    "\n",
    "\n",
    "df3 = df[(df['Bankrupt?'] == 0)]\n",
    "df3 = df3.sample(n=220,random_state=1)\n",
    "\n",
    "df4 = df[(df['Bankrupt?'] == 1)]\n",
    "\n",
    "df_model2 = df3.append(df4)\n",
    "\n",
    "model = LogisticRegression()\n",
    "\n",
    "X = df_model2.drop(['Bankrupt?'], axis=1)\n",
    "y = df_model2['Bankrupt?']\n",
    "\n",
    "X_train, X_test, y_train, y_test = train_test_split(X, y, test_size=.3, random_state=1)\n",
    "\n",
    "model.fit(X_train, y_train)\n",
    "\n",
    "y_pred = model.predict(X_test)\n",
    "\n",
    "print(model.score(X_test,y_test))\n",
    "print(classification_report(y_test, y_pred))\n",
    "\n",
    "\n",
    "def plot_confusion_matrix(y, y_pred):\n",
    "     cm = confusion_matrix(y, y_pred)\n",
    "     sns.heatmap(cm, annot=True, fmt=\".0f\")\n",
    "     plt.xlabel('y_pred')\n",
    "     plt.ylabel('y')\n",
    "     plt.show()\n",
    "\n",
    "plot_confusion_matrix(y_test, y_pred)"
   ]
  },
  {
   "cell_type": "markdown",
   "id": "6b96f5ed",
   "metadata": {
    "heading_collapsed": true
   },
   "source": [
    "## Modèle 1bis = Feature permutation"
   ]
  },
  {
   "cell_type": "markdown",
   "id": "3ee3edfc",
   "metadata": {
    "heading_collapsed": true,
    "hidden": true
   },
   "source": [
    "### test FP"
   ]
  },
  {
   "cell_type": "code",
   "execution_count": 3,
   "id": "441268e1",
   "metadata": {
    "hidden": true
   },
   "outputs": [
    {
     "data": {
      "text/html": [
       "<div><div id=400c8981-084e-4057-9831-9c9fb6f28393 style=\"display:none; background-color:#9D6CFF; color:white; width:200px; height:30px; padding-left:5px; border-radius:4px; flex-direction:row; justify-content:space-around; align-items:center;\" onmouseover=\"this.style.backgroundColor='#BA9BF8'\" onmouseout=\"this.style.backgroundColor='#9D6CFF'\" onclick=\"window.commands?.execute('create-mitosheet-from-dataframe-output');\">See Full Dataframe in Mito</div> <script> if (window.commands.hasCommand('create-mitosheet-from-dataframe-output')) document.getElementById('400c8981-084e-4057-9831-9c9fb6f28393').style.display = 'flex' </script> <table border=\"1\" class=\"dataframe\">\n",
       "  <thead>\n",
       "    <tr style=\"text-align: right;\">\n",
       "      <th></th>\n",
       "      <th>feature</th>\n",
       "      <th>feature importance</th>\n",
       "    </tr>\n",
       "  </thead>\n",
       "  <tbody>\n",
       "    <tr>\n",
       "      <th>20</th>\n",
       "      <td>Total Asset Growth Rate</td>\n",
       "      <td>0.071972</td>\n",
       "    </tr>\n",
       "    <tr>\n",
       "      <th>65</th>\n",
       "      <td>Cash Turnover Rate</td>\n",
       "      <td>0.056197</td>\n",
       "    </tr>\n",
       "    <tr>\n",
       "      <th>6</th>\n",
       "      <td>Research and development expense rate</td>\n",
       "      <td>0.044789</td>\n",
       "    </tr>\n",
       "    <tr>\n",
       "      <th>39</th>\n",
       "      <td>Inventory Turnover Rate (times)</td>\n",
       "      <td>0.026056</td>\n",
       "    </tr>\n",
       "    <tr>\n",
       "      <th>62</th>\n",
       "      <td>Current Asset Turnover Rate</td>\n",
       "      <td>0.020563</td>\n",
       "    </tr>\n",
       "    <tr>\n",
       "      <th>40</th>\n",
       "      <td>Fixed Assets Turnover Frequency</td>\n",
       "      <td>0.020141</td>\n",
       "    </tr>\n",
       "    <tr>\n",
       "      <th>8</th>\n",
       "      <td>Interest-bearing debt interest rate</td>\n",
       "      <td>0.011549</td>\n",
       "    </tr>\n",
       "    <tr>\n",
       "      <th>76</th>\n",
       "      <td>Total assets to GNP price</td>\n",
       "      <td>0.006056</td>\n",
       "    </tr>\n",
       "    <tr>\n",
       "      <th>55</th>\n",
       "      <td>Current Liabilities/Liability</td>\n",
       "      <td>0.0</td>\n",
       "    </tr>\n",
       "    <tr>\n",
       "      <th>61</th>\n",
       "      <td>Total expense/Assets</td>\n",
       "      <td>0.0</td>\n",
       "    </tr>\n",
       "    <tr>\n",
       "      <th>60</th>\n",
       "      <td>Total income/Total expense</td>\n",
       "      <td>0.0</td>\n",
       "    </tr>\n",
       "    <tr>\n",
       "      <th>59</th>\n",
       "      <td>Retained Earnings to Total Assets</td>\n",
       "      <td>0.0</td>\n",
       "    </tr>\n",
       "    <tr>\n",
       "      <th>57</th>\n",
       "      <td>Current Liabilities/Equity</td>\n",
       "      <td>0.0</td>\n",
       "    </tr>\n",
       "    <tr>\n",
       "      <th>56</th>\n",
       "      <td>Working Capital/Equity</td>\n",
       "      <td>0.0</td>\n",
       "    </tr>\n",
       "    <tr>\n",
       "      <th>0</th>\n",
       "      <td>Operating Profit Rate</td>\n",
       "      <td>0.0</td>\n",
       "    </tr>\n",
       "    <tr>\n",
       "      <th>53</th>\n",
       "      <td>Inventory/Working Capital</td>\n",
       "      <td>0.0</td>\n",
       "    </tr>\n",
       "    <tr>\n",
       "      <th>52</th>\n",
       "      <td>Operating Funds to Liability</td>\n",
       "      <td>0.0</td>\n",
       "    </tr>\n",
       "    <tr>\n",
       "      <th>64</th>\n",
       "      <td>Working capitcal Turnover Rate</td>\n",
       "      <td>0.0</td>\n",
       "    </tr>\n",
       "    <tr>\n",
       "      <th>49</th>\n",
       "      <td>Quick Assets/Current Liability</td>\n",
       "      <td>0.0</td>\n",
       "    </tr>\n",
       "    <tr>\n",
       "      <th>48</th>\n",
       "      <td>Cash/Total Assets</td>\n",
       "      <td>0.0</td>\n",
       "    </tr>\n",
       "    <tr>\n",
       "      <th>47</th>\n",
       "      <td>Current Assets/Total Assets</td>\n",
       "      <td>0.0</td>\n",
       "    </tr>\n",
       "    <tr>\n",
       "      <th>46</th>\n",
       "      <td>Quick Assets/Total Assets</td>\n",
       "      <td>0.0</td>\n",
       "    </tr>\n",
       "    <tr>\n",
       "      <th>45</th>\n",
       "      <td>Working Capital to Total Assets</td>\n",
       "      <td>0.0</td>\n",
       "    </tr>\n",
       "    <tr>\n",
       "      <th>51</th>\n",
       "      <td>Current Liability to Assets</td>\n",
       "      <td>0.0</td>\n",
       "    </tr>\n",
       "    <tr>\n",
       "      <th>67</th>\n",
       "      <td>Fixed Assets to Assets</td>\n",
       "      <td>0.0</td>\n",
       "    </tr>\n",
       "    <tr>\n",
       "      <th>66</th>\n",
       "      <td>Cash Flow to Sales</td>\n",
       "      <td>0.0</td>\n",
       "    </tr>\n",
       "    <tr>\n",
       "      <th>43</th>\n",
       "      <td>Operating profit per person</td>\n",
       "      <td>0.0</td>\n",
       "    </tr>\n",
       "    <tr>\n",
       "      <th>83</th>\n",
       "      <td>Margin</td>\n",
       "      <td>0.0</td>\n",
       "    </tr>\n",
       "    <tr>\n",
       "      <th>82</th>\n",
       "      <td>ROA</td>\n",
       "      <td>0.0</td>\n",
       "    </tr>\n",
       "    <tr>\n",
       "      <th>81</th>\n",
       "      <td>Equity to Liability</td>\n",
       "      <td>0.0</td>\n",
       "    </tr>\n",
       "    <tr>\n",
       "      <th>...</th>\n",
       "      <td>...</td>\n",
       "      <td>...</td>\n",
       "    </tr>\n",
       "    <tr>\n",
       "      <th>12</th>\n",
       "      <td>Revenue Per Share (Yuan ¥)</td>\n",
       "      <td>0.0</td>\n",
       "    </tr>\n",
       "    <tr>\n",
       "      <th>11</th>\n",
       "      <td>Cash Flow Per Share</td>\n",
       "      <td>0.0</td>\n",
       "    </tr>\n",
       "    <tr>\n",
       "      <th>10</th>\n",
       "      <td>Persistent EPS in the Last Four Seasons</td>\n",
       "      <td>0.0</td>\n",
       "    </tr>\n",
       "    <tr>\n",
       "      <th>9</th>\n",
       "      <td>Tax rate (A)</td>\n",
       "      <td>0.0</td>\n",
       "    </tr>\n",
       "    <tr>\n",
       "      <th>7</th>\n",
       "      <td>Cash flow rate</td>\n",
       "      <td>0.0</td>\n",
       "    </tr>\n",
       "    <tr>\n",
       "      <th>4</th>\n",
       "      <td>Continuous interest rate (after tax)</td>\n",
       "      <td>0.0</td>\n",
       "    </tr>\n",
       "    <tr>\n",
       "      <th>3</th>\n",
       "      <td>Non-industry income and expenditure/revenue</td>\n",
       "      <td>0.0</td>\n",
       "    </tr>\n",
       "    <tr>\n",
       "      <th>2</th>\n",
       "      <td>After-tax net Interest Rate</td>\n",
       "      <td>0.0</td>\n",
       "    </tr>\n",
       "    <tr>\n",
       "      <th>23</th>\n",
       "      <td>Cash Reinvestment %</td>\n",
       "      <td>0.0</td>\n",
       "    </tr>\n",
       "    <tr>\n",
       "      <th>24</th>\n",
       "      <td>Current Ratio</td>\n",
       "      <td>0.0</td>\n",
       "    </tr>\n",
       "    <tr>\n",
       "      <th>32</th>\n",
       "      <td>Contingent liabilities/Net worth</td>\n",
       "      <td>0.0</td>\n",
       "    </tr>\n",
       "    <tr>\n",
       "      <th>25</th>\n",
       "      <td>Quick Ratio</td>\n",
       "      <td>0.0</td>\n",
       "    </tr>\n",
       "    <tr>\n",
       "      <th>38</th>\n",
       "      <td>Average Collection Days</td>\n",
       "      <td>0.0</td>\n",
       "    </tr>\n",
       "    <tr>\n",
       "      <th>37</th>\n",
       "      <td>Accounts Receivable Turnover</td>\n",
       "      <td>0.0</td>\n",
       "    </tr>\n",
       "    <tr>\n",
       "      <th>36</th>\n",
       "      <td>Total Asset Turnover</td>\n",
       "      <td>0.0</td>\n",
       "    </tr>\n",
       "    <tr>\n",
       "      <th>35</th>\n",
       "      <td>Inventory and accounts receivable/Net value</td>\n",
       "      <td>0.0</td>\n",
       "    </tr>\n",
       "    <tr>\n",
       "      <th>34</th>\n",
       "      <td>Net profit before tax/Paid-in capital</td>\n",
       "      <td>0.0</td>\n",
       "    </tr>\n",
       "    <tr>\n",
       "      <th>33</th>\n",
       "      <td>Operating profit/Paid-in capital</td>\n",
       "      <td>0.0</td>\n",
       "    </tr>\n",
       "    <tr>\n",
       "      <th>84</th>\n",
       "      <td>Net Value Per Share</td>\n",
       "      <td>0.0</td>\n",
       "    </tr>\n",
       "    <tr>\n",
       "      <th>31</th>\n",
       "      <td>Borrowing dependency</td>\n",
       "      <td>0.0</td>\n",
       "    </tr>\n",
       "    <tr>\n",
       "      <th>30</th>\n",
       "      <td>Long-term fund suitability ratio (A)</td>\n",
       "      <td>0.0</td>\n",
       "    </tr>\n",
       "    <tr>\n",
       "      <th>29</th>\n",
       "      <td>Net worth/Assets</td>\n",
       "      <td>0.0</td>\n",
       "    </tr>\n",
       "    <tr>\n",
       "      <th>28</th>\n",
       "      <td>Debt ratio %</td>\n",
       "      <td>0.0</td>\n",
       "    </tr>\n",
       "    <tr>\n",
       "      <th>27</th>\n",
       "      <td>Total debt/Total net worth</td>\n",
       "      <td>0.0</td>\n",
       "    </tr>\n",
       "    <tr>\n",
       "      <th>26</th>\n",
       "      <td>Interest Expense Ratio</td>\n",
       "      <td>0.0</td>\n",
       "    </tr>\n",
       "    <tr>\n",
       "      <th>5</th>\n",
       "      <td>Operating Expense Rate</td>\n",
       "      <td>-0.002254</td>\n",
       "    </tr>\n",
       "    <tr>\n",
       "      <th>54</th>\n",
       "      <td>Inventory/Current Liability</td>\n",
       "      <td>-0.003803</td>\n",
       "    </tr>\n",
       "    <tr>\n",
       "      <th>50</th>\n",
       "      <td>Cash/Current Liability</td>\n",
       "      <td>-0.004507</td>\n",
       "    </tr>\n",
       "    <tr>\n",
       "      <th>58</th>\n",
       "      <td>Long-term Liability to Current Assets</td>\n",
       "      <td>-0.014085</td>\n",
       "    </tr>\n",
       "    <tr>\n",
       "      <th>63</th>\n",
       "      <td>Quick Asset Turnover Rate</td>\n",
       "      <td>-0.017606</td>\n",
       "    </tr>\n",
       "  </tbody>\n",
       "</table></div>"
      ],
      "text/plain": [
       "                                  feature feature importance\n",
       "20                Total Asset Growth Rate           0.071972\n",
       "65                     Cash Turnover Rate           0.056197\n",
       "6   Research and development expense rate           0.044789\n",
       "39        Inventory Turnover Rate (times)           0.026056\n",
       "62            Current Asset Turnover Rate           0.020563\n",
       "..                                    ...                ...\n",
       "5                  Operating Expense Rate          -0.002254\n",
       "54            Inventory/Current Liability          -0.003803\n",
       "50                 Cash/Current Liability          -0.004507\n",
       "58  Long-term Liability to Current Assets          -0.014085\n",
       "63              Quick Asset Turnover Rate          -0.017606\n",
       "\n",
       "[85 rows x 2 columns]"
      ]
     },
     "execution_count": 3,
     "metadata": {},
     "output_type": "execute_result"
    }
   ],
   "source": [
    "df = df_raw\n",
    "\n",
    "# Aucunes missing Values (Drop / SimpleImputer) et duplicates\n",
    "\n",
    "# Moyenne de certaines colonnes après avoir vu les corrélations dans le dataset\n",
    "df['ROA'] = (df[['ROA(C) before interest and depreciation before interest', 'ROA(A) before interest and % after tax',\n",
    "                 'ROA(B) before interest and depreciation after tax']].sum(axis=1))/3\n",
    "\n",
    "df['Margin'] = (df[['Operating Gross Margin', 'Realized Sales Gross Margin',\n",
    "                 'Gross Profit to Sales']].sum(axis=1))/3\n",
    "\n",
    "df['Net Value Per Share'] = (df[['Net Value Per Share (B)', 'Net Value Per Share (A)',\n",
    "                 'Net Value Per Share (C)']].sum(axis=1))/3\n",
    "\n",
    "#drop de colonnes avec une forte corrélation + 'Net Income Flag' qui est inutile\n",
    "df = df.drop(['Current Liability to Liability', 'Liability to Equity', 'Current Liability to Equity', \n",
    "             'ROA(C) before interest and depreciation before interest', 'ROA(A) before interest and % after tax',\n",
    "             'ROA(B) before interest and depreciation after tax', 'Operating Gross Margin', 'Realized Sales Gross Margin',\n",
    "             'Gross Profit to Sales', 'Net Value Per Share (B)' , 'Net Value Per Share (A)',\n",
    "             'Net Value Per Share (C)','Net Income Flag'], axis=1)\n",
    "\n",
    "\n",
    "df3 = df[(df['Bankrupt?'] == 0)]\n",
    "df3 = df3.sample(n=220,random_state=1)\n",
    "\n",
    "df4 = df[(df['Bankrupt?'] == 1)]\n",
    "\n",
    "df_model2 = df3.append(df4)\n",
    "\n",
    "model_fit = LogisticRegression(max_iter=1600).fit(X_train, y_train)\n",
    "\n",
    "X = df_model2.drop(['Bankrupt?'], axis=1)\n",
    "y = df_model2['Bankrupt?']\n",
    "\n",
    "X_train, X_test, y_train, y_test = train_test_split(X, y, test_size=.3, random_state=1)\n",
    "\n",
    "# Autre méthode \n",
    "permutation_score = permutation_importance(model_fit, X_test, y_test, scoring='recall', random_state=3, n_repeats=100) \n",
    "\n",
    "# Unstack results\n",
    "importance_df = pd.DataFrame(np.vstack((X.columns,\n",
    "                                        permutation_score.importances_mean)).T) \n",
    "\n",
    "importance_df.columns=['feature','feature importance']\n",
    "\n",
    "# Order by importance\n",
    "importance_df.sort_values(by=\"feature importance\", ascending = False)"
   ]
  },
  {
   "cell_type": "markdown",
   "id": "bc4e555f",
   "metadata": {
    "hidden": true
   },
   "source": [
    "Total Asset Growth Rate\t0.071972  \n",
    "Cash Turnover Rate\t0.056197  \n",
    "Research and development expense rate\t0.044789  \n",
    "Inventory Turnover Rate (times)\t0.026056  \n",
    "Current Asset Turnover Rate\t0.020563  \n",
    "Fixed Assets Turnover Frequency\t0.020141  \n",
    "Interest-bearing debt interest rate\t0.011549  \n",
    "Total assets to GNP price\t0.006056  \n",
    "<br><br>\n",
    "\n",
    "\n",
    "Operating Expense Rate\t-0.002254\n",
    "Inventory/Current Liability\t-0.003803\n",
    "Cash/Current Liability\t-0.004507\n",
    "Long-term Liability to Current Assets\t-0.014085\n",
    "Quick Asset Turnover Rate\t-0.017606"
   ]
  },
  {
   "cell_type": "markdown",
   "id": "3c7a8ce4",
   "metadata": {
    "heading_collapsed": true,
    "hidden": true
   },
   "source": [
    "### Feature permutation"
   ]
  },
  {
   "cell_type": "code",
   "execution_count": 6,
   "id": "1b662f66",
   "metadata": {
    "hidden": true
   },
   "outputs": [
    {
     "name": "stdout",
     "output_type": "stream",
     "text": [
      "0.5984848484848485\n",
      "              precision    recall  f1-score   support\n",
      "\n",
      "           0       0.55      0.77      0.64        61\n",
      "           1       0.70      0.45      0.55        71\n",
      "\n",
      "    accuracy                           0.60       132\n",
      "   macro avg       0.62      0.61      0.59       132\n",
      "weighted avg       0.63      0.60      0.59       132\n",
      "\n"
     ]
    },
    {
     "data": {
      "image/png": "[encoded data removed]",
      "text/plain": [
       "<Figure size 432x288 with 2 Axes>"
      ]
     },
     "metadata": {
      "needs_background": "light"
     },
     "output_type": "display_data"
    }
   ],
   "source": [
    "df = df_raw\n",
    "\n",
    "# Aucunes missing Values (Drop / SimpleImputer) et duplicates\n",
    "\n",
    "# Moyenne de certaines colonnes après avoir vu les corrélations dans le dataset\n",
    "df['ROA'] = (df[['ROA(C) before interest and depreciation before interest', 'ROA(A) before interest and % after tax',\n",
    "                 'ROA(B) before interest and depreciation after tax']].sum(axis=1))/3\n",
    "\n",
    "df['Margin'] = (df[['Operating Gross Margin', 'Realized Sales Gross Margin',\n",
    "                 'Gross Profit to Sales']].sum(axis=1))/3\n",
    "\n",
    "df['Net Value Per Share'] = (df[['Net Value Per Share (B)', 'Net Value Per Share (A)',\n",
    "                 'Net Value Per Share (C)']].sum(axis=1))/3\n",
    "\n",
    "#drop de colonnes avec une forte corrélation + 'Net Income Flag' qui est inutile\n",
    "df = df.drop(['Current Liability to Liability', 'Liability to Equity', 'Current Liability to Equity', \n",
    "             'ROA(C) before interest and depreciation before interest', 'ROA(A) before interest and % after tax',\n",
    "             'ROA(B) before interest and depreciation after tax', 'Operating Gross Margin', 'Realized Sales Gross Margin',\n",
    "             'Gross Profit to Sales', 'Net Value Per Share (B)' , 'Net Value Per Share (A)',\n",
    "             'Net Value Per Share (C)','Net Income Flag'], axis=1)\n",
    "\n",
    "# df = df[['Total Asset Growth Rate', 'Cash Turnover Rate', 'Research and development expense rate',\n",
    "#          'Inventory Turnover Rate (times)', 'Current Asset Turnover Rate', 'Fixed Assets Turnover Frequency',\n",
    "#          'Interest-bearing debt interest rate', 'Total assets to GNP price', 'Bankrupt?']]\n",
    "\n",
    "df = df.drop(['Long-term Liability to Current Assets', 'Quick Asset Turnover Rate'], axis=1)\n",
    "\n",
    "\n",
    "df3 = df[(df['Bankrupt?'] == 0)]\n",
    "df3 = df3.sample(n=220,random_state=1)\n",
    "\n",
    "df4 = df[(df['Bankrupt?'] == 1)]\n",
    "\n",
    "df_model2 = df3.append(df4)\n",
    "\n",
    "model = LogisticRegression()\n",
    "\n",
    "X = df_model2.drop(['Bankrupt?'], axis=1)\n",
    "y = df_model2['Bankrupt?']\n",
    "\n",
    "X_train, X_test, y_train, y_test = train_test_split(X, y, test_size=.3, random_state=1)\n",
    "\n",
    "model.fit(X_train, y_train)\n",
    "\n",
    "y_pred = model.predict(X_test)\n",
    "\n",
    "print(model.score(X_test,y_test))\n",
    "print(classification_report(y_test, y_pred))\n",
    "\n",
    "\n",
    "def plot_confusion_matrix(y, y_pred):\n",
    "     cm = confusion_matrix(y, y_pred)\n",
    "     sns.heatmap(cm, annot=True, fmt=\".0f\")\n",
    "     plt.xlabel('y_pred')\n",
    "     plt.ylabel('y')\n",
    "     plt.show()\n",
    "\n",
    "plot_confusion_matrix(y_test, y_pred)"
   ]
  },
  {
   "cell_type": "markdown",
   "id": "ba4cf99a",
   "metadata": {
    "hidden": true
   },
   "source": [
    "_Première itération en gardant que les positives : 0.56060  \n",
    "Deuxième itération en supprimant les négatives : 0.56060  \n",
    "3eme itération en supprimant que 'Long-term Liability to Current Assets', 'Quick Asset Turnover Rate' : 0.59848_  "
   ]
  },
  {
   "cell_type": "markdown",
   "id": "a4282c91",
   "metadata": {
    "heading_collapsed": true
   },
   "source": [
    "## Modèle 2 = Scaling"
   ]
  },
  {
   "cell_type": "code",
   "execution_count": 4,
   "id": "bb053230",
   "metadata": {
    "hidden": true
   },
   "outputs": [
    {
     "name": "stdout",
     "output_type": "stream",
     "text": [
      "0.8636363636363636\n",
      "              precision    recall  f1-score   support\n",
      "\n",
      "           0       0.86      0.83      0.84        58\n",
      "           1       0.87      0.89      0.88        74\n",
      "\n",
      "    accuracy                           0.86       132\n",
      "   macro avg       0.86      0.86      0.86       132\n",
      "weighted avg       0.86      0.86      0.86       132\n",
      "\n"
     ]
    },
    {
     "data": {
      "image/png": "[encoded data removed]",
      "text/plain": [
       "<Figure size 432x288 with 2 Axes>"
      ]
     },
     "metadata": {
      "needs_background": "light"
     },
     "output_type": "display_data"
    }
   ],
   "source": [
    "df = df_raw\n",
    "\n",
    "# Aucunes missing Values (Drop / SimpleImputer) et duplicates\n",
    "\n",
    "# Moyenne de certaines colonnes après avoir vu les corrélations dans le dataset\n",
    "df['ROA'] = (df[['ROA(C) before interest and depreciation before interest', 'ROA(A) before interest and % after tax',\n",
    "                 'ROA(B) before interest and depreciation after tax']].sum(axis=1))/3\n",
    "\n",
    "df['Margin'] = (df[['Operating Gross Margin', 'Realized Sales Gross Margin',\n",
    "                 'Gross Profit to Sales']].sum(axis=1))/3\n",
    "\n",
    "df['Net Value Per Share'] = (df[['Net Value Per Share (B)', 'Net Value Per Share (A)',\n",
    "                 'Net Value Per Share (C)']].sum(axis=1))/3\n",
    "\n",
    "#drop de colonnes avec une forte corrélation + 'Net Income Flag' qui est inutile\n",
    "df = df.drop(['Current Liability to Liability', 'Liability to Equity', 'Current Liability to Equity', \n",
    "             'ROA(C) before interest and depreciation before interest', 'ROA(A) before interest and % after tax',\n",
    "             'ROA(B) before interest and depreciation after tax', 'Operating Gross Margin', 'Realized Sales Gross Margin',\n",
    "             'Gross Profit to Sales', 'Net Value Per Share (B)' , 'Net Value Per Share (A)',\n",
    "             'Net Value Per Share (C)','Net Income Flag', 'Long-term Liability to Current Assets', 'Quick Asset Turnover Rate'], axis=1)\n",
    "\n",
    "df5 = df[(df['Bankrupt?'] == 0)]\n",
    "df5 = df.sample(n=220,random_state=1)\n",
    "\n",
    "df6 = df[(df['Bankrupt?'] == 1)]\n",
    "\n",
    "df_model3 = df5.append(df6)\n",
    "\n",
    "LR_model = LogisticRegression()\n",
    "\n",
    "# preprocessor = ColumnTransformer(('scaling', StandardScaler()))\n",
    "\n",
    "LR_pipe = Pipeline([\n",
    "    ('scaling', MinMaxScaler()),\n",
    "    ('LR', LR_model)])\n",
    "\n",
    "X = df_model3.drop(['Bankrupt?'], axis=1)\n",
    "y = df_model3['Bankrupt?']\n",
    "\n",
    "X_train, X_test, y_train, y_test = train_test_split(X, y, test_size=.3, random_state=1)\n",
    "\n",
    "\n",
    "LR_pipe_trained = LR_pipe.fit(X_train,y_train)\n",
    "\n",
    "y_pred = LR_pipe_trained.predict(X_test)\n",
    "    \n",
    "\n",
    "print(LR_pipe_trained.score(X_test,y_test))\n",
    "print(classification_report(y_test, y_pred))\n",
    "\n",
    "def plot_confusion_matrix(y, y_pred):\n",
    "     cm = confusion_matrix(y, y_pred)\n",
    "     sns.heatmap(cm, annot=True, fmt=\".0f\")\n",
    "     plt.xlabel('y_pred')\n",
    "     plt.ylabel('y')\n",
    "     plt.show()\n",
    "\n",
    "plot_confusion_matrix(y_test, y_pred)"
   ]
  },
  {
   "cell_type": "markdown",
   "id": "cb376b7b",
   "metadata": {
    "hidden": true
   },
   "source": [
    "_StandardScaler = 0.8181  \n",
    "RobustScaler = 0.4393  \n",
    "MinMaxScaler = 0.8636_"
   ]
  },
  {
   "cell_type": "markdown",
   "id": "719bb754",
   "metadata": {
    "heading_collapsed": true
   },
   "source": [
    "## Modèle 3 = PCA"
   ]
  },
  {
   "cell_type": "code",
   "execution_count": 13,
   "id": "466ff3b7",
   "metadata": {
    "hidden": true
   },
   "outputs": [
    {
     "data": {
      "application/vnd.plotly.v1+json": {
       "config": {
        "plotlyServerURL": "https://plot.ly"
       },
       "data": [
        {
         "hovertemplate": "variable=0<br>index=%{x}<br>value=%{y}<extra></extra>",
         "legendgroup": "0",
         "line": {
          "color": "#636efa",
          "dash": "solid"
         },
         "marker": {
          "symbol": "circle"
         },
         "mode": "lines",
         "name": "0",
         "orientation": "v",
         "showlegend": true,
         "type": "scatter",
         "x": [
          0,
          1,
          2,
          3,
          4,
          5,
          6,
          7,
          8,
          9,
          10,
          11,
          12,
          13,
          14,
          15,
          16,
          17,
          18,
          19,
          20,
          21,
          22,
          23,
          24,
          25,
          26,
          27,
          28,
          29,
          30,
          31,
          32,
          33,
          34,
          35,
          36,
          37,
          38,
          39,
          40,
          41,
          42,
          43,
          44,
          45,
          46,
          47,
          48,
          49,
          50,
          51,
          52,
          53,
          54,
          55,
          56,
          57,
          58,
          59,
          60,
          61,
          62,
          63,
          64,
          65,
          66,
          67,
          68,
          69,
          70,
          71,
          72,
          73,
          74,
          75,
          76,
          77,
          78,
          79,
          80,
          81,
          82,
          83,
          84,
          85,
          86,
          87,
          88,
          89,
          90,
          91,
          92,
          93,
          94,
          95,
          96,
          97,
          98
         ],
         "xaxis": "x",
         "y": [
          0.2234262434558223,
          0.37878836747141875,
          0.5044615705187987,
          0.6260557597357751,
          0.7360112799657215,
          0.8262844063518074,
          0.9103576803520886,
          0.9795802309824578,
          0.9842826507533496,
          0.9888049817865134,
          0.9924363456573729,
          0.9944333956675878,
          0.9956422002800901,
          0.9966865103950756,
          0.9975996117989089,
          0.9984063660269239,
          0.9988191195321507,
          0.9992135665963764,
          0.9994740968407757,
          0.9996535871766882,
          0.9998153353904305,
          0.9999530938261029,
          0.9999845540599559,
          1,
          1,
          1,
          1,
          1,
          1,
          1,
          1,
          1,
          1,
          1,
          1,
          1,
          1,
          1,
          1,
          1,
          1,
          1,
          1,
          1,
          1,
          1,
          1,
          1,
          1,
          1,
          1,
          1,
          1,
          1,
          1,
          1,
          1,
          1,
          1,
          1,
          1,
          1,
          1,
          1,
          1,
          1,
          1,
          1,
          1,
          1,
          1,
          1,
          1,
          1,
          1,
          1,
          1,
          1,
          1,
          1,
          1,
          1,
          1,
          1,
          1,
          1,
          1,
          1,
          1,
          1,
          1,
          1,
          1,
          1,
          1,
          1,
          1,
          1,
          1
         ],
         "yaxis": "y"
        }
       ],
       "layout": {
        "legend": {
         "title": {
          "text": "variable"
         },
         "tracegroupgap": 0
        },
        "margin": {
         "t": 60
        },
        "template": {
         "data": {
          "bar": [
           {
            "error_x": {
             "color": "#2a3f5f"
            },
            "error_y": {
             "color": "#2a3f5f"
            },
            "marker": {
             "line": {
              "color": "#E5ECF6",
              "width": 0.5
             },
             "pattern": {
              "fillmode": "overlay",
              "size": 10,
              "solidity": 0.2
             }
            },
            "type": "bar"
           }
          ],
          "barpolar": [
           {
            "marker": {
             "line": {
              "color": "#E5ECF6",
              "width": 0.5
             },
             "pattern": {
              "fillmode": "overlay",
              "size": 10,
              "solidity": 0.2
             }
            },
            "type": "barpolar"
           }
          ],
          "carpet": [
           {
            "aaxis": {
             "endlinecolor": "#2a3f5f",
             "gridcolor": "white",
             "linecolor": "white",
             "minorgridcolor": "white",
             "startlinecolor": "#2a3f5f"
            },
            "baxis": {
             "endlinecolor": "#2a3f5f",
             "gridcolor": "white",
             "linecolor": "white",
             "minorgridcolor": "white",
             "startlinecolor": "#2a3f5f"
            },
            "type": "carpet"
           }
          ],
          "choropleth": [
           {
            "colorbar": {
             "outlinewidth": 0,
             "ticks": ""
            },
            "type": "choropleth"
           }
          ],
          "contour": [
           {
            "colorbar": {
             "outlinewidth": 0,
             "ticks": ""
            },
            "colorscale": [
             [
              0,
              "#0d0887"
             ],
             [
              0.1111111111111111,
              "#46039f"
             ],
             [
              0.2222222222222222,
              "#7201a8"
             ],
             [
              0.3333333333333333,
              "#9c179e"
             ],
             [
              0.4444444444444444,
              "#bd3786"
             ],
             [
              0.5555555555555556,
              "#d8576b"
             ],
             [
              0.6666666666666666,
              "#ed7953"
             ],
             [
              0.7777777777777778,
              "#fb9f3a"
             ],
             [
              0.8888888888888888,
              "#fdca26"
             ],
             [
              1,
              "#f0f921"
             ]
            ],
            "type": "contour"
           }
          ],
          "contourcarpet": [
           {
            "colorbar": {
             "outlinewidth": 0,
             "ticks": ""
            },
            "type": "contourcarpet"
           }
          ],
          "heatmap": [
           {
            "colorbar": {
             "outlinewidth": 0,
             "ticks": ""
            },
            "colorscale": [
             [
              0,
              "#0d0887"
             ],
             [
              0.1111111111111111,
              "#46039f"
             ],
             [
              0.2222222222222222,
              "#7201a8"
             ],
             [
              0.3333333333333333,
              "#9c179e"
             ],
             [
              0.4444444444444444,
              "#bd3786"
             ],
             [
              0.5555555555555556,
              "#d8576b"
             ],
             [
              0.6666666666666666,
              "#ed7953"
             ],
             [
              0.7777777777777778,
              "#fb9f3a"
             ],
             [
              0.8888888888888888,
              "#fdca26"
             ],
             [
              1,
              "#f0f921"
             ]
            ],
            "type": "heatmap"
           }
          ],
          "heatmapgl": [
           {
            "colorbar": {
             "outlinewidth": 0,
             "ticks": ""
            },
            "colorscale": [
             [
              0,
              "#0d0887"
             ],
             [
              0.1111111111111111,
              "#46039f"
             ],
             [
              0.2222222222222222,
              "#7201a8"
             ],
             [
              0.3333333333333333,
              "#9c179e"
             ],
             [
              0.4444444444444444,
              "#bd3786"
             ],
             [
              0.5555555555555556,
              "#d8576b"
             ],
             [
              0.6666666666666666,
              "#ed7953"
             ],
             [
              0.7777777777777778,
              "#fb9f3a"
             ],
             [
              0.8888888888888888,
              "#fdca26"
             ],
             [
              1,
              "#f0f921"
             ]
            ],
            "type": "heatmapgl"
           }
          ],
          "histogram": [
           {
            "marker": {
             "pattern": {
              "fillmode": "overlay",
              "size": 10,
              "solidity": 0.2
             }
            },
            "type": "histogram"
           }
          ],
          "histogram2d": [
           {
            "colorbar": {
             "outlinewidth": 0,
             "ticks": ""
            },
            "colorscale": [
             [
              0,
              "#0d0887"
             ],
             [
              0.1111111111111111,
              "#46039f"
             ],
             [
              0.2222222222222222,
              "#7201a8"
             ],
             [
              0.3333333333333333,
              "#9c179e"
             ],
             [
              0.4444444444444444,
              "#bd3786"
             ],
             [
              0.5555555555555556,
              "#d8576b"
             ],
             [
              0.6666666666666666,
              "#ed7953"
             ],
             [
              0.7777777777777778,
              "#fb9f3a"
             ],
             [
              0.8888888888888888,
              "#fdca26"
             ],
             [
              1,
              "#f0f921"
             ]
            ],
            "type": "histogram2d"
           }
          ],
          "histogram2dcontour": [
           {
            "colorbar": {
             "outlinewidth": 0,
             "ticks": ""
            },
            "colorscale": [
             [
              0,
              "#0d0887"
             ],
             [
              0.1111111111111111,
              "#46039f"
             ],
             [
              0.2222222222222222,
              "#7201a8"
             ],
             [
              0.3333333333333333,
              "#9c179e"
             ],
             [
              0.4444444444444444,
              "#bd3786"
             ],
             [
              0.5555555555555556,
              "#d8576b"
             ],
             [
              0.6666666666666666,
              "#ed7953"
             ],
             [
              0.7777777777777778,
              "#fb9f3a"
             ],
             [
              0.8888888888888888,
              "#fdca26"
             ],
             [
              1,
              "#f0f921"
             ]
            ],
            "type": "histogram2dcontour"
           }
          ],
          "mesh3d": [
           {
            "colorbar": {
             "outlinewidth": 0,
             "ticks": ""
            },
            "type": "mesh3d"
           }
          ],
          "parcoords": [
           {
            "line": {
             "colorbar": {
              "outlinewidth": 0,
              "ticks": ""
             }
            },
            "type": "parcoords"
           }
          ],
          "pie": [
           {
            "automargin": true,
            "type": "pie"
           }
          ],
          "scatter": [
           {
            "marker": {
             "colorbar": {
              "outlinewidth": 0,
              "ticks": ""
             }
            },
            "type": "scatter"
           }
          ],
          "scatter3d": [
           {
            "line": {
             "colorbar": {
              "outlinewidth": 0,
              "ticks": ""
             }
            },
            "marker": {
             "colorbar": {
              "outlinewidth": 0,
              "ticks": ""
             }
            },
            "type": "scatter3d"
           }
          ],
          "scattercarpet": [
           {
            "marker": {
             "colorbar": {
              "outlinewidth": 0,
              "ticks": ""
             }
            },
            "type": "scattercarpet"
           }
          ],
          "scattergeo": [
           {
            "marker": {
             "colorbar": {
              "outlinewidth": 0,
              "ticks": ""
             }
            },
            "type": "scattergeo"
           }
          ],
          "scattergl": [
           {
            "marker": {
             "colorbar": {
              "outlinewidth": 0,
              "ticks": ""
             }
            },
            "type": "scattergl"
           }
          ],
          "scattermapbox": [
           {
            "marker": {
             "colorbar": {
              "outlinewidth": 0,
              "ticks": ""
             }
            },
            "type": "scattermapbox"
           }
          ],
          "scatterpolar": [
           {
            "marker": {
             "colorbar": {
              "outlinewidth": 0,
              "ticks": ""
             }
            },
            "type": "scatterpolar"
           }
          ],
          "scatterpolargl": [
           {
            "marker": {
             "colorbar": {
              "outlinewidth": 0,
              "ticks": ""
             }
            },
            "type": "scatterpolargl"
           }
          ],
          "scatterternary": [
           {
            "marker": {
             "colorbar": {
              "outlinewidth": 0,
              "ticks": ""
             }
            },
            "type": "scatterternary"
           }
          ],
          "surface": [
           {
            "colorbar": {
             "outlinewidth": 0,
             "ticks": ""
            },
            "colorscale": [
             [
              0,
              "#0d0887"
             ],
             [
              0.1111111111111111,
              "#46039f"
             ],
             [
              0.2222222222222222,
              "#7201a8"
             ],
             [
              0.3333333333333333,
              "#9c179e"
             ],
             [
              0.4444444444444444,
              "#bd3786"
             ],
             [
              0.5555555555555556,
              "#d8576b"
             ],
             [
              0.6666666666666666,
              "#ed7953"
             ],
             [
              0.7777777777777778,
              "#fb9f3a"
             ],
             [
              0.8888888888888888,
              "#fdca26"
             ],
             [
              1,
              "#f0f921"
             ]
            ],
            "type": "surface"
           }
          ],
          "table": [
           {
            "cells": {
             "fill": {
              "color": "#EBF0F8"
             },
             "line": {
              "color": "white"
             }
            },
            "header": {
             "fill": {
              "color": "#C8D4E3"
             },
             "line": {
              "color": "white"
             }
            },
            "type": "table"
           }
          ]
         },
         "layout": {
          "annotationdefaults": {
           "arrowcolor": "#2a3f5f",
           "arrowhead": 0,
           "arrowwidth": 1
          },
          "autotypenumbers": "strict",
          "coloraxis": {
           "colorbar": {
            "outlinewidth": 0,
            "ticks": ""
           }
          },
          "colorscale": {
           "diverging": [
            [
             0,
             "#8e0152"
            ],
            [
             0.1,
             "#c51b7d"
            ],
            [
             0.2,
             "#de77ae"
            ],
            [
             0.3,
             "#f1b6da"
            ],
            [
             0.4,
             "#fde0ef"
            ],
            [
             0.5,
             "#f7f7f7"
            ],
            [
             0.6,
             "#e6f5d0"
            ],
            [
             0.7,
             "#b8e186"
            ],
            [
             0.8,
             "#7fbc41"
            ],
            [
             0.9,
             "#4d9221"
            ],
            [
             1,
             "#276419"
            ]
           ],
           "sequential": [
            [
             0,
             "#0d0887"
            ],
            [
             0.1111111111111111,
             "#46039f"
            ],
            [
             0.2222222222222222,
             "#7201a8"
            ],
            [
             0.3333333333333333,
             "#9c179e"
            ],
            [
             0.4444444444444444,
             "#bd3786"
            ],
            [
             0.5555555555555556,
             "#d8576b"
            ],
            [
             0.6666666666666666,
             "#ed7953"
            ],
            [
             0.7777777777777778,
             "#fb9f3a"
            ],
            [
             0.8888888888888888,
             "#fdca26"
            ],
            [
             1,
             "#f0f921"
            ]
           ],
           "sequentialminus": [
            [
             0,
             "#0d0887"
            ],
            [
             0.1111111111111111,
             "#46039f"
            ],
            [
             0.2222222222222222,
             "#7201a8"
            ],
            [
             0.3333333333333333,
             "#9c179e"
            ],
            [
             0.4444444444444444,
             "#bd3786"
            ],
            [
             0.5555555555555556,
             "#d8576b"
            ],
            [
             0.6666666666666666,
             "#ed7953"
            ],
            [
             0.7777777777777778,
             "#fb9f3a"
            ],
            [
             0.8888888888888888,
             "#fdca26"
            ],
            [
             1,
             "#f0f921"
            ]
           ]
          },
          "colorway": [
           "#636efa",
           "#EF553B",
           "#00cc96",
           "#ab63fa",
           "#FFA15A",
           "#19d3f3",
           "#FF6692",
           "#B6E880",
           "#FF97FF",
           "#FECB52"
          ],
          "font": {
           "color": "#2a3f5f"
          },
          "geo": {
           "bgcolor": "white",
           "lakecolor": "white",
           "landcolor": "#E5ECF6",
           "showlakes": true,
           "showland": true,
           "subunitcolor": "white"
          },
          "hoverlabel": {
           "align": "left"
          },
          "hovermode": "closest",
          "mapbox": {
           "style": "light"
          },
          "paper_bgcolor": "white",
          "plot_bgcolor": "#E5ECF6",
          "polar": {
           "angularaxis": {
            "gridcolor": "white",
            "linecolor": "white",
            "ticks": ""
           },
           "bgcolor": "#E5ECF6",
           "radialaxis": {
            "gridcolor": "white",
            "linecolor": "white",
            "ticks": ""
           }
          },
          "scene": {
           "xaxis": {
            "backgroundcolor": "#E5ECF6",
            "gridcolor": "white",
            "gridwidth": 2,
            "linecolor": "white",
            "showbackground": true,
            "ticks": "",
            "zerolinecolor": "white"
           },
           "yaxis": {
            "backgroundcolor": "#E5ECF6",
            "gridcolor": "white",
            "gridwidth": 2,
            "linecolor": "white",
            "showbackground": true,
            "ticks": "",
            "zerolinecolor": "white"
           },
           "zaxis": {
            "backgroundcolor": "#E5ECF6",
            "gridcolor": "white",
            "gridwidth": 2,
            "linecolor": "white",
            "showbackground": true,
            "ticks": "",
            "zerolinecolor": "white"
           }
          },
          "shapedefaults": {
           "line": {
            "color": "#2a3f5f"
           }
          },
          "ternary": {
           "aaxis": {
            "gridcolor": "white",
            "linecolor": "white",
            "ticks": ""
           },
           "baxis": {
            "gridcolor": "white",
            "linecolor": "white",
            "ticks": ""
           },
           "bgcolor": "#E5ECF6",
           "caxis": {
            "gridcolor": "white",
            "linecolor": "white",
            "ticks": ""
           }
          },
          "title": {
           "x": 0.05
          },
          "xaxis": {
           "automargin": true,
           "gridcolor": "white",
           "linecolor": "white",
           "ticks": "",
           "title": {
            "standoff": 15
           },
           "zerolinecolor": "white",
           "zerolinewidth": 2
          },
          "yaxis": {
           "automargin": true,
           "gridcolor": "white",
           "linecolor": "white",
           "ticks": "",
           "title": {
            "standoff": 15
           },
           "zerolinecolor": "white",
           "zerolinewidth": 2
          }
         }
        },
        "xaxis": {
         "anchor": "y",
         "domain": [
          0,
          1
         ],
         "title": {
          "text": "index"
         }
        },
        "yaxis": {
         "anchor": "x",
         "domain": [
          0,
          1
         ],
         "title": {
          "text": "value"
         }
        }
       }
      },
      "text/html": [
       "<div>                            <div id=\"dcea627b-09b7-40bd-badf-295be5f1e0d5\" class=\"plotly-graph-div\" style=\"height:525px; width:100%;\"></div>            <script type=\"text/javascript\">                require([\"plotly\"], function(Plotly) {                    window.PLOTLYENV=window.PLOTLYENV || {};                                    if (document.getElementById(\"dcea627b-09b7-40bd-badf-295be5f1e0d5\")) {                    Plotly.newPlot(                        \"dcea627b-09b7-40bd-badf-295be5f1e0d5\",                        [{\"hovertemplate\":\"variable=0<br>index=%{x}<br>value=%{y}<extra></extra>\",\"legendgroup\":\"0\",\"line\":{\"color\":\"#636efa\",\"dash\":\"solid\"},\"marker\":{\"symbol\":\"circle\"},\"mode\":\"lines\",\"name\":\"0\",\"orientation\":\"v\",\"showlegend\":true,\"type\":\"scatter\",\"x\":[0,1,2,3,4,5,6,7,8,9,10,11,12,13,14,15,16,17,18,19,20,21,22,23,24,25,26,27,28,29,30,31,32,33,34,35,36,37,38,39,40,41,42,43,44,45,46,47,48,49,50,51,52,53,54,55,56,57,58,59,60,61,62,63,64,65,66,67,68,69,70,71,72,73,74,75,76,77,78,79,80,81,82,83,84,85,86,87,88,89,90,91,92,93,94,95,96,97,98],\"xaxis\":\"x\",\"y\":[0.2234262434558223,0.37878836747141875,0.5044615705187987,0.6260557597357751,0.7360112799657215,0.8262844063518074,0.9103576803520886,0.9795802309824578,0.9842826507533496,0.9888049817865134,0.9924363456573729,0.9944333956675878,0.9956422002800901,0.9966865103950756,0.9975996117989089,0.9984063660269239,0.9988191195321507,0.9992135665963764,0.9994740968407757,0.9996535871766882,0.9998153353904305,0.9999530938261029,0.9999845540599559,1.0,1.0,1.0,1.0,1.0,1.0,1.0,1.0,1.0,1.0,1.0,1.0,1.0,1.0,1.0,1.0,1.0,1.0,1.0,1.0,1.0,1.0,1.0,1.0,1.0,1.0,1.0,1.0,1.0,1.0,1.0,1.0,1.0,1.0,1.0,1.0,1.0,1.0,1.0,1.0,1.0,1.0,1.0,1.0,1.0,1.0,1.0,1.0,1.0,1.0,1.0,1.0,1.0,1.0,1.0,1.0,1.0,1.0,1.0,1.0,1.0,1.0,1.0,1.0,1.0,1.0,1.0,1.0,1.0,1.0,1.0,1.0,1.0,1.0,1.0,1.0],\"yaxis\":\"y\"}],                        {\"legend\":{\"title\":{\"text\":\"variable\"},\"tracegroupgap\":0},\"margin\":{\"t\":60},\"template\":{\"data\":{\"bar\":[{\"error_x\":{\"color\":\"#2a3f5f\"},\"error_y\":{\"color\":\"#2a3f5f\"},\"marker\":{\"line\":{\"color\":\"#E5ECF6\",\"width\":0.5},\"pattern\":{\"fillmode\":\"overlay\",\"size\":10,\"solidity\":0.2}},\"type\":\"bar\"}],\"barpolar\":[{\"marker\":{\"line\":{\"color\":\"#E5ECF6\",\"width\":0.5},\"pattern\":{\"fillmode\":\"overlay\",\"size\":10,\"solidity\":0.2}},\"type\":\"barpolar\"}],\"carpet\":[{\"aaxis\":{\"endlinecolor\":\"#2a3f5f\",\"gridcolor\":\"white\",\"linecolor\":\"white\",\"minorgridcolor\":\"white\",\"startlinecolor\":\"#2a3f5f\"},\"baxis\":{\"endlinecolor\":\"#2a3f5f\",\"gridcolor\":\"white\",\"linecolor\":\"white\",\"minorgridcolor\":\"white\",\"startlinecolor\":\"#2a3f5f\"},\"type\":\"carpet\"}],\"choropleth\":[{\"colorbar\":{\"outlinewidth\":0,\"ticks\":\"\"},\"type\":\"choropleth\"}],\"contour\":[{\"colorbar\":{\"outlinewidth\":0,\"ticks\":\"\"},\"colorscale\":[[0.0,\"#0d0887\"],[0.1111111111111111,\"#46039f\"],[0.2222222222222222,\"#7201a8\"],[0.3333333333333333,\"#9c179e\"],[0.4444444444444444,\"#bd3786\"],[0.5555555555555556,\"#d8576b\"],[0.6666666666666666,\"#ed7953\"],[0.7777777777777778,\"#fb9f3a\"],[0.8888888888888888,\"#fdca26\"],[1.0,\"#f0f921\"]],\"type\":\"contour\"}],\"contourcarpet\":[{\"colorbar\":{\"outlinewidth\":0,\"ticks\":\"\"},\"type\":\"contourcarpet\"}],\"heatmap\":[{\"colorbar\":{\"outlinewidth\":0,\"ticks\":\"\"},\"colorscale\":[[0.0,\"#0d0887\"],[0.1111111111111111,\"#46039f\"],[0.2222222222222222,\"#7201a8\"],[0.3333333333333333,\"#9c179e\"],[0.4444444444444444,\"#bd3786\"],[0.5555555555555556,\"#d8576b\"],[0.6666666666666666,\"#ed7953\"],[0.7777777777777778,\"#fb9f3a\"],[0.8888888888888888,\"#fdca26\"],[1.0,\"#f0f921\"]],\"type\":\"heatmap\"}],\"heatmapgl\":[{\"colorbar\":{\"outlinewidth\":0,\"ticks\":\"\"},\"colorscale\":[[0.0,\"#0d0887\"],[0.1111111111111111,\"#46039f\"],[0.2222222222222222,\"#7201a8\"],[0.3333333333333333,\"#9c179e\"],[0.4444444444444444,\"#bd3786\"],[0.5555555555555556,\"#d8576b\"],[0.6666666666666666,\"#ed7953\"],[0.7777777777777778,\"#fb9f3a\"],[0.8888888888888888,\"#fdca26\"],[1.0,\"#f0f921\"]],\"type\":\"heatmapgl\"}],\"histogram\":[{\"marker\":{\"pattern\":{\"fillmode\":\"overlay\",\"size\":10,\"solidity\":0.2}},\"type\":\"histogram\"}],\"histogram2d\":[{\"colorbar\":{\"outlinewidth\":0,\"ticks\":\"\"},\"colorscale\":[[0.0,\"#0d0887\"],[0.1111111111111111,\"#46039f\"],[0.2222222222222222,\"#7201a8\"],[0.3333333333333333,\"#9c179e\"],[0.4444444444444444,\"#bd3786\"],[0.5555555555555556,\"#d8576b\"],[0.6666666666666666,\"#ed7953\"],[0.7777777777777778,\"#fb9f3a\"],[0.8888888888888888,\"#fdca26\"],[1.0,\"#f0f921\"]],\"type\":\"histogram2d\"}],\"histogram2dcontour\":[{\"colorbar\":{\"outlinewidth\":0,\"ticks\":\"\"},\"colorscale\":[[0.0,\"#0d0887\"],[0.1111111111111111,\"#46039f\"],[0.2222222222222222,\"#7201a8\"],[0.3333333333333333,\"#9c179e\"],[0.4444444444444444,\"#bd3786\"],[0.5555555555555556,\"#d8576b\"],[0.6666666666666666,\"#ed7953\"],[0.7777777777777778,\"#fb9f3a\"],[0.8888888888888888,\"#fdca26\"],[1.0,\"#f0f921\"]],\"type\":\"histogram2dcontour\"}],\"mesh3d\":[{\"colorbar\":{\"outlinewidth\":0,\"ticks\":\"\"},\"type\":\"mesh3d\"}],\"parcoords\":[{\"line\":{\"colorbar\":{\"outlinewidth\":0,\"ticks\":\"\"}},\"type\":\"parcoords\"}],\"pie\":[{\"automargin\":true,\"type\":\"pie\"}],\"scatter\":[{\"marker\":{\"colorbar\":{\"outlinewidth\":0,\"ticks\":\"\"}},\"type\":\"scatter\"}],\"scatter3d\":[{\"line\":{\"colorbar\":{\"outlinewidth\":0,\"ticks\":\"\"}},\"marker\":{\"colorbar\":{\"outlinewidth\":0,\"ticks\":\"\"}},\"type\":\"scatter3d\"}],\"scattercarpet\":[{\"marker\":{\"colorbar\":{\"outlinewidth\":0,\"ticks\":\"\"}},\"type\":\"scattercarpet\"}],\"scattergeo\":[{\"marker\":{\"colorbar\":{\"outlinewidth\":0,\"ticks\":\"\"}},\"type\":\"scattergeo\"}],\"scattergl\":[{\"marker\":{\"colorbar\":{\"outlinewidth\":0,\"ticks\":\"\"}},\"type\":\"scattergl\"}],\"scattermapbox\":[{\"marker\":{\"colorbar\":{\"outlinewidth\":0,\"ticks\":\"\"}},\"type\":\"scattermapbox\"}],\"scatterpolar\":[{\"marker\":{\"colorbar\":{\"outlinewidth\":0,\"ticks\":\"\"}},\"type\":\"scatterpolar\"}],\"scatterpolargl\":[{\"marker\":{\"colorbar\":{\"outlinewidth\":0,\"ticks\":\"\"}},\"type\":\"scatterpolargl\"}],\"scatterternary\":[{\"marker\":{\"colorbar\":{\"outlinewidth\":0,\"ticks\":\"\"}},\"type\":\"scatterternary\"}],\"surface\":[{\"colorbar\":{\"outlinewidth\":0,\"ticks\":\"\"},\"colorscale\":[[0.0,\"#0d0887\"],[0.1111111111111111,\"#46039f\"],[0.2222222222222222,\"#7201a8\"],[0.3333333333333333,\"#9c179e\"],[0.4444444444444444,\"#bd3786\"],[0.5555555555555556,\"#d8576b\"],[0.6666666666666666,\"#ed7953\"],[0.7777777777777778,\"#fb9f3a\"],[0.8888888888888888,\"#fdca26\"],[1.0,\"#f0f921\"]],\"type\":\"surface\"}],\"table\":[{\"cells\":{\"fill\":{\"color\":\"#EBF0F8\"},\"line\":{\"color\":\"white\"}},\"header\":{\"fill\":{\"color\":\"#C8D4E3\"},\"line\":{\"color\":\"white\"}},\"type\":\"table\"}]},\"layout\":{\"annotationdefaults\":{\"arrowcolor\":\"#2a3f5f\",\"arrowhead\":0,\"arrowwidth\":1},\"autotypenumbers\":\"strict\",\"coloraxis\":{\"colorbar\":{\"outlinewidth\":0,\"ticks\":\"\"}},\"colorscale\":{\"diverging\":[[0,\"#8e0152\"],[0.1,\"#c51b7d\"],[0.2,\"#de77ae\"],[0.3,\"#f1b6da\"],[0.4,\"#fde0ef\"],[0.5,\"#f7f7f7\"],[0.6,\"#e6f5d0\"],[0.7,\"#b8e186\"],[0.8,\"#7fbc41\"],[0.9,\"#4d9221\"],[1,\"#276419\"]],\"sequential\":[[0.0,\"#0d0887\"],[0.1111111111111111,\"#46039f\"],[0.2222222222222222,\"#7201a8\"],[0.3333333333333333,\"#9c179e\"],[0.4444444444444444,\"#bd3786\"],[0.5555555555555556,\"#d8576b\"],[0.6666666666666666,\"#ed7953\"],[0.7777777777777778,\"#fb9f3a\"],[0.8888888888888888,\"#fdca26\"],[1.0,\"#f0f921\"]],\"sequentialminus\":[[0.0,\"#0d0887\"],[0.1111111111111111,\"#46039f\"],[0.2222222222222222,\"#7201a8\"],[0.3333333333333333,\"#9c179e\"],[0.4444444444444444,\"#bd3786\"],[0.5555555555555556,\"#d8576b\"],[0.6666666666666666,\"#ed7953\"],[0.7777777777777778,\"#fb9f3a\"],[0.8888888888888888,\"#fdca26\"],[1.0,\"#f0f921\"]]},\"colorway\":[\"#636efa\",\"#EF553B\",\"#00cc96\",\"#ab63fa\",\"#FFA15A\",\"#19d3f3\",\"#FF6692\",\"#B6E880\",\"#FF97FF\",\"#FECB52\"],\"font\":{\"color\":\"#2a3f5f\"},\"geo\":{\"bgcolor\":\"white\",\"lakecolor\":\"white\",\"landcolor\":\"#E5ECF6\",\"showlakes\":true,\"showland\":true,\"subunitcolor\":\"white\"},\"hoverlabel\":{\"align\":\"left\"},\"hovermode\":\"closest\",\"mapbox\":{\"style\":\"light\"},\"paper_bgcolor\":\"white\",\"plot_bgcolor\":\"#E5ECF6\",\"polar\":{\"angularaxis\":{\"gridcolor\":\"white\",\"linecolor\":\"white\",\"ticks\":\"\"},\"bgcolor\":\"#E5ECF6\",\"radialaxis\":{\"gridcolor\":\"white\",\"linecolor\":\"white\",\"ticks\":\"\"}},\"scene\":{\"xaxis\":{\"backgroundcolor\":\"#E5ECF6\",\"gridcolor\":\"white\",\"gridwidth\":2,\"linecolor\":\"white\",\"showbackground\":true,\"ticks\":\"\",\"zerolinecolor\":\"white\"},\"yaxis\":{\"backgroundcolor\":\"#E5ECF6\",\"gridcolor\":\"white\",\"gridwidth\":2,\"linecolor\":\"white\",\"showbackground\":true,\"ticks\":\"\",\"zerolinecolor\":\"white\"},\"zaxis\":{\"backgroundcolor\":\"#E5ECF6\",\"gridcolor\":\"white\",\"gridwidth\":2,\"linecolor\":\"white\",\"showbackground\":true,\"ticks\":\"\",\"zerolinecolor\":\"white\"}},\"shapedefaults\":{\"line\":{\"color\":\"#2a3f5f\"}},\"ternary\":{\"aaxis\":{\"gridcolor\":\"white\",\"linecolor\":\"white\",\"ticks\":\"\"},\"baxis\":{\"gridcolor\":\"white\",\"linecolor\":\"white\",\"ticks\":\"\"},\"bgcolor\":\"#E5ECF6\",\"caxis\":{\"gridcolor\":\"white\",\"linecolor\":\"white\",\"ticks\":\"\"}},\"title\":{\"x\":0.05},\"xaxis\":{\"automargin\":true,\"gridcolor\":\"white\",\"linecolor\":\"white\",\"ticks\":\"\",\"title\":{\"standoff\":15},\"zerolinecolor\":\"white\",\"zerolinewidth\":2},\"yaxis\":{\"automargin\":true,\"gridcolor\":\"white\",\"linecolor\":\"white\",\"ticks\":\"\",\"title\":{\"standoff\":15},\"zerolinecolor\":\"white\",\"zerolinewidth\":2}}},\"xaxis\":{\"anchor\":\"y\",\"domain\":[0.0,1.0],\"title\":{\"text\":\"index\"}},\"yaxis\":{\"anchor\":\"x\",\"domain\":[0.0,1.0],\"title\":{\"text\":\"value\"}}},                        {\"responsive\": true}                    ).then(function(){\n",
       "                            \n",
       "var gd = document.getElementById('dcea627b-09b7-40bd-badf-295be5f1e0d5');\n",
       "var x = new MutationObserver(function (mutations, observer) {{\n",
       "        var display = window.getComputedStyle(gd).display;\n",
       "        if (!display || display === 'none') {{\n",
       "            console.log([gd, 'removed!']);\n",
       "            Plotly.purge(gd);\n",
       "            observer.disconnect();\n",
       "        }}\n",
       "}});\n",
       "\n",
       "// Listen for the removal of the full notebook cells\n",
       "var notebookContainer = gd.closest('#notebook-container');\n",
       "if (notebookContainer) {{\n",
       "    x.observe(notebookContainer, {childList: true});\n",
       "}}\n",
       "\n",
       "// Listen for the clearing of the current output cell\n",
       "var outputEl = gd.closest('.output');\n",
       "if (outputEl) {{\n",
       "    x.observe(outputEl, {childList: true});\n",
       "}}\n",
       "\n",
       "                        })                };                });            </script>        </div>"
      ]
     },
     "metadata": {},
     "output_type": "display_data"
    }
   ],
   "source": [
    "# pca = PCA()\n",
    "# principal_components = pca.fit_transform(df_raw)\n",
    "# principal_components = pd.DataFrame(data = principal_components)\n",
    "# px.line(np.cumsum(pca.explained_variance_ratio_))\n",
    "\n",
    "# 5 composantes = 0.82\n",
    "# 6 composantes = 0.91"
   ]
  },
  {
   "cell_type": "code",
   "execution_count": 11,
   "id": "85f9989d",
   "metadata": {
    "hidden": true
   },
   "outputs": [
    {
     "name": "stdout",
     "output_type": "stream",
     "text": [
      "0.8636363636363636\n",
      "              precision    recall  f1-score   support\n",
      "\n",
      "           0       0.87      0.81      0.84        58\n",
      "           1       0.86      0.91      0.88        74\n",
      "\n",
      "    accuracy                           0.86       132\n",
      "   macro avg       0.86      0.86      0.86       132\n",
      "weighted avg       0.86      0.86      0.86       132\n",
      "\n"
     ]
    },
    {
     "data": {
      "image/png": "[encoded data removed]",
      "text/plain": [
       "<Figure size 432x288 with 2 Axes>"
      ]
     },
     "metadata": {
      "needs_background": "light"
     },
     "output_type": "display_data"
    }
   ],
   "source": [
    "df = df_raw\n",
    "\n",
    "# Aucunes missing Values (Drop / SimpleImputer) et duplicates\n",
    "\n",
    "# Moyenne de certaines colonnes après avoir vu les corrélations dans le dataset\n",
    "df['ROA'] = (df[['ROA(C) before interest and depreciation before interest', 'ROA(A) before interest and % after tax',\n",
    "                 'ROA(B) before interest and depreciation after tax']].sum(axis=1))/3\n",
    "\n",
    "df['Margin'] = (df[['Operating Gross Margin', 'Realized Sales Gross Margin',\n",
    "                 'Gross Profit to Sales']].sum(axis=1))/3\n",
    "\n",
    "df['Net Value Per Share'] = (df[['Net Value Per Share (B)', 'Net Value Per Share (A)',\n",
    "                 'Net Value Per Share (C)']].sum(axis=1))/3\n",
    "\n",
    "#drop de colonnes avec une forte corrélation + 'Net Income Flag' qui est inutile\n",
    "df = df.drop(['Current Liability to Liability', 'Liability to Equity', 'Current Liability to Equity', \n",
    "             'ROA(C) before interest and depreciation before interest', 'ROA(A) before interest and % after tax',\n",
    "             'ROA(B) before interest and depreciation after tax', 'Operating Gross Margin', 'Realized Sales Gross Margin',\n",
    "             'Gross Profit to Sales', 'Net Value Per Share (B)' , 'Net Value Per Share (A)',\n",
    "             'Net Value Per Share (C)','Net Income Flag', 'Long-term Liability to Current Assets', 'Quick Asset Turnover Rate'], axis=1)\n",
    "\n",
    "\n",
    "df5 = df[(df['Bankrupt?'] == 0)]\n",
    "df5 = df.sample(n=220,random_state=1)\n",
    "\n",
    "df6 = df[(df['Bankrupt?'] == 1)]\n",
    "\n",
    "df_model4 = df5.append(df6)\n",
    "\n",
    "LR_model = LogisticRegression()\n",
    "\n",
    "LR_pipe = Pipeline([\n",
    "    ('scaling', MinMaxScaler()),\n",
    "    ('PCA', PCA(n_components = 5)),\n",
    "    ('LR', LR_model)])\n",
    "\n",
    "X = df_model4.drop(['Bankrupt?'], axis=1)\n",
    "y = df_model4['Bankrupt?']\n",
    "\n",
    "X_train, X_test, y_train, y_test = train_test_split(X, y, test_size=.3, random_state=1)\n",
    "\n",
    "\n",
    "LR_pipe_trained = LR_pipe.fit(X_train,y_train)\n",
    "\n",
    "y_pred = LR_pipe_trained.predict(X_test)\n",
    "    \n",
    "\n",
    "print(LR_pipe_trained.score(X_test,y_test))\n",
    "print(classification_report(y_test, y_pred))\n",
    "\n",
    "\n",
    "def plot_confusion_matrix(y, y_pred):\n",
    "     cm = confusion_matrix(y, y_pred)\n",
    "     sns.heatmap(cm, annot=True, fmt=\".0f\")\n",
    "     plt.xlabel('y_pred')\n",
    "     plt.ylabel('y')\n",
    "     plt.show()\n",
    "\n",
    "plot_confusion_matrix(y_test, y_pred)"
   ]
  },
  {
   "cell_type": "markdown",
   "id": "eade8195",
   "metadata": {
    "hidden": true
   },
   "source": [
    "_5 composantes = 0.8636  \n",
    "6 composantes = 0.8636_"
   ]
  },
  {
   "cell_type": "markdown",
   "id": "b024e64c",
   "metadata": {},
   "source": [
    "## Modèle 4 = Différents test de modèle"
   ]
  },
  {
   "cell_type": "code",
   "execution_count": 3,
   "id": "53724c77",
   "metadata": {},
   "outputs": [
    {
     "name": "stdout",
     "output_type": "stream",
     "text": [
      "0.8181818181818182\n",
      "0.8243243243243243\n",
      "              precision    recall  f1-score   support\n",
      "\n",
      "           0       0.78      0.81      0.80        58\n",
      "           1       0.85      0.82      0.84        74\n",
      "\n",
      "    accuracy                           0.82       132\n",
      "   macro avg       0.82      0.82      0.82       132\n",
      "weighted avg       0.82      0.82      0.82       132\n",
      "\n"
     ]
    },
    {
     "data": {
      "image/png": "[encoded data removed]",
      "text/plain": [
       "<Figure size 432x288 with 2 Axes>"
      ]
     },
     "metadata": {
      "needs_background": "light"
     },
     "output_type": "display_data"
    }
   ],
   "source": [
    "df = df_raw\n",
    "\n",
    "# Aucunes missing Values (Drop / SimpleImputer) et duplicates\n",
    "\n",
    "# Moyenne de certaines colonnes après avoir vu les corrélations dans le dataset\n",
    "df['ROA'] = (df[['ROA(C) before interest and depreciation before interest', 'ROA(A) before interest and % after tax',\n",
    "                 'ROA(B) before interest and depreciation after tax']].sum(axis=1))/3\n",
    "\n",
    "df['Margin'] = (df[['Operating Gross Margin', 'Realized Sales Gross Margin',\n",
    "                 'Gross Profit to Sales']].sum(axis=1))/3\n",
    "\n",
    "df['Net Value Per Share'] = (df[['Net Value Per Share (B)', 'Net Value Per Share (A)',\n",
    "                 'Net Value Per Share (C)']].sum(axis=1))/3\n",
    "\n",
    "#drop de colonnes avec une forte corrélation + 'Net Income Flag' qui est inutile\n",
    "df = df.drop(['Current Liability to Liability', 'Liability to Equity', 'Current Liability to Equity', \n",
    "             'ROA(C) before interest and depreciation before interest', 'ROA(A) before interest and % after tax',\n",
    "             'ROA(B) before interest and depreciation after tax', 'Operating Gross Margin', 'Realized Sales Gross Margin',\n",
    "             'Gross Profit to Sales', 'Net Value Per Share (B)' , 'Net Value Per Share (A)',\n",
    "             'Net Value Per Share (C)','Net Income Flag', 'Long-term Liability to Current Assets', 'Quick Asset Turnover Rate'], axis=1)\n",
    "\n",
    "\n",
    "df5 = df[(df['Bankrupt?'] == 0)]\n",
    "df5 = df.sample(n=220,random_state=1)\n",
    "\n",
    "df6 = df[(df['Bankrupt?'] == 1)]\n",
    "\n",
    "df_model5 = df5.append(df6)\n",
    "\n",
    "LR_model = LogisticRegression()\n",
    "SVC_model = SVC()\n",
    "KNC_model = KNeighborsClassifier()\n",
    "SGD_model = SGDClassifier()\n",
    "RF_model = RandomForestClassifier()\n",
    "\n",
    "LR_pipe = Pipeline([\n",
    "    ('scaling', MinMaxScaler()),\n",
    "    ('PCA', PCA(n_components = 5)),\n",
    "#      ('LR', LR_model),\n",
    "#      ('SVC', SVC_model),\n",
    "#      ('KNC', KNC_model),\n",
    "#      ('SGD', SGD_model),\n",
    "      ('RF', RF_model),\n",
    "    ])\n",
    "\n",
    "X = df_model5.drop(['Bankrupt?'], axis=1)\n",
    "y = df_model5['Bankrupt?']\n",
    "\n",
    "X_train, X_test, y_train, y_test = train_test_split(X, y, test_size=.3, random_state=1)\n",
    "\n",
    "\n",
    "LR_pipe_trained = LR_pipe.fit(X_train,y_train)\n",
    "\n",
    "y_pred = LR_pipe_trained.predict(X_test)\n",
    "    \n",
    "\n",
    "print(LR_pipe_trained.score(X_test,y_test))\n",
    "print(recall_score(y_test, y_pred))\n",
    "print(classification_report(y_test, y_pred))\n",
    "\n",
    "\n",
    "def plot_confusion_matrix(y, y_pred):\n",
    "     cm = confusion_matrix(y, y_pred)\n",
    "     sns.heatmap(cm, annot=True, fmt=\".0f\")\n",
    "     plt.xlabel('y_pred')\n",
    "     plt.ylabel('y')\n",
    "     plt.show()\n",
    "\n",
    "plot_confusion_matrix(y_test, y_pred)"
   ]
  },
  {
   "cell_type": "markdown",
   "id": "84320969",
   "metadata": {},
   "source": [
    "_LR = 0.8636 / 0.90540 (recall)    \n",
    "KNeighborsClassifier = 0.7878 / 0.83783 (recall)     \n",
    "Random Forest = 0.8106 / 0.82432 (recall)    \n",
    "SVC = 0.8257 / 0.8648 (recall)      \n",
    "SGDClassifier = 0.8333 / 0.9594 (recall)_<br><br>\n",
    "\n",
    "Je vais garder SGDClassifier / SVC / Random Forest pour la suite"
   ]
  },
  {
   "cell_type": "markdown",
   "id": "7d8ebd0d",
   "metadata": {
    "heading_collapsed": true
   },
   "source": [
    "## Modèle 5 = GridSearch"
   ]
  },
  {
   "cell_type": "markdown",
   "id": "83816d3b",
   "metadata": {
    "heading_collapsed": true,
    "hidden": true
   },
   "source": [
    "### SVC"
   ]
  },
  {
   "cell_type": "markdown",
   "id": "09e0e182",
   "metadata": {
    "heading_collapsed": true,
    "hidden": true
   },
   "source": [
    "#### get param"
   ]
  },
  {
   "cell_type": "code",
   "execution_count": 10,
   "id": "7c5e1a83",
   "metadata": {
    "hidden": true
   },
   "outputs": [
    {
     "data": {
      "text/plain": [
       "{'memory': None,\n",
       " 'steps': [('scaling', MinMaxScaler()),\n",
       "  ('PCA', PCA(n_components=6)),\n",
       "  ('SVC', SVC())],\n",
       " 'verbose': False,\n",
       " 'scaling': MinMaxScaler(),\n",
       " 'PCA': PCA(n_components=6),\n",
       " 'SVC': SVC(),\n",
       " 'scaling__copy': True,\n",
       " 'scaling__feature_range': (0, 1),\n",
       " 'PCA__copy': True,\n",
       " 'PCA__iterated_power': 'auto',\n",
       " 'PCA__n_components': 6,\n",
       " 'PCA__random_state': None,\n",
       " 'PCA__svd_solver': 'auto',\n",
       " 'PCA__tol': 0.0,\n",
       " 'PCA__whiten': False,\n",
       " 'SVC__C': 1.0,\n",
       " 'SVC__break_ties': False,\n",
       " 'SVC__cache_size': 200,\n",
       " 'SVC__class_weight': None,\n",
       " 'SVC__coef0': 0.0,\n",
       " 'SVC__decision_function_shape': 'ovr',\n",
       " 'SVC__degree': 3,\n",
       " 'SVC__gamma': 'scale',\n",
       " 'SVC__kernel': 'rbf',\n",
       " 'SVC__max_iter': -1,\n",
       " 'SVC__probability': False,\n",
       " 'SVC__random_state': None,\n",
       " 'SVC__shrinking': True,\n",
       " 'SVC__tol': 0.001,\n",
       " 'SVC__verbose': False}"
      ]
     },
     "execution_count": 10,
     "metadata": {},
     "output_type": "execute_result"
    }
   ],
   "source": [
    "df = df_raw\n",
    "\n",
    "# Aucunes missing Values (Drop / SimpleImputer) et duplicates\n",
    "\n",
    "# Moyenne de certaines colonnes après avoir vu les corrélations dans le dataset\n",
    "df['ROA'] = (df[['ROA(C) before interest and depreciation before interest', 'ROA(A) before interest and % after tax',\n",
    "                 'ROA(B) before interest and depreciation after tax']].sum(axis=1))/3\n",
    "\n",
    "df['Margin'] = (df[['Operating Gross Margin', 'Realized Sales Gross Margin',\n",
    "                 'Gross Profit to Sales']].sum(axis=1))/3\n",
    "\n",
    "df['Net Value Per Share'] = (df[['Net Value Per Share (B)', 'Net Value Per Share (A)',\n",
    "                 'Net Value Per Share (C)']].sum(axis=1))/3\n",
    "\n",
    "#drop de colonnes avec une forte corrélation + 'Net Income Flag' qui est inutile\n",
    "df = df.drop(['Current Liability to Liability', 'Liability to Equity', 'Current Liability to Equity', \n",
    "             'ROA(C) before interest and depreciation before interest', 'ROA(A) before interest and % after tax',\n",
    "             'ROA(B) before interest and depreciation after tax', 'Operating Gross Margin', 'Realized Sales Gross Margin',\n",
    "             'Gross Profit to Sales', 'Net Value Per Share (B)' , 'Net Value Per Share (A)',\n",
    "             'Net Value Per Share (C)','Net Income Flag','Long-term Liability to Current Assets', 'Quick Asset Turnover Rate'], axis=1)\n",
    "\n",
    "\n",
    "df5 = df[(df['Bankrupt?'] == 0)]\n",
    "df5 = df.sample(n=220,random_state=1)\n",
    "\n",
    "df6 = df[(df['Bankrupt?'] == 1)]\n",
    "\n",
    "df_model5 = df5.append(df6)\n",
    "\n",
    "SVC_model = SVC()\n",
    "\n",
    "SVC_pipe = Pipeline([\n",
    "    ('scaling', MinMaxScaler()),\n",
    "    ('PCA', PCA(n_components = 6)),\n",
    "    ('SVC', SVC_model),\n",
    "    ])\n",
    "\n",
    "SVC_pipe_trained = SVC_pipe.fit(X_train,y_train)\n",
    "\n",
    "# get all params of the trained pipe. \n",
    "SVC_pipe_trained.get_params()"
   ]
  },
  {
   "cell_type": "markdown",
   "id": "1822e436",
   "metadata": {
    "hidden": true
   },
   "source": [
    "#### GridSearch"
   ]
  },
  {
   "cell_type": "code",
   "execution_count": 2,
   "id": "068c5602",
   "metadata": {
    "hidden": true
   },
   "outputs": [
    {
     "name": "stdout",
     "output_type": "stream",
     "text": [
      "Fitting 5 folds for each of 27 candidates, totalling 135 fits\n",
      "[CV] SVC__C=0.1, SVC__gamma=0.1, SVC__kernel=linear ..................\n",
      "[CV]  SVC__C=0.1, SVC__gamma=0.1, SVC__kernel=linear, score=0.839, total=   0.0s\n",
      "[CV] SVC__C=0.1, SVC__gamma=0.1, SVC__kernel=linear ..................\n",
      "[CV]  SVC__C=0.1, SVC__gamma=0.1, SVC__kernel=linear, score=0.806, total=   0.0s\n",
      "[CV] SVC__C=0.1, SVC__gamma=0.1, SVC__kernel=linear ..................\n",
      "[CV]  SVC__C=0.1, SVC__gamma=0.1, SVC__kernel=linear, score=0.935, total=   0.0s\n",
      "[CV] SVC__C=0.1, SVC__gamma=0.1, SVC__kernel=linear ..................\n",
      "[CV]  SVC__C=0.1, SVC__gamma=0.1, SVC__kernel=linear, score=0.903, total=   0.0s\n",
      "[CV] SVC__C=0.1, SVC__gamma=0.1, SVC__kernel=linear ..................\n",
      "[CV]  SVC__C=0.1, SVC__gamma=0.1, SVC__kernel=linear, score=0.774, total=   0.0s\n",
      "[CV] SVC__C=0.1, SVC__gamma=0.1, SVC__kernel=poly ....................\n",
      "[CV]  SVC__C=0.1, SVC__gamma=0.1, SVC__kernel=poly, score=0.968, total=   0.0s\n",
      "[CV] SVC__C=0.1, SVC__gamma=0.1, SVC__kernel=poly ....................\n"
     ]
    },
    {
     "name": "stderr",
     "output_type": "stream",
     "text": [
      "[Parallel(n_jobs=1)]: Using backend SequentialBackend with 1 concurrent workers.\n",
      "[Parallel(n_jobs=1)]: Done   1 out of   1 | elapsed:    0.0s remaining:    0.0s\n",
      "[Parallel(n_jobs=1)]: Done   2 out of   2 | elapsed:    0.0s remaining:    0.0s\n"
     ]
    },
    {
     "name": "stdout",
     "output_type": "stream",
     "text": [
      "[CV]  SVC__C=0.1, SVC__gamma=0.1, SVC__kernel=poly, score=1.000, total=   0.0s\n",
      "[CV] SVC__C=0.1, SVC__gamma=0.1, SVC__kernel=poly ....................\n",
      "[CV]  SVC__C=0.1, SVC__gamma=0.1, SVC__kernel=poly, score=0.968, total=   0.0s\n",
      "[CV] SVC__C=0.1, SVC__gamma=0.1, SVC__kernel=poly ....................\n",
      "[CV]  SVC__C=0.1, SVC__gamma=0.1, SVC__kernel=poly, score=0.968, total=   0.0s\n",
      "[CV] SVC__C=0.1, SVC__gamma=0.1, SVC__kernel=poly ....................\n",
      "[CV]  SVC__C=0.1, SVC__gamma=0.1, SVC__kernel=poly, score=1.000, total=   0.0s\n",
      "[CV] SVC__C=0.1, SVC__gamma=0.1, SVC__kernel=sigmoid .................\n",
      "[CV]  SVC__C=0.1, SVC__gamma=0.1, SVC__kernel=sigmoid, score=0.968, total=   0.0s\n",
      "[CV] SVC__C=0.1, SVC__gamma=0.1, SVC__kernel=sigmoid .................\n",
      "[CV]  SVC__C=0.1, SVC__gamma=0.1, SVC__kernel=sigmoid, score=0.903, total=   0.0s\n",
      "[CV] SVC__C=0.1, SVC__gamma=0.1, SVC__kernel=sigmoid .................\n",
      "[CV]  SVC__C=0.1, SVC__gamma=0.1, SVC__kernel=sigmoid, score=0.968, total=   0.0s\n",
      "[CV] SVC__C=0.1, SVC__gamma=0.1, SVC__kernel=sigmoid .................\n",
      "[CV]  SVC__C=0.1, SVC__gamma=0.1, SVC__kernel=sigmoid, score=0.968, total=   0.0s\n",
      "[CV] SVC__C=0.1, SVC__gamma=0.1, SVC__kernel=sigmoid .................\n",
      "[CV]  SVC__C=0.1, SVC__gamma=0.1, SVC__kernel=sigmoid, score=0.903, total=   0.0s\n",
      "[CV] SVC__C=0.1, SVC__gamma=1, SVC__kernel=linear ....................\n",
      "[CV]  SVC__C=0.1, SVC__gamma=1, SVC__kernel=linear, score=0.839, total=   0.0s\n",
      "[CV] SVC__C=0.1, SVC__gamma=1, SVC__kernel=linear ....................\n",
      "[CV]  SVC__C=0.1, SVC__gamma=1, SVC__kernel=linear, score=0.806, total=   0.0s\n",
      "[CV] SVC__C=0.1, SVC__gamma=1, SVC__kernel=linear ....................\n",
      "[CV]  SVC__C=0.1, SVC__gamma=1, SVC__kernel=linear, score=0.935, total=   0.0s\n",
      "[CV] SVC__C=0.1, SVC__gamma=1, SVC__kernel=linear ....................\n",
      "[CV]  SVC__C=0.1, SVC__gamma=1, SVC__kernel=linear, score=0.903, total=   0.0s\n",
      "[CV] SVC__C=0.1, SVC__gamma=1, SVC__kernel=linear ....................\n",
      "[CV]  SVC__C=0.1, SVC__gamma=1, SVC__kernel=linear, score=0.774, total=   0.0s\n",
      "[CV] SVC__C=0.1, SVC__gamma=1, SVC__kernel=poly ......................\n",
      "[CV]  SVC__C=0.1, SVC__gamma=1, SVC__kernel=poly, score=0.839, total=   0.0s\n",
      "[CV] SVC__C=0.1, SVC__gamma=1, SVC__kernel=poly ......................\n",
      "[CV]  SVC__C=0.1, SVC__gamma=1, SVC__kernel=poly, score=0.871, total=   0.0s\n",
      "[CV] SVC__C=0.1, SVC__gamma=1, SVC__kernel=poly ......................\n",
      "[CV]  SVC__C=0.1, SVC__gamma=1, SVC__kernel=poly, score=0.903, total=   0.0s\n",
      "[CV] SVC__C=0.1, SVC__gamma=1, SVC__kernel=poly ......................\n",
      "[CV]  SVC__C=0.1, SVC__gamma=1, SVC__kernel=poly, score=0.903, total=   0.0s\n",
      "[CV] SVC__C=0.1, SVC__gamma=1, SVC__kernel=poly ......................\n",
      "[CV]  SVC__C=0.1, SVC__gamma=1, SVC__kernel=poly, score=0.774, total=   0.0s\n",
      "[CV] SVC__C=0.1, SVC__gamma=1, SVC__kernel=sigmoid ...................\n",
      "[CV]  SVC__C=0.1, SVC__gamma=1, SVC__kernel=sigmoid, score=0.839, total=   0.0s\n",
      "[CV] SVC__C=0.1, SVC__gamma=1, SVC__kernel=sigmoid ...................\n",
      "[CV]  SVC__C=0.1, SVC__gamma=1, SVC__kernel=sigmoid, score=0.774, total=   0.0s\n",
      "[CV] SVC__C=0.1, SVC__gamma=1, SVC__kernel=sigmoid ...................\n",
      "[CV]  SVC__C=0.1, SVC__gamma=1, SVC__kernel=sigmoid, score=0.935, total=   0.0s\n",
      "[CV] SVC__C=0.1, SVC__gamma=1, SVC__kernel=sigmoid ...................\n",
      "[CV]  SVC__C=0.1, SVC__gamma=1, SVC__kernel=sigmoid, score=0.903, total=   0.0s\n",
      "[CV] SVC__C=0.1, SVC__gamma=1, SVC__kernel=sigmoid ...................\n",
      "[CV]  SVC__C=0.1, SVC__gamma=1, SVC__kernel=sigmoid, score=0.774, total=   0.0s\n",
      "[CV] SVC__C=0.1, SVC__gamma=10, SVC__kernel=linear ...................\n",
      "[CV]  SVC__C=0.1, SVC__gamma=10, SVC__kernel=linear, score=0.839, total=   0.0s\n",
      "[CV] SVC__C=0.1, SVC__gamma=10, SVC__kernel=linear ...................\n",
      "[CV]  SVC__C=0.1, SVC__gamma=10, SVC__kernel=linear, score=0.806, total=   0.0s\n",
      "[CV] SVC__C=0.1, SVC__gamma=10, SVC__kernel=linear ...................\n",
      "[CV]  SVC__C=0.1, SVC__gamma=10, SVC__kernel=linear, score=0.935, total=   0.0s\n",
      "[CV] SVC__C=0.1, SVC__gamma=10, SVC__kernel=linear ...................\n",
      "[CV]  SVC__C=0.1, SVC__gamma=10, SVC__kernel=linear, score=0.903, total=   0.0s\n",
      "[CV] SVC__C=0.1, SVC__gamma=10, SVC__kernel=linear ...................\n",
      "[CV]  SVC__C=0.1, SVC__gamma=10, SVC__kernel=linear, score=0.774, total=   0.0s\n",
      "[CV] SVC__C=0.1, SVC__gamma=10, SVC__kernel=poly .....................\n",
      "[CV]  SVC__C=0.1, SVC__gamma=10, SVC__kernel=poly, score=0.871, total=   0.0s\n",
      "[CV] SVC__C=0.1, SVC__gamma=10, SVC__kernel=poly .....................\n",
      "[CV]  SVC__C=0.1, SVC__gamma=10, SVC__kernel=poly, score=0.806, total=   0.0s\n",
      "[CV] SVC__C=0.1, SVC__gamma=10, SVC__kernel=poly .....................\n",
      "[CV]  SVC__C=0.1, SVC__gamma=10, SVC__kernel=poly, score=0.871, total=   0.0s\n",
      "[CV] SVC__C=0.1, SVC__gamma=10, SVC__kernel=poly .....................\n",
      "[CV]  SVC__C=0.1, SVC__gamma=10, SVC__kernel=poly, score=0.742, total=   0.0s\n",
      "[CV] SVC__C=0.1, SVC__gamma=10, SVC__kernel=poly .....................\n",
      "[CV]  SVC__C=0.1, SVC__gamma=10, SVC__kernel=poly, score=0.774, total=   0.0s\n",
      "[CV] SVC__C=0.1, SVC__gamma=10, SVC__kernel=sigmoid ..................\n",
      "[CV]  SVC__C=0.1, SVC__gamma=10, SVC__kernel=sigmoid, score=0.710, total=   0.0s\n",
      "[CV] SVC__C=0.1, SVC__gamma=10, SVC__kernel=sigmoid ..................\n",
      "[CV]  SVC__C=0.1, SVC__gamma=10, SVC__kernel=sigmoid, score=0.839, total=   0.0s\n",
      "[CV] SVC__C=0.1, SVC__gamma=10, SVC__kernel=sigmoid ..................\n",
      "[CV]  SVC__C=0.1, SVC__gamma=10, SVC__kernel=sigmoid, score=0.871, total=   0.0s\n",
      "[CV] SVC__C=0.1, SVC__gamma=10, SVC__kernel=sigmoid ..................\n",
      "[CV]  SVC__C=0.1, SVC__gamma=10, SVC__kernel=sigmoid, score=0.871, total=   0.0s\n",
      "[CV] SVC__C=0.1, SVC__gamma=10, SVC__kernel=sigmoid ..................\n",
      "[CV]  SVC__C=0.1, SVC__gamma=10, SVC__kernel=sigmoid, score=0.774, total=   0.0s\n",
      "[CV] SVC__C=1, SVC__gamma=0.1, SVC__kernel=linear ....................\n",
      "[CV]  SVC__C=1, SVC__gamma=0.1, SVC__kernel=linear, score=0.774, total=   0.0s\n",
      "[CV] SVC__C=1, SVC__gamma=0.1, SVC__kernel=linear ....................\n",
      "[CV]  SVC__C=1, SVC__gamma=0.1, SVC__kernel=linear, score=0.806, total=   0.0s\n",
      "[CV] SVC__C=1, SVC__gamma=0.1, SVC__kernel=linear ....................\n",
      "[CV]  SVC__C=1, SVC__gamma=0.1, SVC__kernel=linear, score=0.935, total=   0.0s\n",
      "[CV] SVC__C=1, SVC__gamma=0.1, SVC__kernel=linear ....................\n",
      "[CV]  SVC__C=1, SVC__gamma=0.1, SVC__kernel=linear, score=0.871, total=   0.0s\n",
      "[CV] SVC__C=1, SVC__gamma=0.1, SVC__kernel=linear ....................\n",
      "[CV]  SVC__C=1, SVC__gamma=0.1, SVC__kernel=linear, score=0.774, total=   0.0s\n",
      "[CV] SVC__C=1, SVC__gamma=0.1, SVC__kernel=poly ......................\n",
      "[CV]  SVC__C=1, SVC__gamma=0.1, SVC__kernel=poly, score=0.968, total=   0.0s\n",
      "[CV] SVC__C=1, SVC__gamma=0.1, SVC__kernel=poly ......................\n",
      "[CV]  SVC__C=1, SVC__gamma=0.1, SVC__kernel=poly, score=1.000, total=   0.0s\n",
      "[CV] SVC__C=1, SVC__gamma=0.1, SVC__kernel=poly ......................\n",
      "[CV]  SVC__C=1, SVC__gamma=0.1, SVC__kernel=poly, score=0.968, total=   0.0s\n",
      "[CV] SVC__C=1, SVC__gamma=0.1, SVC__kernel=poly ......................\n",
      "[CV]  SVC__C=1, SVC__gamma=0.1, SVC__kernel=poly, score=0.968, total=   0.0s\n",
      "[CV] SVC__C=1, SVC__gamma=0.1, SVC__kernel=poly ......................\n",
      "[CV]  SVC__C=1, SVC__gamma=0.1, SVC__kernel=poly, score=1.000, total=   0.0s\n",
      "[CV] SVC__C=1, SVC__gamma=0.1, SVC__kernel=sigmoid ...................\n",
      "[CV]  SVC__C=1, SVC__gamma=0.1, SVC__kernel=sigmoid, score=0.839, total=   0.0s\n",
      "[CV] SVC__C=1, SVC__gamma=0.1, SVC__kernel=sigmoid ...................\n",
      "[CV]  SVC__C=1, SVC__gamma=0.1, SVC__kernel=sigmoid, score=0.806, total=   0.0s\n",
      "[CV] SVC__C=1, SVC__gamma=0.1, SVC__kernel=sigmoid ...................\n",
      "[CV]  SVC__C=1, SVC__gamma=0.1, SVC__kernel=sigmoid, score=0.935, total=   0.0s\n",
      "[CV] SVC__C=1, SVC__gamma=0.1, SVC__kernel=sigmoid ...................\n",
      "[CV]  SVC__C=1, SVC__gamma=0.1, SVC__kernel=sigmoid, score=0.903, total=   0.0s\n",
      "[CV] SVC__C=1, SVC__gamma=0.1, SVC__kernel=sigmoid ...................\n",
      "[CV]  SVC__C=1, SVC__gamma=0.1, SVC__kernel=sigmoid, score=0.774, total=   0.0s\n",
      "[CV] SVC__C=1, SVC__gamma=1, SVC__kernel=linear ......................\n",
      "[CV]  SVC__C=1, SVC__gamma=1, SVC__kernel=linear, score=0.774, total=   0.0s\n",
      "[CV] SVC__C=1, SVC__gamma=1, SVC__kernel=linear ......................\n",
      "[CV]  SVC__C=1, SVC__gamma=1, SVC__kernel=linear, score=0.806, total=   0.0s\n",
      "[CV] SVC__C=1, SVC__gamma=1, SVC__kernel=linear ......................\n",
      "[CV]  SVC__C=1, SVC__gamma=1, SVC__kernel=linear, score=0.935, total=   0.0s\n",
      "[CV] SVC__C=1, SVC__gamma=1, SVC__kernel=linear ......................\n",
      "[CV]  SVC__C=1, SVC__gamma=1, SVC__kernel=linear, score=0.871, total=   0.0s\n",
      "[CV] SVC__C=1, SVC__gamma=1, SVC__kernel=linear ......................\n"
     ]
    },
    {
     "name": "stdout",
     "output_type": "stream",
     "text": [
      "[CV]  SVC__C=1, SVC__gamma=1, SVC__kernel=linear, score=0.774, total=   0.0s\n",
      "[CV] SVC__C=1, SVC__gamma=1, SVC__kernel=poly ........................\n",
      "[CV]  SVC__C=1, SVC__gamma=1, SVC__kernel=poly, score=0.806, total=   0.0s\n",
      "[CV] SVC__C=1, SVC__gamma=1, SVC__kernel=poly ........................\n",
      "[CV]  SVC__C=1, SVC__gamma=1, SVC__kernel=poly, score=0.742, total=   0.0s\n",
      "[CV] SVC__C=1, SVC__gamma=1, SVC__kernel=poly ........................\n",
      "[CV]  SVC__C=1, SVC__gamma=1, SVC__kernel=poly, score=0.871, total=   0.0s\n",
      "[CV] SVC__C=1, SVC__gamma=1, SVC__kernel=poly ........................\n",
      "[CV]  SVC__C=1, SVC__gamma=1, SVC__kernel=poly, score=0.742, total=   0.0s\n",
      "[CV] SVC__C=1, SVC__gamma=1, SVC__kernel=poly ........................\n",
      "[CV]  SVC__C=1, SVC__gamma=1, SVC__kernel=poly, score=0.742, total=   0.0s\n",
      "[CV] SVC__C=1, SVC__gamma=1, SVC__kernel=sigmoid .....................\n",
      "[CV]  SVC__C=1, SVC__gamma=1, SVC__kernel=sigmoid, score=0.774, total=   0.0s\n",
      "[CV] SVC__C=1, SVC__gamma=1, SVC__kernel=sigmoid .....................\n",
      "[CV]  SVC__C=1, SVC__gamma=1, SVC__kernel=sigmoid, score=0.839, total=   0.0s\n",
      "[CV] SVC__C=1, SVC__gamma=1, SVC__kernel=sigmoid .....................\n",
      "[CV]  SVC__C=1, SVC__gamma=1, SVC__kernel=sigmoid, score=0.935, total=   0.0s\n",
      "[CV] SVC__C=1, SVC__gamma=1, SVC__kernel=sigmoid .....................\n",
      "[CV]  SVC__C=1, SVC__gamma=1, SVC__kernel=sigmoid, score=0.871, total=   0.0s\n",
      "[CV] SVC__C=1, SVC__gamma=1, SVC__kernel=sigmoid .....................\n",
      "[CV]  SVC__C=1, SVC__gamma=1, SVC__kernel=sigmoid, score=0.774, total=   0.0s\n",
      "[CV] SVC__C=1, SVC__gamma=10, SVC__kernel=linear .....................\n",
      "[CV]  SVC__C=1, SVC__gamma=10, SVC__kernel=linear, score=0.774, total=   0.0s\n",
      "[CV] SVC__C=1, SVC__gamma=10, SVC__kernel=linear .....................\n",
      "[CV]  SVC__C=1, SVC__gamma=10, SVC__kernel=linear, score=0.806, total=   0.0s\n",
      "[CV] SVC__C=1, SVC__gamma=10, SVC__kernel=linear .....................\n",
      "[CV]  SVC__C=1, SVC__gamma=10, SVC__kernel=linear, score=0.935, total=   0.0s\n",
      "[CV] SVC__C=1, SVC__gamma=10, SVC__kernel=linear .....................\n",
      "[CV]  SVC__C=1, SVC__gamma=10, SVC__kernel=linear, score=0.871, total=   0.0s\n",
      "[CV] SVC__C=1, SVC__gamma=10, SVC__kernel=linear .....................\n",
      "[CV]  SVC__C=1, SVC__gamma=10, SVC__kernel=linear, score=0.774, total=   0.0s\n",
      "[CV] SVC__C=1, SVC__gamma=10, SVC__kernel=poly .......................\n",
      "[CV]  SVC__C=1, SVC__gamma=10, SVC__kernel=poly, score=0.710, total=   0.1s\n",
      "[CV] SVC__C=1, SVC__gamma=10, SVC__kernel=poly .......................\n",
      "[CV]  SVC__C=1, SVC__gamma=10, SVC__kernel=poly, score=0.806, total=   0.1s\n",
      "[CV] SVC__C=1, SVC__gamma=10, SVC__kernel=poly .......................\n",
      "[CV]  SVC__C=1, SVC__gamma=10, SVC__kernel=poly, score=0.871, total=   0.1s\n",
      "[CV] SVC__C=1, SVC__gamma=10, SVC__kernel=poly .......................\n",
      "[CV]  SVC__C=1, SVC__gamma=10, SVC__kernel=poly, score=0.516, total=   0.2s\n",
      "[CV] SVC__C=1, SVC__gamma=10, SVC__kernel=poly .......................\n",
      "[CV]  SVC__C=1, SVC__gamma=10, SVC__kernel=poly, score=0.774, total=   0.1s\n",
      "[CV] SVC__C=1, SVC__gamma=10, SVC__kernel=sigmoid ....................\n",
      "[CV]  SVC__C=1, SVC__gamma=10, SVC__kernel=sigmoid, score=0.645, total=   0.0s\n",
      "[CV] SVC__C=1, SVC__gamma=10, SVC__kernel=sigmoid ....................\n",
      "[CV]  SVC__C=1, SVC__gamma=10, SVC__kernel=sigmoid, score=0.548, total=   0.0s\n",
      "[CV] SVC__C=1, SVC__gamma=10, SVC__kernel=sigmoid ....................\n",
      "[CV]  SVC__C=1, SVC__gamma=10, SVC__kernel=sigmoid, score=0.677, total=   0.0s\n",
      "[CV] SVC__C=1, SVC__gamma=10, SVC__kernel=sigmoid ....................\n",
      "[CV]  SVC__C=1, SVC__gamma=10, SVC__kernel=sigmoid, score=0.806, total=   0.0s\n",
      "[CV] SVC__C=1, SVC__gamma=10, SVC__kernel=sigmoid ....................\n",
      "[CV]  SVC__C=1, SVC__gamma=10, SVC__kernel=sigmoid, score=0.677, total=   0.0s\n",
      "[CV] SVC__C=10, SVC__gamma=0.1, SVC__kernel=linear ...................\n",
      "[CV]  SVC__C=10, SVC__gamma=0.1, SVC__kernel=linear, score=0.774, total=   0.0s\n",
      "[CV] SVC__C=10, SVC__gamma=0.1, SVC__kernel=linear ...................\n",
      "[CV]  SVC__C=10, SVC__gamma=0.1, SVC__kernel=linear, score=0.774, total=   0.0s\n",
      "[CV] SVC__C=10, SVC__gamma=0.1, SVC__kernel=linear ...................\n",
      "[CV]  SVC__C=10, SVC__gamma=0.1, SVC__kernel=linear, score=0.903, total=   0.0s\n",
      "[CV] SVC__C=10, SVC__gamma=0.1, SVC__kernel=linear ...................\n",
      "[CV]  SVC__C=10, SVC__gamma=0.1, SVC__kernel=linear, score=0.903, total=   0.0s\n",
      "[CV] SVC__C=10, SVC__gamma=0.1, SVC__kernel=linear ...................\n",
      "[CV]  SVC__C=10, SVC__gamma=0.1, SVC__kernel=linear, score=0.774, total=   0.0s\n",
      "[CV] SVC__C=10, SVC__gamma=0.1, SVC__kernel=poly .....................\n",
      "[CV]  SVC__C=10, SVC__gamma=0.1, SVC__kernel=poly, score=0.968, total=   0.0s\n",
      "[CV] SVC__C=10, SVC__gamma=0.1, SVC__kernel=poly .....................\n",
      "[CV]  SVC__C=10, SVC__gamma=0.1, SVC__kernel=poly, score=0.871, total=   0.0s\n",
      "[CV] SVC__C=10, SVC__gamma=0.1, SVC__kernel=poly .....................\n",
      "[CV]  SVC__C=10, SVC__gamma=0.1, SVC__kernel=poly, score=0.968, total=   0.0s\n",
      "[CV] SVC__C=10, SVC__gamma=0.1, SVC__kernel=poly .....................\n",
      "[CV]  SVC__C=10, SVC__gamma=0.1, SVC__kernel=poly, score=0.968, total=   0.0s\n",
      "[CV] SVC__C=10, SVC__gamma=0.1, SVC__kernel=poly .....................\n",
      "[CV]  SVC__C=10, SVC__gamma=0.1, SVC__kernel=poly, score=1.000, total=   0.0s\n",
      "[CV] SVC__C=10, SVC__gamma=0.1, SVC__kernel=sigmoid ..................\n",
      "[CV]  SVC__C=10, SVC__gamma=0.1, SVC__kernel=sigmoid, score=0.774, total=   0.0s\n",
      "[CV] SVC__C=10, SVC__gamma=0.1, SVC__kernel=sigmoid ..................\n",
      "[CV]  SVC__C=10, SVC__gamma=0.1, SVC__kernel=sigmoid, score=0.839, total=   0.0s\n",
      "[CV] SVC__C=10, SVC__gamma=0.1, SVC__kernel=sigmoid ..................\n",
      "[CV]  SVC__C=10, SVC__gamma=0.1, SVC__kernel=sigmoid, score=0.935, total=   0.0s\n",
      "[CV] SVC__C=10, SVC__gamma=0.1, SVC__kernel=sigmoid ..................\n",
      "[CV]  SVC__C=10, SVC__gamma=0.1, SVC__kernel=sigmoid, score=0.871, total=   0.0s\n",
      "[CV] SVC__C=10, SVC__gamma=0.1, SVC__kernel=sigmoid ..................\n",
      "[CV]  SVC__C=10, SVC__gamma=0.1, SVC__kernel=sigmoid, score=0.774, total=   0.0s\n",
      "[CV] SVC__C=10, SVC__gamma=1, SVC__kernel=linear .....................\n",
      "[CV]  SVC__C=10, SVC__gamma=1, SVC__kernel=linear, score=0.774, total=   0.0s\n",
      "[CV] SVC__C=10, SVC__gamma=1, SVC__kernel=linear .....................\n",
      "[CV]  SVC__C=10, SVC__gamma=1, SVC__kernel=linear, score=0.774, total=   0.0s\n",
      "[CV] SVC__C=10, SVC__gamma=1, SVC__kernel=linear .....................\n",
      "[CV]  SVC__C=10, SVC__gamma=1, SVC__kernel=linear, score=0.903, total=   0.0s\n",
      "[CV] SVC__C=10, SVC__gamma=1, SVC__kernel=linear .....................\n",
      "[CV]  SVC__C=10, SVC__gamma=1, SVC__kernel=linear, score=0.903, total=   0.0s\n",
      "[CV] SVC__C=10, SVC__gamma=1, SVC__kernel=linear .....................\n",
      "[CV]  SVC__C=10, SVC__gamma=1, SVC__kernel=linear, score=0.774, total=   0.0s\n",
      "[CV] SVC__C=10, SVC__gamma=1, SVC__kernel=poly .......................\n",
      "[CV]  SVC__C=10, SVC__gamma=1, SVC__kernel=poly, score=0.903, total=   0.0s\n",
      "[CV] SVC__C=10, SVC__gamma=1, SVC__kernel=poly .......................\n",
      "[CV]  SVC__C=10, SVC__gamma=1, SVC__kernel=poly, score=0.774, total=   0.0s\n",
      "[CV] SVC__C=10, SVC__gamma=1, SVC__kernel=poly .......................\n",
      "[CV]  SVC__C=10, SVC__gamma=1, SVC__kernel=poly, score=0.839, total=   0.0s\n",
      "[CV] SVC__C=10, SVC__gamma=1, SVC__kernel=poly .......................\n",
      "[CV]  SVC__C=10, SVC__gamma=1, SVC__kernel=poly, score=0.677, total=   0.0s\n",
      "[CV] SVC__C=10, SVC__gamma=1, SVC__kernel=poly .......................\n",
      "[CV]  SVC__C=10, SVC__gamma=1, SVC__kernel=poly, score=0.839, total=   0.0s\n",
      "[CV] SVC__C=10, SVC__gamma=1, SVC__kernel=sigmoid ....................\n",
      "[CV]  SVC__C=10, SVC__gamma=1, SVC__kernel=sigmoid, score=0.774, total=   0.0s\n",
      "[CV] SVC__C=10, SVC__gamma=1, SVC__kernel=sigmoid ....................\n",
      "[CV]  SVC__C=10, SVC__gamma=1, SVC__kernel=sigmoid, score=0.710, total=   0.0s\n",
      "[CV] SVC__C=10, SVC__gamma=1, SVC__kernel=sigmoid ....................\n",
      "[CV]  SVC__C=10, SVC__gamma=1, SVC__kernel=sigmoid, score=0.774, total=   0.0s\n",
      "[CV] SVC__C=10, SVC__gamma=1, SVC__kernel=sigmoid ....................\n",
      "[CV]  SVC__C=10, SVC__gamma=1, SVC__kernel=sigmoid, score=0.806, total=   0.0s\n",
      "[CV] SVC__C=10, SVC__gamma=1, SVC__kernel=sigmoid ....................\n",
      "[CV]  SVC__C=10, SVC__gamma=1, SVC__kernel=sigmoid, score=0.774, total=   0.0s\n",
      "[CV] SVC__C=10, SVC__gamma=10, SVC__kernel=linear ....................\n",
      "[CV]  SVC__C=10, SVC__gamma=10, SVC__kernel=linear, score=0.774, total=   0.0s\n",
      "[CV] SVC__C=10, SVC__gamma=10, SVC__kernel=linear ....................\n"
     ]
    },
    {
     "name": "stdout",
     "output_type": "stream",
     "text": [
      "[CV]  SVC__C=10, SVC__gamma=10, SVC__kernel=linear, score=0.774, total=   0.0s\n",
      "[CV] SVC__C=10, SVC__gamma=10, SVC__kernel=linear ....................\n",
      "[CV]  SVC__C=10, SVC__gamma=10, SVC__kernel=linear, score=0.903, total=   0.0s\n",
      "[CV] SVC__C=10, SVC__gamma=10, SVC__kernel=linear ....................\n",
      "[CV]  SVC__C=10, SVC__gamma=10, SVC__kernel=linear, score=0.903, total=   0.0s\n",
      "[CV] SVC__C=10, SVC__gamma=10, SVC__kernel=linear ....................\n",
      "[CV]  SVC__C=10, SVC__gamma=10, SVC__kernel=linear, score=0.774, total=   0.0s\n",
      "[CV] SVC__C=10, SVC__gamma=10, SVC__kernel=poly ......................\n",
      "[CV]  SVC__C=10, SVC__gamma=10, SVC__kernel=poly, score=0.645, total=   0.4s\n",
      "[CV] SVC__C=10, SVC__gamma=10, SVC__kernel=poly ......................\n",
      "[CV]  SVC__C=10, SVC__gamma=10, SVC__kernel=poly, score=0.774, total=   0.9s\n",
      "[CV] SVC__C=10, SVC__gamma=10, SVC__kernel=poly ......................\n",
      "[CV]  SVC__C=10, SVC__gamma=10, SVC__kernel=poly, score=0.903, total=   0.2s\n",
      "[CV] SVC__C=10, SVC__gamma=10, SVC__kernel=poly ......................\n",
      "[CV]  SVC__C=10, SVC__gamma=10, SVC__kernel=poly, score=0.613, total=   1.0s\n",
      "[CV] SVC__C=10, SVC__gamma=10, SVC__kernel=poly ......................\n",
      "[CV]  SVC__C=10, SVC__gamma=10, SVC__kernel=poly, score=0.742, total=   0.5s\n",
      "[CV] SVC__C=10, SVC__gamma=10, SVC__kernel=sigmoid ...................\n",
      "[CV]  SVC__C=10, SVC__gamma=10, SVC__kernel=sigmoid, score=0.710, total=   0.0s\n",
      "[CV] SVC__C=10, SVC__gamma=10, SVC__kernel=sigmoid ...................\n",
      "[CV]  SVC__C=10, SVC__gamma=10, SVC__kernel=sigmoid, score=0.548, total=   0.0s\n",
      "[CV] SVC__C=10, SVC__gamma=10, SVC__kernel=sigmoid ...................\n",
      "[CV]  SVC__C=10, SVC__gamma=10, SVC__kernel=sigmoid, score=0.774, total=   0.0s\n",
      "[CV] SVC__C=10, SVC__gamma=10, SVC__kernel=sigmoid ...................\n",
      "[CV]  SVC__C=10, SVC__gamma=10, SVC__kernel=sigmoid, score=0.645, total=   0.0s\n",
      "[CV] SVC__C=10, SVC__gamma=10, SVC__kernel=sigmoid ...................\n",
      "[CV]  SVC__C=10, SVC__gamma=10, SVC__kernel=sigmoid, score=0.742, total=   0.0s\n",
      "{'SVC__C': 0.1, 'SVC__gamma': 0.1, 'SVC__kernel': 'poly'}\n",
      "0.553030303030303\n",
      "0.9864864864864865\n",
      "              precision    recall  f1-score   support\n",
      "\n",
      "           0       0.00      0.00      0.00        58\n",
      "           1       0.56      0.99      0.71        74\n",
      "\n",
      "    accuracy                           0.55       132\n",
      "   macro avg       0.28      0.49      0.36       132\n",
      "weighted avg       0.31      0.55      0.40       132\n",
      "\n"
     ]
    },
    {
     "name": "stderr",
     "output_type": "stream",
     "text": [
      "[Parallel(n_jobs=1)]: Done 135 out of 135 | elapsed:    7.0s finished\n"
     ]
    },
    {
     "data": {
      "image/png": "[encoded data removed]",
      "text/plain": [
       "<Figure size 432x288 with 2 Axes>"
      ]
     },
     "metadata": {
      "needs_background": "light"
     },
     "output_type": "display_data"
    },
    {
     "data": {
      "image/png": "[encoded data removed]",
      "text/plain": [
       "<Figure size 432x288 with 1 Axes>"
      ]
     },
     "metadata": {
      "needs_background": "light"
     },
     "output_type": "display_data"
    },
    {
     "name": "stderr",
     "output_type": "stream",
     "text": [
      "C:\\Users\\Utilisateur\\anaconda3\\lib\\site-packages\\sklearn\\model_selection\\_validation.py:548: FitFailedWarning: Estimator fit failed. The score on this train-test partition for these parameters will be set to nan. Details: \n",
      "Traceback (most recent call last):\n",
      "  File \"C:\\Users\\Utilisateur\\anaconda3\\lib\\site-packages\\sklearn\\model_selection\\_validation.py\", line 531, in _fit_and_score\n",
      "    estimator.fit(X_train, y_train, **fit_params)\n",
      "  File \"C:\\Users\\Utilisateur\\anaconda3\\lib\\site-packages\\sklearn\\pipeline.py\", line 330, in fit\n",
      "    Xt = self._fit(X, y, **fit_params_steps)\n",
      "  File \"C:\\Users\\Utilisateur\\anaconda3\\lib\\site-packages\\sklearn\\pipeline.py\", line 292, in _fit\n",
      "    X, fitted_transformer = fit_transform_one_cached(\n",
      "  File \"C:\\Users\\Utilisateur\\anaconda3\\lib\\site-packages\\joblib\\memory.py\", line 352, in __call__\n",
      "    return self.func(*args, **kwargs)\n",
      "  File \"C:\\Users\\Utilisateur\\anaconda3\\lib\\site-packages\\sklearn\\pipeline.py\", line 740, in _fit_transform_one\n",
      "    res = transformer.fit_transform(X, y, **fit_params)\n",
      "  File \"C:\\Users\\Utilisateur\\anaconda3\\lib\\site-packages\\sklearn\\decomposition\\_pca.py\", line 376, in fit_transform\n",
      "    U, S, V = self._fit(X)\n",
      "  File \"C:\\Users\\Utilisateur\\anaconda3\\lib\\site-packages\\sklearn\\decomposition\\_pca.py\", line 423, in _fit\n",
      "    return self._fit_full(X, n_components)\n",
      "  File \"C:\\Users\\Utilisateur\\anaconda3\\lib\\site-packages\\sklearn\\decomposition\\_pca.py\", line 439, in _fit_full\n",
      "    raise ValueError(\"n_components=%r must be between 0 and \"\n",
      "ValueError: n_components=6 must be between 0 and min(n_samples, n_features)=5 with svd_solver='full'\n",
      "\n",
      "  warnings.warn(\"Estimator fit failed. The score on this train-test\"\n",
      "C:\\Users\\Utilisateur\\anaconda3\\lib\\site-packages\\sklearn\\model_selection\\_validation.py:548: FitFailedWarning: Estimator fit failed. The score on this train-test partition for these parameters will be set to nan. Details: \n",
      "Traceback (most recent call last):\n",
      "  File \"C:\\Users\\Utilisateur\\anaconda3\\lib\\site-packages\\sklearn\\model_selection\\_validation.py\", line 531, in _fit_and_score\n",
      "    estimator.fit(X_train, y_train, **fit_params)\n",
      "  File \"C:\\Users\\Utilisateur\\anaconda3\\lib\\site-packages\\sklearn\\pipeline.py\", line 330, in fit\n",
      "    Xt = self._fit(X, y, **fit_params_steps)\n",
      "  File \"C:\\Users\\Utilisateur\\anaconda3\\lib\\site-packages\\sklearn\\pipeline.py\", line 292, in _fit\n",
      "    X, fitted_transformer = fit_transform_one_cached(\n",
      "  File \"C:\\Users\\Utilisateur\\anaconda3\\lib\\site-packages\\joblib\\memory.py\", line 352, in __call__\n",
      "    return self.func(*args, **kwargs)\n",
      "  File \"C:\\Users\\Utilisateur\\anaconda3\\lib\\site-packages\\sklearn\\pipeline.py\", line 740, in _fit_transform_one\n",
      "    res = transformer.fit_transform(X, y, **fit_params)\n",
      "  File \"C:\\Users\\Utilisateur\\anaconda3\\lib\\site-packages\\sklearn\\decomposition\\_pca.py\", line 376, in fit_transform\n",
      "    U, S, V = self._fit(X)\n",
      "  File \"C:\\Users\\Utilisateur\\anaconda3\\lib\\site-packages\\sklearn\\decomposition\\_pca.py\", line 423, in _fit\n",
      "    return self._fit_full(X, n_components)\n",
      "  File \"C:\\Users\\Utilisateur\\anaconda3\\lib\\site-packages\\sklearn\\decomposition\\_pca.py\", line 439, in _fit_full\n",
      "    raise ValueError(\"n_components=%r must be between 0 and \"\n",
      "ValueError: n_components=6 must be between 0 and min(n_samples, n_features)=5 with svd_solver='full'\n",
      "\n",
      "  warnings.warn(\"Estimator fit failed. The score on this train-test\"\n",
      "C:\\Users\\Utilisateur\\anaconda3\\lib\\site-packages\\sklearn\\model_selection\\_validation.py:548: FitFailedWarning: Estimator fit failed. The score on this train-test partition for these parameters will be set to nan. Details: \n",
      "Traceback (most recent call last):\n",
      "  File \"C:\\Users\\Utilisateur\\anaconda3\\lib\\site-packages\\sklearn\\model_selection\\_validation.py\", line 531, in _fit_and_score\n",
      "    estimator.fit(X_train, y_train, **fit_params)\n",
      "  File \"C:\\Users\\Utilisateur\\anaconda3\\lib\\site-packages\\sklearn\\pipeline.py\", line 330, in fit\n",
      "    Xt = self._fit(X, y, **fit_params_steps)\n",
      "  File \"C:\\Users\\Utilisateur\\anaconda3\\lib\\site-packages\\sklearn\\pipeline.py\", line 292, in _fit\n",
      "    X, fitted_transformer = fit_transform_one_cached(\n",
      "  File \"C:\\Users\\Utilisateur\\anaconda3\\lib\\site-packages\\joblib\\memory.py\", line 352, in __call__\n",
      "    return self.func(*args, **kwargs)\n",
      "  File \"C:\\Users\\Utilisateur\\anaconda3\\lib\\site-packages\\sklearn\\pipeline.py\", line 740, in _fit_transform_one\n",
      "    res = transformer.fit_transform(X, y, **fit_params)\n",
      "  File \"C:\\Users\\Utilisateur\\anaconda3\\lib\\site-packages\\sklearn\\decomposition\\_pca.py\", line 376, in fit_transform\n",
      "    U, S, V = self._fit(X)\n",
      "  File \"C:\\Users\\Utilisateur\\anaconda3\\lib\\site-packages\\sklearn\\decomposition\\_pca.py\", line 423, in _fit\n",
      "    return self._fit_full(X, n_components)\n",
      "  File \"C:\\Users\\Utilisateur\\anaconda3\\lib\\site-packages\\sklearn\\decomposition\\_pca.py\", line 439, in _fit_full\n",
      "    raise ValueError(\"n_components=%r must be between 0 and \"\n",
      "ValueError: n_components=6 must be between 0 and min(n_samples, n_features)=5 with svd_solver='full'\n",
      "\n",
      "  warnings.warn(\"Estimator fit failed. The score on this train-test\"\n",
      "C:\\Users\\Utilisateur\\anaconda3\\lib\\site-packages\\sklearn\\model_selection\\_validation.py:548: FitFailedWarning: Estimator fit failed. The score on this train-test partition for these parameters will be set to nan. Details: \n",
      "Traceback (most recent call last):\n",
      "  File \"C:\\Users\\Utilisateur\\anaconda3\\lib\\site-packages\\sklearn\\model_selection\\_validation.py\", line 531, in _fit_and_score\n",
      "    estimator.fit(X_train, y_train, **fit_params)\n",
      "  File \"C:\\Users\\Utilisateur\\anaconda3\\lib\\site-packages\\sklearn\\pipeline.py\", line 330, in fit\n",
      "    Xt = self._fit(X, y, **fit_params_steps)\n",
      "  File \"C:\\Users\\Utilisateur\\anaconda3\\lib\\site-packages\\sklearn\\pipeline.py\", line 292, in _fit\n",
      "    X, fitted_transformer = fit_transform_one_cached(\n",
      "  File \"C:\\Users\\Utilisateur\\anaconda3\\lib\\site-packages\\joblib\\memory.py\", line 352, in __call__\n",
      "    return self.func(*args, **kwargs)\n",
      "  File \"C:\\Users\\Utilisateur\\anaconda3\\lib\\site-packages\\sklearn\\pipeline.py\", line 740, in _fit_transform_one\n",
      "    res = transformer.fit_transform(X, y, **fit_params)\n",
      "  File \"C:\\Users\\Utilisateur\\anaconda3\\lib\\site-packages\\sklearn\\decomposition\\_pca.py\", line 376, in fit_transform\n",
      "    U, S, V = self._fit(X)\n",
      "  File \"C:\\Users\\Utilisateur\\anaconda3\\lib\\site-packages\\sklearn\\decomposition\\_pca.py\", line 423, in _fit\n",
      "    return self._fit_full(X, n_components)\n",
      "  File \"C:\\Users\\Utilisateur\\anaconda3\\lib\\site-packages\\sklearn\\decomposition\\_pca.py\", line 439, in _fit_full\n",
      "    raise ValueError(\"n_components=%r must be between 0 and \"\n",
      "ValueError: n_components=6 must be between 0 and min(n_samples, n_features)=5 with svd_solver='full'\n",
      "\n",
      "  warnings.warn(\"Estimator fit failed. The score on this train-test\"\n",
      "C:\\Users\\Utilisateur\\anaconda3\\lib\\site-packages\\sklearn\\model_selection\\_validation.py:548: FitFailedWarning: Estimator fit failed. The score on this train-test partition for these parameters will be set to nan. Details: \n",
      "Traceback (most recent call last):\n",
      "  File \"C:\\Users\\Utilisateur\\anaconda3\\lib\\site-packages\\sklearn\\model_selection\\_validation.py\", line 531, in _fit_and_score\n",
      "    estimator.fit(X_train, y_train, **fit_params)\n",
      "  File \"C:\\Users\\Utilisateur\\anaconda3\\lib\\site-packages\\sklearn\\pipeline.py\", line 330, in fit\n",
      "    Xt = self._fit(X, y, **fit_params_steps)\n",
      "  File \"C:\\Users\\Utilisateur\\anaconda3\\lib\\site-packages\\sklearn\\pipeline.py\", line 292, in _fit\n",
      "    X, fitted_transformer = fit_transform_one_cached(\n",
      "  File \"C:\\Users\\Utilisateur\\anaconda3\\lib\\site-packages\\joblib\\memory.py\", line 352, in __call__\n",
      "    return self.func(*args, **kwargs)\n",
      "  File \"C:\\Users\\Utilisateur\\anaconda3\\lib\\site-packages\\sklearn\\pipeline.py\", line 740, in _fit_transform_one\n",
      "    res = transformer.fit_transform(X, y, **fit_params)\n",
      "  File \"C:\\Users\\Utilisateur\\anaconda3\\lib\\site-packages\\sklearn\\decomposition\\_pca.py\", line 376, in fit_transform\n",
      "    U, S, V = self._fit(X)\n",
      "  File \"C:\\Users\\Utilisateur\\anaconda3\\lib\\site-packages\\sklearn\\decomposition\\_pca.py\", line 423, in _fit\n",
      "    return self._fit_full(X, n_components)\n",
      "  File \"C:\\Users\\Utilisateur\\anaconda3\\lib\\site-packages\\sklearn\\decomposition\\_pca.py\", line 439, in _fit_full\n",
      "    raise ValueError(\"n_components=%r must be between 0 and \"\n",
      "ValueError: n_components=6 must be between 0 and min(n_samples, n_features)=5 with svd_solver='full'\n",
      "\n",
      "  warnings.warn(\"Estimator fit failed. The score on this train-test\"\n"
     ]
    },
    {
     "data": {
      "image/png": "[encoded data removed]",
      "text/plain": [
       "<Figure size 432x288 with 1 Axes>"
      ]
     },
     "metadata": {
      "needs_background": "light"
     },
     "output_type": "display_data"
    }
   ],
   "source": [
    "df = df_raw\n",
    "\n",
    "# Aucunes missing Values (Drop / SimpleImputer) et duplicates\n",
    "\n",
    "# Moyenne de certaines colonnes après avoir vu les corrélations dans le dataset\n",
    "df['ROA'] = (df[['ROA(C) before interest and depreciation before interest', 'ROA(A) before interest and % after tax',\n",
    "                 'ROA(B) before interest and depreciation after tax']].sum(axis=1))/3\n",
    "\n",
    "df['Margin'] = (df[['Operating Gross Margin', 'Realized Sales Gross Margin',\n",
    "                 'Gross Profit to Sales']].sum(axis=1))/3\n",
    "\n",
    "df['Net Value Per Share'] = (df[['Net Value Per Share (B)', 'Net Value Per Share (A)',\n",
    "                 'Net Value Per Share (C)']].sum(axis=1))/3\n",
    "\n",
    "#drop de colonnes avec une forte corrélation + 'Net Income Flag' qui est inutile\n",
    "df = df.drop(['Current Liability to Liability', 'Liability to Equity', 'Current Liability to Equity', \n",
    "             'ROA(C) before interest and depreciation before interest', 'ROA(A) before interest and % after tax',\n",
    "             'ROA(B) before interest and depreciation after tax', 'Operating Gross Margin', 'Realized Sales Gross Margin',\n",
    "             'Gross Profit to Sales', 'Net Value Per Share (B)' , 'Net Value Per Share (A)',\n",
    "             'Net Value Per Share (C)','Net Income Flag','Long-term Liability to Current Assets', 'Quick Asset Turnover Rate'], axis=1)\n",
    "\n",
    "\n",
    "df5 = df[(df['Bankrupt?'] == 0)]\n",
    "df5 = df.sample(n=220,random_state=1)\n",
    "\n",
    "df6 = df[(df['Bankrupt?'] == 1)]\n",
    "\n",
    "df_model5 = df5.append(df6)\n",
    "\n",
    "SVC_model = SVC()\n",
    "\n",
    "SVC_pipe = Pipeline([\n",
    "    ('scaling', MinMaxScaler()),\n",
    "    ('PCA', PCA(n_components = 6)),\n",
    "    ('SVC', SVC_model),\n",
    "    ])\n",
    "\n",
    "\n",
    "X = df_model5.drop(['Bankrupt?'], axis=1)\n",
    "y = df_model5['Bankrupt?']\n",
    "\n",
    "X_train, X_test, y_train, y_test = train_test_split(X, y, test_size=.3, random_state=1)\n",
    "\n",
    "# Instanciate grid search\n",
    "grid_search = GridSearchCV(\n",
    "    SVC_pipe, \n",
    "    param_grid={\n",
    "        # Access any component of the pipeline, as far back as you want\n",
    "        'SVC__C': [0.1, 1, 10],\n",
    "        'SVC__gamma': [0.1, 1, 10],\n",
    "        'SVC__kernel': ['linear', 'poly', 'sigmoid']}, cv=5, verbose=3, scoring=\"recall\")\n",
    "\n",
    "grid_search.fit(X_train, y_train)\n",
    " \n",
    "\n",
    "# Appliquer les meilleurs paramètres à ton pipe\n",
    "SVC_pipe_trained = grid_search.best_estimator_\n",
    "\n",
    "y_pred = SVC_pipe_trained.predict(X_test)\n",
    "\n",
    "print(grid_search.best_params_) \n",
    "print(SVC_pipe_trained.score(X_test,y_test))\n",
    "print(recall_score(y_test, y_pred))\n",
    "print(classification_report(y_test, y_pred))\n",
    "\n",
    "def plot_confusion_matrix(y, y_pred):\n",
    "     cm = confusion_matrix(y, y_pred)\n",
    "     sns.heatmap(cm, annot=True, fmt=\".0f\")\n",
    "     plt.xlabel('y_pred')\n",
    "     plt.ylabel('y')\n",
    "     plt.show()\n",
    "\n",
    "plot_confusion_matrix(y_test, y_pred)\n",
    "\n",
    "# ROC CURVE\n",
    "metrics.plot_roc_curve(SVC_pipe_trained, X_test, y_test)\n",
    "plt.title('ROC Curve')\n",
    "plt.plot([0, 1], [0, 1], 'r--')\n",
    "plt.show()\n",
    "\n",
    "\n",
    "# LEARNING CURVE \n",
    "SVC_pipe = Pipeline([\n",
    "    ('scaling', MinMaxScaler()),\n",
    "    ('PCA', PCA(n_components = 6)),\n",
    "    ('SVC', SVC_model),\n",
    "    ])\n",
    "\n",
    "# Get train scores, train sizes, and validation scores using `learning_curve`, r2 score\n",
    "train_sizes, train_scores, test_scores = learning_curve(estimator = SVC_pipe,\n",
    "                                          X = X,\n",
    "                                          y = y,\n",
    "                                          train_sizes = [5,10,50,100,200,300],\n",
    "                                          cv = 5,\n",
    "                                          scoring='recall',\n",
    "                                          shuffle = True,\n",
    "                                          random_state=3)\n",
    "\n",
    "# Take the mean of cross-validated train scores and validation scores\n",
    "train_scores_mean = np.mean(train_scores, axis=1)\n",
    "test_scores_mean = np.mean(test_scores, axis=1)\n",
    "\n",
    "\n",
    "# Plot the learning curves!\n",
    "plt.plot(train_sizes, train_scores_mean, label = 'Training score')\n",
    "plt.plot(train_sizes, test_scores_mean, label = 'Test score')\n",
    "plt.ylabel('Recall', fontsize = 14)\n",
    "plt.xlabel('Training set size', fontsize = 14)\n",
    "plt.title('Learning curves - SVC model', fontsize = 18, y = 1.03)\n",
    "plt.legend()\n",
    "plt.ylim(0,1)\n",
    "plt.show()\n"
   ]
  },
  {
   "cell_type": "markdown",
   "id": "5cb211df",
   "metadata": {
    "hidden": true
   },
   "source": [
    "_best param = {'SVC__C': 0.1, 'SVC__gamma': 0.1, 'SVC__kernel': 'poly'}_"
   ]
  },
  {
   "cell_type": "markdown",
   "id": "34464fe2",
   "metadata": {
    "heading_collapsed": true,
    "hidden": true
   },
   "source": [
    "### SGD"
   ]
  },
  {
   "cell_type": "markdown",
   "id": "f2c14570",
   "metadata": {
    "heading_collapsed": true,
    "hidden": true
   },
   "source": [
    "#### get param"
   ]
  },
  {
   "cell_type": "code",
   "execution_count": 7,
   "id": "e5a7efa9",
   "metadata": {
    "hidden": true
   },
   "outputs": [
    {
     "data": {
      "text/plain": [
       "{'memory': None,\n",
       " 'steps': [('scaling', MinMaxScaler()),\n",
       "  ('PCA', PCA(n_components=6)),\n",
       "  ('SGD', SGDClassifier())],\n",
       " 'verbose': False,\n",
       " 'scaling': MinMaxScaler(),\n",
       " 'PCA': PCA(n_components=6),\n",
       " 'SGD': SGDClassifier(),\n",
       " 'scaling__copy': True,\n",
       " 'scaling__feature_range': (0, 1),\n",
       " 'PCA__copy': True,\n",
       " 'PCA__iterated_power': 'auto',\n",
       " 'PCA__n_components': 6,\n",
       " 'PCA__random_state': None,\n",
       " 'PCA__svd_solver': 'auto',\n",
       " 'PCA__tol': 0.0,\n",
       " 'PCA__whiten': False,\n",
       " 'SGD__alpha': 0.0001,\n",
       " 'SGD__average': False,\n",
       " 'SGD__class_weight': None,\n",
       " 'SGD__early_stopping': False,\n",
       " 'SGD__epsilon': 0.1,\n",
       " 'SGD__eta0': 0.0,\n",
       " 'SGD__fit_intercept': True,\n",
       " 'SGD__l1_ratio': 0.15,\n",
       " 'SGD__learning_rate': 'optimal',\n",
       " 'SGD__loss': 'hinge',\n",
       " 'SGD__max_iter': 1000,\n",
       " 'SGD__n_iter_no_change': 5,\n",
       " 'SGD__n_jobs': None,\n",
       " 'SGD__penalty': 'l2',\n",
       " 'SGD__power_t': 0.5,\n",
       " 'SGD__random_state': None,\n",
       " 'SGD__shuffle': True,\n",
       " 'SGD__tol': 0.001,\n",
       " 'SGD__validation_fraction': 0.1,\n",
       " 'SGD__verbose': 0,\n",
       " 'SGD__warm_start': False}"
      ]
     },
     "execution_count": 7,
     "metadata": {},
     "output_type": "execute_result"
    }
   ],
   "source": [
    "df = df_raw\n",
    "\n",
    "# Aucunes missing Values (Drop / SimpleImputer) et duplicates\n",
    "\n",
    "# Moyenne de certaines colonnes après avoir vu les corrélations dans le dataset\n",
    "df['ROA'] = (df[['ROA(C) before interest and depreciation before interest', 'ROA(A) before interest and % after tax',\n",
    "                 'ROA(B) before interest and depreciation after tax']].sum(axis=1))/3\n",
    "\n",
    "df['Margin'] = (df[['Operating Gross Margin', 'Realized Sales Gross Margin',\n",
    "                 'Gross Profit to Sales']].sum(axis=1))/3\n",
    "\n",
    "df['Net Value Per Share'] = (df[['Net Value Per Share (B)', 'Net Value Per Share (A)',\n",
    "                 'Net Value Per Share (C)']].sum(axis=1))/3\n",
    "\n",
    "#drop de colonnes avec une forte corrélation + 'Net Income Flag' qui est inutile\n",
    "df = df.drop(['Current Liability to Liability', 'Liability to Equity', 'Current Liability to Equity', \n",
    "             'ROA(C) before interest and depreciation before interest', 'ROA(A) before interest and % after tax',\n",
    "             'ROA(B) before interest and depreciation after tax', 'Operating Gross Margin', 'Realized Sales Gross Margin',\n",
    "             'Gross Profit to Sales', 'Net Value Per Share (B)' , 'Net Value Per Share (A)',\n",
    "             'Net Value Per Share (C)','Net Income Flag','Long-term Liability to Current Assets', 'Quick Asset Turnover Rate'], axis=1)\n",
    "\n",
    "\n",
    "df5 = df[(df['Bankrupt?'] == 0)]\n",
    "df5 = df.sample(n=220,random_state=1)\n",
    "\n",
    "df6 = df[(df['Bankrupt?'] == 1)]\n",
    "\n",
    "df_model5 = df5.append(df6)\n",
    "\n",
    "SGD_model = SGDClassifier()\n",
    "\n",
    "SGD_pipe = Pipeline([\n",
    "    ('scaling', MinMaxScaler()),\n",
    "    ('PCA', PCA(n_components = 6)),\n",
    "    ('SGD', SGD_model),\n",
    "    ])\n",
    "\n",
    "SGD_pipe_trained = SGD_pipe.fit(X_train,y_train)\n",
    "\n",
    "# get all params of the trained pipe. \n",
    "SGD_pipe_trained.get_params()"
   ]
  },
  {
   "cell_type": "markdown",
   "id": "0062f183",
   "metadata": {
    "heading_collapsed": true,
    "hidden": true
   },
   "source": [
    "#### GridSearch"
   ]
  },
  {
   "cell_type": "code",
   "execution_count": 2,
   "id": "d1508b37",
   "metadata": {
    "hidden": true
   },
   "outputs": [
    {
     "name": "stdout",
     "output_type": "stream",
     "text": [
      "Fitting 5 folds for each of 12 candidates, totalling 60 fits\n",
      "[CV] SGD__alpha=0.0001, SGD__penalty=l2 ..............................\n",
      "[CV] .. SGD__alpha=0.0001, SGD__penalty=l2, score=0.839, total=   0.0s\n",
      "[CV] SGD__alpha=0.0001, SGD__penalty=l2 ..............................\n",
      "[CV] .. SGD__alpha=0.0001, SGD__penalty=l2, score=0.774, total=   0.0s\n",
      "[CV] SGD__alpha=0.0001, SGD__penalty=l2 ..............................\n",
      "[CV] .. SGD__alpha=0.0001, SGD__penalty=l2, score=0.806, total=   0.0s\n",
      "[CV] SGD__alpha=0.0001, SGD__penalty=l2 ..............................\n",
      "[CV] .. SGD__alpha=0.0001, SGD__penalty=l2, score=0.548, total=   0.0s\n",
      "[CV] SGD__alpha=0.0001, SGD__penalty=l2 ..............................\n",
      "[CV] .. SGD__alpha=0.0001, SGD__penalty=l2, score=0.774, total=   0.0s\n",
      "[CV] SGD__alpha=0.0001, SGD__penalty=l1 ..............................\n",
      "[CV] .. SGD__alpha=0.0001, SGD__penalty=l1, score=0.645, total=   0.0s\n",
      "[CV] SGD__alpha=0.0001, SGD__penalty=l1 ..............................\n",
      "[CV] .. SGD__alpha=0.0001, SGD__penalty=l1, score=0.839, total=   0.0s\n",
      "[CV] SGD__alpha=0.0001, SGD__penalty=l1 ..............................\n"
     ]
    },
    {
     "name": "stderr",
     "output_type": "stream",
     "text": [
      "[Parallel(n_jobs=1)]: Using backend SequentialBackend with 1 concurrent workers.\n",
      "[Parallel(n_jobs=1)]: Done   1 out of   1 | elapsed:    0.0s remaining:    0.0s\n",
      "[Parallel(n_jobs=1)]: Done   2 out of   2 | elapsed:    0.0s remaining:    0.0s\n"
     ]
    },
    {
     "name": "stdout",
     "output_type": "stream",
     "text": [
      "[CV] .. SGD__alpha=0.0001, SGD__penalty=l1, score=0.871, total=   0.0s\n",
      "[CV] SGD__alpha=0.0001, SGD__penalty=l1 ..............................\n",
      "[CV] .. SGD__alpha=0.0001, SGD__penalty=l1, score=0.774, total=   0.0s\n",
      "[CV] SGD__alpha=0.0001, SGD__penalty=l1 ..............................\n",
      "[CV] .. SGD__alpha=0.0001, SGD__penalty=l1, score=0.774, total=   0.0s\n",
      "[CV] SGD__alpha=0.0001, SGD__penalty=elasticnet ......................\n",
      "[CV]  SGD__alpha=0.0001, SGD__penalty=elasticnet, score=0.839, total=   0.0s\n",
      "[CV] SGD__alpha=0.0001, SGD__penalty=elasticnet ......................\n",
      "[CV]  SGD__alpha=0.0001, SGD__penalty=elasticnet, score=0.806, total=   0.0s\n",
      "[CV] SGD__alpha=0.0001, SGD__penalty=elasticnet ......................\n",
      "[CV]  SGD__alpha=0.0001, SGD__penalty=elasticnet, score=0.806, total=   0.0s\n",
      "[CV] SGD__alpha=0.0001, SGD__penalty=elasticnet ......................\n",
      "[CV]  SGD__alpha=0.0001, SGD__penalty=elasticnet, score=0.387, total=   0.0s\n",
      "[CV] SGD__alpha=0.0001, SGD__penalty=elasticnet ......................\n",
      "[CV]  SGD__alpha=0.0001, SGD__penalty=elasticnet, score=0.774, total=   0.0s\n",
      "[CV] SGD__alpha=0.1, SGD__penalty=l2 .................................\n",
      "[CV] ..... SGD__alpha=0.1, SGD__penalty=l2, score=0.871, total=   0.0s\n",
      "[CV] SGD__alpha=0.1, SGD__penalty=l2 .................................\n",
      "[CV] ..... SGD__alpha=0.1, SGD__penalty=l2, score=0.806, total=   0.0s\n",
      "[CV] SGD__alpha=0.1, SGD__penalty=l2 .................................\n",
      "[CV] ..... SGD__alpha=0.1, SGD__penalty=l2, score=0.935, total=   0.0s\n",
      "[CV] SGD__alpha=0.1, SGD__penalty=l2 .................................\n",
      "[CV] ..... SGD__alpha=0.1, SGD__penalty=l2, score=0.903, total=   0.0s\n",
      "[CV] SGD__alpha=0.1, SGD__penalty=l2 .................................\n",
      "[CV] ..... SGD__alpha=0.1, SGD__penalty=l2, score=0.774, total=   0.0s\n",
      "[CV] SGD__alpha=0.1, SGD__penalty=l1 .................................\n",
      "[CV] ..... SGD__alpha=0.1, SGD__penalty=l1, score=0.839, total=   0.0s\n",
      "[CV] SGD__alpha=0.1, SGD__penalty=l1 .................................\n",
      "[CV] ..... SGD__alpha=0.1, SGD__penalty=l1, score=0.742, total=   0.0s\n",
      "[CV] SGD__alpha=0.1, SGD__penalty=l1 .................................\n",
      "[CV] ..... SGD__alpha=0.1, SGD__penalty=l1, score=0.839, total=   0.0s\n",
      "[CV] SGD__alpha=0.1, SGD__penalty=l1 .................................\n",
      "[CV] ..... SGD__alpha=0.1, SGD__penalty=l1, score=0.871, total=   0.0s\n",
      "[CV] SGD__alpha=0.1, SGD__penalty=l1 .................................\n",
      "[CV] ..... SGD__alpha=0.1, SGD__penalty=l1, score=0.806, total=   0.0s\n",
      "[CV] SGD__alpha=0.1, SGD__penalty=elasticnet .........................\n",
      "[CV]  SGD__alpha=0.1, SGD__penalty=elasticnet, score=0.839, total=   0.0s\n",
      "[CV] SGD__alpha=0.1, SGD__penalty=elasticnet .........................\n",
      "[CV]  SGD__alpha=0.1, SGD__penalty=elasticnet, score=0.839, total=   0.0s\n",
      "[CV] SGD__alpha=0.1, SGD__penalty=elasticnet .........................\n",
      "[CV]  SGD__alpha=0.1, SGD__penalty=elasticnet, score=0.903, total=   0.0s\n",
      "[CV] SGD__alpha=0.1, SGD__penalty=elasticnet .........................\n",
      "[CV]  SGD__alpha=0.1, SGD__penalty=elasticnet, score=0.903, total=   0.0s\n",
      "[CV] SGD__alpha=0.1, SGD__penalty=elasticnet .........................\n",
      "[CV]  SGD__alpha=0.1, SGD__penalty=elasticnet, score=0.774, total=   0.0s\n",
      "[CV] SGD__alpha=1.0, SGD__penalty=l2 .................................\n",
      "[CV] ..... SGD__alpha=1.0, SGD__penalty=l2, score=0.000, total=   0.0s\n",
      "[CV] SGD__alpha=1.0, SGD__penalty=l2 .................................\n",
      "[CV] ..... SGD__alpha=1.0, SGD__penalty=l2, score=1.000, total=   0.0s\n",
      "[CV] SGD__alpha=1.0, SGD__penalty=l2 .................................\n",
      "[CV] ..... SGD__alpha=1.0, SGD__penalty=l2, score=0.065, total=   0.0s\n",
      "[CV] SGD__alpha=1.0, SGD__penalty=l2 .................................\n",
      "[CV] ..... SGD__alpha=1.0, SGD__penalty=l2, score=1.000, total=   0.0s\n",
      "[CV] SGD__alpha=1.0, SGD__penalty=l2 .................................\n",
      "[CV] ..... SGD__alpha=1.0, SGD__penalty=l2, score=0.774, total=   0.0s\n",
      "[CV] SGD__alpha=1.0, SGD__penalty=l1 .................................\n",
      "[CV] ..... SGD__alpha=1.0, SGD__penalty=l1, score=0.000, total=   0.0s\n",
      "[CV] SGD__alpha=1.0, SGD__penalty=l1 .................................\n",
      "[CV] ..... SGD__alpha=1.0, SGD__penalty=l1, score=1.000, total=   0.0s\n",
      "[CV] SGD__alpha=1.0, SGD__penalty=l1 .................................\n",
      "[CV] ..... SGD__alpha=1.0, SGD__penalty=l1, score=1.000, total=   0.0s\n",
      "[CV] SGD__alpha=1.0, SGD__penalty=l1 .................................\n",
      "[CV] ..... SGD__alpha=1.0, SGD__penalty=l1, score=1.000, total=   0.0s\n",
      "[CV] SGD__alpha=1.0, SGD__penalty=l1 .................................\n",
      "[CV] ..... SGD__alpha=1.0, SGD__penalty=l1, score=0.000, total=   0.0s\n",
      "[CV] SGD__alpha=1.0, SGD__penalty=elasticnet .........................\n",
      "[CV]  SGD__alpha=1.0, SGD__penalty=elasticnet, score=0.000, total=   0.0s\n",
      "[CV] SGD__alpha=1.0, SGD__penalty=elasticnet .........................\n",
      "[CV]  SGD__alpha=1.0, SGD__penalty=elasticnet, score=0.000, total=   0.0s\n",
      "[CV] SGD__alpha=1.0, SGD__penalty=elasticnet .........................\n",
      "[CV]  SGD__alpha=1.0, SGD__penalty=elasticnet, score=0.968, total=   0.0s\n",
      "[CV] SGD__alpha=1.0, SGD__penalty=elasticnet .........................\n",
      "[CV]  SGD__alpha=1.0, SGD__penalty=elasticnet, score=0.065, total=   0.0s\n",
      "[CV] SGD__alpha=1.0, SGD__penalty=elasticnet .........................\n",
      "[CV]  SGD__alpha=1.0, SGD__penalty=elasticnet, score=1.000, total=   0.0s\n",
      "[CV] SGD__alpha=1000.0, SGD__penalty=l2 ..............................\n",
      "[CV] .. SGD__alpha=1000.0, SGD__penalty=l2, score=0.000, total=   0.0s\n",
      "[CV] SGD__alpha=1000.0, SGD__penalty=l2 ..............................\n",
      "[CV] .. SGD__alpha=1000.0, SGD__penalty=l2, score=0.000, total=   0.0s\n",
      "[CV] SGD__alpha=1000.0, SGD__penalty=l2 ..............................\n",
      "[CV] .. SGD__alpha=1000.0, SGD__penalty=l2, score=1.000, total=   0.0s\n",
      "[CV] SGD__alpha=1000.0, SGD__penalty=l2 ..............................\n",
      "[CV] .. SGD__alpha=1000.0, SGD__penalty=l2, score=1.000, total=   0.0s\n",
      "[CV] SGD__alpha=1000.0, SGD__penalty=l2 ..............................\n",
      "[CV] .. SGD__alpha=1000.0, SGD__penalty=l2, score=1.000, total=   0.0s\n",
      "[CV] SGD__alpha=1000.0, SGD__penalty=l1 ..............................\n",
      "[CV] .. SGD__alpha=1000.0, SGD__penalty=l1, score=1.000, total=   0.0s\n",
      "[CV] SGD__alpha=1000.0, SGD__penalty=l1 ..............................\n",
      "[CV] .. SGD__alpha=1000.0, SGD__penalty=l1, score=1.000, total=   0.0s\n",
      "[CV] SGD__alpha=1000.0, SGD__penalty=l1 ..............................\n",
      "[CV] .. SGD__alpha=1000.0, SGD__penalty=l1, score=0.000, total=   0.0s\n",
      "[CV] SGD__alpha=1000.0, SGD__penalty=l1 ..............................\n",
      "[CV] .. SGD__alpha=1000.0, SGD__penalty=l1, score=1.000, total=   0.0s\n",
      "[CV] SGD__alpha=1000.0, SGD__penalty=l1 ..............................\n",
      "[CV] .. SGD__alpha=1000.0, SGD__penalty=l1, score=1.000, total=   0.0s\n",
      "[CV] SGD__alpha=1000.0, SGD__penalty=elasticnet ......................\n",
      "[CV]  SGD__alpha=1000.0, SGD__penalty=elasticnet, score=0.000, total=   0.0s\n",
      "[CV] SGD__alpha=1000.0, SGD__penalty=elasticnet ......................\n",
      "[CV]  SGD__alpha=1000.0, SGD__penalty=elasticnet, score=1.000, total=   0.0s\n",
      "[CV] SGD__alpha=1000.0, SGD__penalty=elasticnet ......................\n",
      "[CV]  SGD__alpha=1000.0, SGD__penalty=elasticnet, score=0.000, total=   0.0s\n",
      "[CV] SGD__alpha=1000.0, SGD__penalty=elasticnet ......................\n",
      "[CV]  SGD__alpha=1000.0, SGD__penalty=elasticnet, score=1.000, total=   0.0s\n",
      "[CV] SGD__alpha=1000.0, SGD__penalty=elasticnet ......................\n",
      "[CV]  SGD__alpha=1000.0, SGD__penalty=elasticnet, score=0.000, total=   0.0s\n",
      "{'SGD__alpha': 0.1, 'SGD__penalty': 'l2'}\n",
      "0.8484848484848485\n",
      "0.8918918918918919\n",
      "              precision    recall  f1-score   support\n",
      "\n",
      "           0       0.85      0.79      0.82        58\n",
      "           1       0.85      0.89      0.87        74\n",
      "\n",
      "    accuracy                           0.85       132\n",
      "   macro avg       0.85      0.84      0.84       132\n",
      "weighted avg       0.85      0.85      0.85       132\n",
      "\n"
     ]
    },
    {
     "name": "stderr",
     "output_type": "stream",
     "text": [
      "[Parallel(n_jobs=1)]: Done  60 out of  60 | elapsed:    1.7s finished\n"
     ]
    },
    {
     "data": {
      "image/png": "[encoded data removed]",
      "text/plain": [
       "<Figure size 432x288 with 2 Axes>"
      ]
     },
     "metadata": {
      "needs_background": "light"
     },
     "output_type": "display_data"
    },
    {
     "data": {
      "image/png": "[encoded data removed]",
      "text/plain": [
       "<Figure size 432x288 with 1 Axes>"
      ]
     },
     "metadata": {
      "needs_background": "light"
     },
     "output_type": "display_data"
    },
    {
     "name": "stderr",
     "output_type": "stream",
     "text": [
      "C:\\Users\\Utilisateur\\anaconda3\\lib\\site-packages\\sklearn\\model_selection\\_validation.py:548: FitFailedWarning: Estimator fit failed. The score on this train-test partition for these parameters will be set to nan. Details: \n",
      "Traceback (most recent call last):\n",
      "  File \"C:\\Users\\Utilisateur\\anaconda3\\lib\\site-packages\\sklearn\\model_selection\\_validation.py\", line 531, in _fit_and_score\n",
      "    estimator.fit(X_train, y_train, **fit_params)\n",
      "  File \"C:\\Users\\Utilisateur\\anaconda3\\lib\\site-packages\\sklearn\\pipeline.py\", line 330, in fit\n",
      "    Xt = self._fit(X, y, **fit_params_steps)\n",
      "  File \"C:\\Users\\Utilisateur\\anaconda3\\lib\\site-packages\\sklearn\\pipeline.py\", line 292, in _fit\n",
      "    X, fitted_transformer = fit_transform_one_cached(\n",
      "  File \"C:\\Users\\Utilisateur\\anaconda3\\lib\\site-packages\\joblib\\memory.py\", line 352, in __call__\n",
      "    return self.func(*args, **kwargs)\n",
      "  File \"C:\\Users\\Utilisateur\\anaconda3\\lib\\site-packages\\sklearn\\pipeline.py\", line 740, in _fit_transform_one\n",
      "    res = transformer.fit_transform(X, y, **fit_params)\n",
      "  File \"C:\\Users\\Utilisateur\\anaconda3\\lib\\site-packages\\sklearn\\decomposition\\_pca.py\", line 376, in fit_transform\n",
      "    U, S, V = self._fit(X)\n",
      "  File \"C:\\Users\\Utilisateur\\anaconda3\\lib\\site-packages\\sklearn\\decomposition\\_pca.py\", line 423, in _fit\n",
      "    return self._fit_full(X, n_components)\n",
      "  File \"C:\\Users\\Utilisateur\\anaconda3\\lib\\site-packages\\sklearn\\decomposition\\_pca.py\", line 439, in _fit_full\n",
      "    raise ValueError(\"n_components=%r must be between 0 and \"\n",
      "ValueError: n_components=6 must be between 0 and min(n_samples, n_features)=5 with svd_solver='full'\n",
      "\n",
      "  warnings.warn(\"Estimator fit failed. The score on this train-test\"\n",
      "C:\\Users\\Utilisateur\\anaconda3\\lib\\site-packages\\sklearn\\model_selection\\_validation.py:548: FitFailedWarning: Estimator fit failed. The score on this train-test partition for these parameters will be set to nan. Details: \n",
      "Traceback (most recent call last):\n",
      "  File \"C:\\Users\\Utilisateur\\anaconda3\\lib\\site-packages\\sklearn\\model_selection\\_validation.py\", line 531, in _fit_and_score\n",
      "    estimator.fit(X_train, y_train, **fit_params)\n",
      "  File \"C:\\Users\\Utilisateur\\anaconda3\\lib\\site-packages\\sklearn\\pipeline.py\", line 330, in fit\n",
      "    Xt = self._fit(X, y, **fit_params_steps)\n",
      "  File \"C:\\Users\\Utilisateur\\anaconda3\\lib\\site-packages\\sklearn\\pipeline.py\", line 292, in _fit\n",
      "    X, fitted_transformer = fit_transform_one_cached(\n",
      "  File \"C:\\Users\\Utilisateur\\anaconda3\\lib\\site-packages\\joblib\\memory.py\", line 352, in __call__\n",
      "    return self.func(*args, **kwargs)\n",
      "  File \"C:\\Users\\Utilisateur\\anaconda3\\lib\\site-packages\\sklearn\\pipeline.py\", line 740, in _fit_transform_one\n",
      "    res = transformer.fit_transform(X, y, **fit_params)\n",
      "  File \"C:\\Users\\Utilisateur\\anaconda3\\lib\\site-packages\\sklearn\\decomposition\\_pca.py\", line 376, in fit_transform\n",
      "    U, S, V = self._fit(X)\n",
      "  File \"C:\\Users\\Utilisateur\\anaconda3\\lib\\site-packages\\sklearn\\decomposition\\_pca.py\", line 423, in _fit\n",
      "    return self._fit_full(X, n_components)\n",
      "  File \"C:\\Users\\Utilisateur\\anaconda3\\lib\\site-packages\\sklearn\\decomposition\\_pca.py\", line 439, in _fit_full\n",
      "    raise ValueError(\"n_components=%r must be between 0 and \"\n",
      "ValueError: n_components=6 must be between 0 and min(n_samples, n_features)=5 with svd_solver='full'\n",
      "\n",
      "  warnings.warn(\"Estimator fit failed. The score on this train-test\"\n",
      "C:\\Users\\Utilisateur\\anaconda3\\lib\\site-packages\\sklearn\\model_selection\\_validation.py:548: FitFailedWarning: Estimator fit failed. The score on this train-test partition for these parameters will be set to nan. Details: \n",
      "Traceback (most recent call last):\n",
      "  File \"C:\\Users\\Utilisateur\\anaconda3\\lib\\site-packages\\sklearn\\model_selection\\_validation.py\", line 531, in _fit_and_score\n",
      "    estimator.fit(X_train, y_train, **fit_params)\n",
      "  File \"C:\\Users\\Utilisateur\\anaconda3\\lib\\site-packages\\sklearn\\pipeline.py\", line 330, in fit\n",
      "    Xt = self._fit(X, y, **fit_params_steps)\n",
      "  File \"C:\\Users\\Utilisateur\\anaconda3\\lib\\site-packages\\sklearn\\pipeline.py\", line 292, in _fit\n",
      "    X, fitted_transformer = fit_transform_one_cached(\n",
      "  File \"C:\\Users\\Utilisateur\\anaconda3\\lib\\site-packages\\joblib\\memory.py\", line 352, in __call__\n",
      "    return self.func(*args, **kwargs)\n",
      "  File \"C:\\Users\\Utilisateur\\anaconda3\\lib\\site-packages\\sklearn\\pipeline.py\", line 740, in _fit_transform_one\n",
      "    res = transformer.fit_transform(X, y, **fit_params)\n",
      "  File \"C:\\Users\\Utilisateur\\anaconda3\\lib\\site-packages\\sklearn\\decomposition\\_pca.py\", line 376, in fit_transform\n",
      "    U, S, V = self._fit(X)\n",
      "  File \"C:\\Users\\Utilisateur\\anaconda3\\lib\\site-packages\\sklearn\\decomposition\\_pca.py\", line 423, in _fit\n",
      "    return self._fit_full(X, n_components)\n",
      "  File \"C:\\Users\\Utilisateur\\anaconda3\\lib\\site-packages\\sklearn\\decomposition\\_pca.py\", line 439, in _fit_full\n",
      "    raise ValueError(\"n_components=%r must be between 0 and \"\n",
      "ValueError: n_components=6 must be between 0 and min(n_samples, n_features)=5 with svd_solver='full'\n",
      "\n",
      "  warnings.warn(\"Estimator fit failed. The score on this train-test\"\n",
      "C:\\Users\\Utilisateur\\anaconda3\\lib\\site-packages\\sklearn\\model_selection\\_validation.py:548: FitFailedWarning: Estimator fit failed. The score on this train-test partition for these parameters will be set to nan. Details: \n",
      "Traceback (most recent call last):\n",
      "  File \"C:\\Users\\Utilisateur\\anaconda3\\lib\\site-packages\\sklearn\\model_selection\\_validation.py\", line 531, in _fit_and_score\n",
      "    estimator.fit(X_train, y_train, **fit_params)\n",
      "  File \"C:\\Users\\Utilisateur\\anaconda3\\lib\\site-packages\\sklearn\\pipeline.py\", line 330, in fit\n",
      "    Xt = self._fit(X, y, **fit_params_steps)\n",
      "  File \"C:\\Users\\Utilisateur\\anaconda3\\lib\\site-packages\\sklearn\\pipeline.py\", line 292, in _fit\n",
      "    X, fitted_transformer = fit_transform_one_cached(\n",
      "  File \"C:\\Users\\Utilisateur\\anaconda3\\lib\\site-packages\\joblib\\memory.py\", line 352, in __call__\n",
      "    return self.func(*args, **kwargs)\n",
      "  File \"C:\\Users\\Utilisateur\\anaconda3\\lib\\site-packages\\sklearn\\pipeline.py\", line 740, in _fit_transform_one\n",
      "    res = transformer.fit_transform(X, y, **fit_params)\n",
      "  File \"C:\\Users\\Utilisateur\\anaconda3\\lib\\site-packages\\sklearn\\decomposition\\_pca.py\", line 376, in fit_transform\n",
      "    U, S, V = self._fit(X)\n",
      "  File \"C:\\Users\\Utilisateur\\anaconda3\\lib\\site-packages\\sklearn\\decomposition\\_pca.py\", line 423, in _fit\n",
      "    return self._fit_full(X, n_components)\n",
      "  File \"C:\\Users\\Utilisateur\\anaconda3\\lib\\site-packages\\sklearn\\decomposition\\_pca.py\", line 439, in _fit_full\n",
      "    raise ValueError(\"n_components=%r must be between 0 and \"\n",
      "ValueError: n_components=6 must be between 0 and min(n_samples, n_features)=5 with svd_solver='full'\n",
      "\n",
      "  warnings.warn(\"Estimator fit failed. The score on this train-test\"\n",
      "C:\\Users\\Utilisateur\\anaconda3\\lib\\site-packages\\sklearn\\model_selection\\_validation.py:548: FitFailedWarning: Estimator fit failed. The score on this train-test partition for these parameters will be set to nan. Details: \n",
      "Traceback (most recent call last):\n",
      "  File \"C:\\Users\\Utilisateur\\anaconda3\\lib\\site-packages\\sklearn\\model_selection\\_validation.py\", line 531, in _fit_and_score\n",
      "    estimator.fit(X_train, y_train, **fit_params)\n",
      "  File \"C:\\Users\\Utilisateur\\anaconda3\\lib\\site-packages\\sklearn\\pipeline.py\", line 330, in fit\n",
      "    Xt = self._fit(X, y, **fit_params_steps)\n",
      "  File \"C:\\Users\\Utilisateur\\anaconda3\\lib\\site-packages\\sklearn\\pipeline.py\", line 292, in _fit\n",
      "    X, fitted_transformer = fit_transform_one_cached(\n",
      "  File \"C:\\Users\\Utilisateur\\anaconda3\\lib\\site-packages\\joblib\\memory.py\", line 352, in __call__\n",
      "    return self.func(*args, **kwargs)\n",
      "  File \"C:\\Users\\Utilisateur\\anaconda3\\lib\\site-packages\\sklearn\\pipeline.py\", line 740, in _fit_transform_one\n",
      "    res = transformer.fit_transform(X, y, **fit_params)\n",
      "  File \"C:\\Users\\Utilisateur\\anaconda3\\lib\\site-packages\\sklearn\\decomposition\\_pca.py\", line 376, in fit_transform\n",
      "    U, S, V = self._fit(X)\n",
      "  File \"C:\\Users\\Utilisateur\\anaconda3\\lib\\site-packages\\sklearn\\decomposition\\_pca.py\", line 423, in _fit\n",
      "    return self._fit_full(X, n_components)\n",
      "  File \"C:\\Users\\Utilisateur\\anaconda3\\lib\\site-packages\\sklearn\\decomposition\\_pca.py\", line 439, in _fit_full\n",
      "    raise ValueError(\"n_components=%r must be between 0 and \"\n",
      "ValueError: n_components=6 must be between 0 and min(n_samples, n_features)=5 with svd_solver='full'\n",
      "\n",
      "  warnings.warn(\"Estimator fit failed. The score on this train-test\"\n"
     ]
    },
    {
     "data": {
      "image/png": "[encoded data removed]",
      "text/plain": [
       "<Figure size 432x288 with 1 Axes>"
      ]
     },
     "metadata": {
      "needs_background": "light"
     },
     "output_type": "display_data"
    }
   ],
   "source": [
    "df = df_raw\n",
    "\n",
    "# Aucunes missing Values (Drop / SimpleImputer) et duplicates\n",
    "\n",
    "# Moyenne de certaines colonnes après avoir vu les corrélations dans le dataset\n",
    "df['ROA'] = (df[['ROA(C) before interest and depreciation before interest', 'ROA(A) before interest and % after tax',\n",
    "                 'ROA(B) before interest and depreciation after tax']].sum(axis=1))/3\n",
    "\n",
    "df['Margin'] = (df[['Operating Gross Margin', 'Realized Sales Gross Margin',\n",
    "                 'Gross Profit to Sales']].sum(axis=1))/3\n",
    "\n",
    "df['Net Value Per Share'] = (df[['Net Value Per Share (B)', 'Net Value Per Share (A)',\n",
    "                 'Net Value Per Share (C)']].sum(axis=1))/3\n",
    "\n",
    "#drop de colonnes avec une forte corrélation + 'Net Income Flag' qui est inutile\n",
    "df = df.drop(['Current Liability to Liability', 'Liability to Equity', 'Current Liability to Equity', \n",
    "             'ROA(C) before interest and depreciation before interest', 'ROA(A) before interest and % after tax',\n",
    "             'ROA(B) before interest and depreciation after tax', 'Operating Gross Margin', 'Realized Sales Gross Margin',\n",
    "             'Gross Profit to Sales', 'Net Value Per Share (B)' , 'Net Value Per Share (A)',\n",
    "             'Net Value Per Share (C)','Net Income Flag','Long-term Liability to Current Assets', 'Quick Asset Turnover Rate'], axis=1)\n",
    "\n",
    "\n",
    "df5 = df[(df['Bankrupt?'] == 0)]\n",
    "df5 = df.sample(n=220,random_state=1)\n",
    "\n",
    "df6 = df[(df['Bankrupt?'] == 1)]\n",
    "\n",
    "df_model5 = df5.append(df6)\n",
    "\n",
    "SGD_model = SGDClassifier()\n",
    "\n",
    "SGD_pipe = Pipeline([\n",
    "    ('scaling', MinMaxScaler()),\n",
    "    ('PCA', PCA(n_components = 6)),\n",
    "    ('SGD', SGD_model),\n",
    "    ])\n",
    "\n",
    "\n",
    "X = df_model5.drop(['Bankrupt?'], axis=1)\n",
    "y = df_model5['Bankrupt?']\n",
    "\n",
    "X_train, X_test, y_train, y_test = train_test_split(X, y, test_size=.3, random_state=1)\n",
    "\n",
    "# Instanciate grid search\n",
    "grid_search = GridSearchCV(\n",
    "    SGD_pipe, \n",
    "    param_grid={\n",
    "        # Access any component of the pipeline, as far back as you want\n",
    "        'SGD__alpha': [1e-4, 1e-1, 1e0, 1e3], \n",
    "        'SGD__penalty': ['l2', 'l1', 'elasticnet']}, cv=5, verbose=3, scoring=\"recall\")\n",
    "\n",
    "grid_search.fit(X_train, y_train)\n",
    " \n",
    "\n",
    "# Appliquer les meilleurs paramètres à ton pipe\n",
    "SGD_pipe_trained = grid_search.best_estimator_\n",
    "\n",
    "y_pred = SGD_pipe_trained.predict(X_test)\n",
    "\n",
    "print(grid_search.best_params_) \n",
    "print(SGD_pipe_trained.score(X_test,y_test))\n",
    "print(recall_score(y_test, y_pred))\n",
    "print(classification_report(y_test, y_pred))\n",
    "\n",
    "def plot_confusion_matrix(y, y_pred):\n",
    "     cm = confusion_matrix(y, y_pred)\n",
    "     sns.heatmap(cm, annot=True, fmt=\".0f\")\n",
    "     plt.xlabel('y_pred')\n",
    "     plt.ylabel('y')\n",
    "     plt.show()\n",
    "\n",
    "plot_confusion_matrix(y_test, y_pred)\n",
    "\n",
    "# ROC CURVE\n",
    "metrics.plot_roc_curve(SGD_pipe_trained, X_test, y_test)\n",
    "plt.title('ROC Curve')\n",
    "plt.plot([0, 1], [0, 1], 'r--')\n",
    "plt.show()\n",
    "\n",
    "\n",
    "# LEARNING CURVE \n",
    "# Get train scores, train sizes, and validation scores using `learning_curve`, r2 score\n",
    "train_sizes, train_scores, test_scores = learning_curve(estimator = SGD_pipe,\n",
    "                                          X = X,\n",
    "                                          y = y,\n",
    "                                          train_sizes = [5,10,50,100,200,300],\n",
    "                                          cv = 5,\n",
    "                                          scoring='recall',\n",
    "                                          shuffle = True,\n",
    "                                          random_state=3)\n",
    "\n",
    "# Take the mean of cross-validated train scores and validation scores\n",
    "train_scores_mean = np.mean(train_scores, axis=1)\n",
    "test_scores_mean = np.mean(test_scores, axis=1)\n",
    "\n",
    "\n",
    "# Plot the learning curves!\n",
    "plt.plot(train_sizes, train_scores_mean, label = 'Training score')\n",
    "plt.plot(train_sizes, test_scores_mean, label = 'Test score')\n",
    "plt.ylabel('Recall', fontsize = 14)\n",
    "plt.xlabel('Training set size', fontsize = 14)\n",
    "plt.title('Learning curves - SGD model', fontsize = 18, y = 1.03)\n",
    "plt.legend()\n",
    "plt.ylim(0,1)\n",
    "plt.show()\n"
   ]
  },
  {
   "cell_type": "markdown",
   "id": "60d47290",
   "metadata": {},
   "source": [
    "## Modèle 6 = Bagging"
   ]
  },
  {
   "cell_type": "markdown",
   "id": "69c3ee10",
   "metadata": {
    "heading_collapsed": true
   },
   "source": [
    "### RF"
   ]
  },
  {
   "cell_type": "markdown",
   "id": "c9e853eb",
   "metadata": {
    "heading_collapsed": true,
    "hidden": true
   },
   "source": [
    "#### get param"
   ]
  },
  {
   "cell_type": "code",
   "execution_count": 4,
   "id": "e2f2957d",
   "metadata": {
    "hidden": true
   },
   "outputs": [
    {
     "data": {
      "text/plain": [
       "{'memory': None,\n",
       " 'steps': [('scaling', MinMaxScaler()),\n",
       "  ('PCA', PCA(n_components=6)),\n",
       "  ('RF', RandomForestClassifier())],\n",
       " 'verbose': False,\n",
       " 'scaling': MinMaxScaler(),\n",
       " 'PCA': PCA(n_components=6),\n",
       " 'RF': RandomForestClassifier(),\n",
       " 'scaling__copy': True,\n",
       " 'scaling__feature_range': (0, 1),\n",
       " 'PCA__copy': True,\n",
       " 'PCA__iterated_power': 'auto',\n",
       " 'PCA__n_components': 6,\n",
       " 'PCA__random_state': None,\n",
       " 'PCA__svd_solver': 'auto',\n",
       " 'PCA__tol': 0.0,\n",
       " 'PCA__whiten': False,\n",
       " 'RF__bootstrap': True,\n",
       " 'RF__ccp_alpha': 0.0,\n",
       " 'RF__class_weight': None,\n",
       " 'RF__criterion': 'gini',\n",
       " 'RF__max_depth': None,\n",
       " 'RF__max_features': 'auto',\n",
       " 'RF__max_leaf_nodes': None,\n",
       " 'RF__max_samples': None,\n",
       " 'RF__min_impurity_decrease': 0.0,\n",
       " 'RF__min_impurity_split': None,\n",
       " 'RF__min_samples_leaf': 1,\n",
       " 'RF__min_samples_split': 2,\n",
       " 'RF__min_weight_fraction_leaf': 0.0,\n",
       " 'RF__n_estimators': 100,\n",
       " 'RF__n_jobs': None,\n",
       " 'RF__oob_score': False,\n",
       " 'RF__random_state': None,\n",
       " 'RF__verbose': 0,\n",
       " 'RF__warm_start': False}"
      ]
     },
     "execution_count": 4,
     "metadata": {},
     "output_type": "execute_result"
    }
   ],
   "source": [
    "df = df_raw\n",
    "\n",
    "# Aucunes missing Values (Drop / SimpleImputer) et duplicates\n",
    "\n",
    "# Moyenne de certaines colonnes après avoir vu les corrélations dans le dataset\n",
    "df['ROA'] = (df[['ROA(C) before interest and depreciation before interest', 'ROA(A) before interest and % after tax',\n",
    "                 'ROA(B) before interest and depreciation after tax']].sum(axis=1))/3\n",
    "\n",
    "df['Margin'] = (df[['Operating Gross Margin', 'Realized Sales Gross Margin',\n",
    "                 'Gross Profit to Sales']].sum(axis=1))/3\n",
    "\n",
    "df['Net Value Per Share'] = (df[['Net Value Per Share (B)', 'Net Value Per Share (A)',\n",
    "                 'Net Value Per Share (C)']].sum(axis=1))/3\n",
    "\n",
    "#drop de colonnes avec une forte corrélation + 'Net Income Flag' qui est inutile\n",
    "df = df.drop(['Current Liability to Liability', 'Liability to Equity', 'Current Liability to Equity', \n",
    "             'ROA(C) before interest and depreciation before interest', 'ROA(A) before interest and % after tax',\n",
    "             'ROA(B) before interest and depreciation after tax', 'Operating Gross Margin', 'Realized Sales Gross Margin',\n",
    "             'Gross Profit to Sales', 'Net Value Per Share (B)' , 'Net Value Per Share (A)',\n",
    "             'Net Value Per Share (C)','Net Income Flag','Long-term Liability to Current Assets', 'Quick Asset Turnover Rate'], axis=1)\n",
    "\n",
    "\n",
    "df5 = df[(df['Bankrupt?'] == 0)]\n",
    "df5 = df.sample(n=220,random_state=1)\n",
    "\n",
    "df6 = df[(df['Bankrupt?'] == 1)]\n",
    "\n",
    "df_model5 = df5.append(df6)\n",
    "\n",
    "RF_model = RandomForestClassifier()\n",
    "\n",
    "RF_pipe = Pipeline([\n",
    "    ('scaling', MinMaxScaler()),\n",
    "    ('PCA', PCA(n_components = 6)),\n",
    "    ('RF', RF_model),\n",
    "    ])\n",
    "\n",
    "RF_pipe_trained = RF_pipe.fit(X_train,y_train)\n",
    "\n",
    "# get all params of the trained pipe. \n",
    "RF_pipe_trained.get_params()"
   ]
  },
  {
   "cell_type": "markdown",
   "id": "992587fc",
   "metadata": {
    "heading_collapsed": true,
    "hidden": true
   },
   "source": [
    "#### GridSearch"
   ]
  },
  {
   "cell_type": "code",
   "execution_count": 2,
   "id": "bb249dc4",
   "metadata": {
    "hidden": true
   },
   "outputs": [
    {
     "name": "stdout",
     "output_type": "stream",
     "text": [
      "Fitting 5 folds for each of 24 candidates, totalling 120 fits\n",
      "[CV] RF__bootstrap=True, RF__max_depth=10, RF__n_estimators=200, RF__random_state=100 \n"
     ]
    },
    {
     "name": "stderr",
     "output_type": "stream",
     "text": [
      "[Parallel(n_jobs=1)]: Using backend SequentialBackend with 1 concurrent workers.\n"
     ]
    },
    {
     "name": "stdout",
     "output_type": "stream",
     "text": [
      "[CV]  RF__bootstrap=True, RF__max_depth=10, RF__n_estimators=200, RF__random_state=100, score=0.871, total=   0.5s\n",
      "[CV] RF__bootstrap=True, RF__max_depth=10, RF__n_estimators=200, RF__random_state=100 \n"
     ]
    },
    {
     "name": "stderr",
     "output_type": "stream",
     "text": [
      "[Parallel(n_jobs=1)]: Done   1 out of   1 | elapsed:    0.4s remaining:    0.0s\n"
     ]
    },
    {
     "name": "stdout",
     "output_type": "stream",
     "text": [
      "[CV]  RF__bootstrap=True, RF__max_depth=10, RF__n_estimators=200, RF__random_state=100, score=0.710, total=   0.5s\n",
      "[CV] RF__bootstrap=True, RF__max_depth=10, RF__n_estimators=200, RF__random_state=100 \n"
     ]
    },
    {
     "name": "stderr",
     "output_type": "stream",
     "text": [
      "[Parallel(n_jobs=1)]: Done   2 out of   2 | elapsed:    0.9s remaining:    0.0s\n"
     ]
    },
    {
     "name": "stdout",
     "output_type": "stream",
     "text": [
      "[CV]  RF__bootstrap=True, RF__max_depth=10, RF__n_estimators=200, RF__random_state=100, score=0.871, total=   0.5s\n",
      "[CV] RF__bootstrap=True, RF__max_depth=10, RF__n_estimators=200, RF__random_state=100 \n",
      "[CV]  RF__bootstrap=True, RF__max_depth=10, RF__n_estimators=200, RF__random_state=100, score=0.774, total=   0.5s\n",
      "[CV] RF__bootstrap=True, RF__max_depth=10, RF__n_estimators=200, RF__random_state=100 \n",
      "[CV]  RF__bootstrap=True, RF__max_depth=10, RF__n_estimators=200, RF__random_state=100, score=0.774, total=   0.4s\n",
      "[CV] RF__bootstrap=True, RF__max_depth=10, RF__n_estimators=200, RF__random_state=200 \n",
      "[CV]  RF__bootstrap=True, RF__max_depth=10, RF__n_estimators=200, RF__random_state=200, score=0.839, total=   0.5s\n",
      "[CV] RF__bootstrap=True, RF__max_depth=10, RF__n_estimators=200, RF__random_state=200 \n",
      "[CV]  RF__bootstrap=True, RF__max_depth=10, RF__n_estimators=200, RF__random_state=200, score=0.742, total=   0.4s\n",
      "[CV] RF__bootstrap=True, RF__max_depth=10, RF__n_estimators=200, RF__random_state=200 \n",
      "[CV]  RF__bootstrap=True, RF__max_depth=10, RF__n_estimators=200, RF__random_state=200, score=0.903, total=   0.4s\n",
      "[CV] RF__bootstrap=True, RF__max_depth=10, RF__n_estimators=200, RF__random_state=200 \n",
      "[CV]  RF__bootstrap=True, RF__max_depth=10, RF__n_estimators=200, RF__random_state=200, score=0.742, total=   0.5s\n",
      "[CV] RF__bootstrap=True, RF__max_depth=10, RF__n_estimators=200, RF__random_state=200 \n",
      "[CV]  RF__bootstrap=True, RF__max_depth=10, RF__n_estimators=200, RF__random_state=200, score=0.774, total=   0.4s\n",
      "[CV] RF__bootstrap=True, RF__max_depth=10, RF__n_estimators=400, RF__random_state=100 \n",
      "[CV]  RF__bootstrap=True, RF__max_depth=10, RF__n_estimators=400, RF__random_state=100, score=0.871, total=   0.8s\n",
      "[CV] RF__bootstrap=True, RF__max_depth=10, RF__n_estimators=400, RF__random_state=100 \n",
      "[CV]  RF__bootstrap=True, RF__max_depth=10, RF__n_estimators=400, RF__random_state=100, score=0.710, total=   0.9s\n",
      "[CV] RF__bootstrap=True, RF__max_depth=10, RF__n_estimators=400, RF__random_state=100 \n",
      "[CV]  RF__bootstrap=True, RF__max_depth=10, RF__n_estimators=400, RF__random_state=100, score=0.903, total=   1.0s\n",
      "[CV] RF__bootstrap=True, RF__max_depth=10, RF__n_estimators=400, RF__random_state=100 \n",
      "[CV]  RF__bootstrap=True, RF__max_depth=10, RF__n_estimators=400, RF__random_state=100, score=0.806, total=   0.9s\n",
      "[CV] RF__bootstrap=True, RF__max_depth=10, RF__n_estimators=400, RF__random_state=100 \n",
      "[CV]  RF__bootstrap=True, RF__max_depth=10, RF__n_estimators=400, RF__random_state=100, score=0.774, total=   0.9s\n",
      "[CV] RF__bootstrap=True, RF__max_depth=10, RF__n_estimators=400, RF__random_state=200 \n",
      "[CV]  RF__bootstrap=True, RF__max_depth=10, RF__n_estimators=400, RF__random_state=200, score=0.839, total=   0.9s\n",
      "[CV] RF__bootstrap=True, RF__max_depth=10, RF__n_estimators=400, RF__random_state=200 \n",
      "[CV]  RF__bootstrap=True, RF__max_depth=10, RF__n_estimators=400, RF__random_state=200, score=0.710, total=   0.8s\n",
      "[CV] RF__bootstrap=True, RF__max_depth=10, RF__n_estimators=400, RF__random_state=200 \n",
      "[CV]  RF__bootstrap=True, RF__max_depth=10, RF__n_estimators=400, RF__random_state=200, score=0.903, total=   0.8s\n",
      "[CV] RF__bootstrap=True, RF__max_depth=10, RF__n_estimators=400, RF__random_state=200 \n",
      "[CV]  RF__bootstrap=True, RF__max_depth=10, RF__n_estimators=400, RF__random_state=200, score=0.742, total=   0.9s\n",
      "[CV] RF__bootstrap=True, RF__max_depth=10, RF__n_estimators=400, RF__random_state=200 \n",
      "[CV]  RF__bootstrap=True, RF__max_depth=10, RF__n_estimators=400, RF__random_state=200, score=0.774, total=   0.8s\n",
      "[CV] RF__bootstrap=True, RF__max_depth=20, RF__n_estimators=200, RF__random_state=100 \n",
      "[CV]  RF__bootstrap=True, RF__max_depth=20, RF__n_estimators=200, RF__random_state=100, score=0.871, total=   0.4s\n",
      "[CV] RF__bootstrap=True, RF__max_depth=20, RF__n_estimators=200, RF__random_state=100 \n",
      "[CV]  RF__bootstrap=True, RF__max_depth=20, RF__n_estimators=200, RF__random_state=100, score=0.710, total=   0.4s\n",
      "[CV] RF__bootstrap=True, RF__max_depth=20, RF__n_estimators=200, RF__random_state=100 \n",
      "[CV]  RF__bootstrap=True, RF__max_depth=20, RF__n_estimators=200, RF__random_state=100, score=0.903, total=   0.4s\n",
      "[CV] RF__bootstrap=True, RF__max_depth=20, RF__n_estimators=200, RF__random_state=100 \n",
      "[CV]  RF__bootstrap=True, RF__max_depth=20, RF__n_estimators=200, RF__random_state=100, score=0.774, total=   0.4s\n",
      "[CV] RF__bootstrap=True, RF__max_depth=20, RF__n_estimators=200, RF__random_state=100 \n",
      "[CV]  RF__bootstrap=True, RF__max_depth=20, RF__n_estimators=200, RF__random_state=100, score=0.774, total=   0.4s\n",
      "[CV] RF__bootstrap=True, RF__max_depth=20, RF__n_estimators=200, RF__random_state=200 \n",
      "[CV]  RF__bootstrap=True, RF__max_depth=20, RF__n_estimators=200, RF__random_state=200, score=0.839, total=   0.4s\n",
      "[CV] RF__bootstrap=True, RF__max_depth=20, RF__n_estimators=200, RF__random_state=200 \n",
      "[CV]  RF__bootstrap=True, RF__max_depth=20, RF__n_estimators=200, RF__random_state=200, score=0.742, total=   0.4s\n",
      "[CV] RF__bootstrap=True, RF__max_depth=20, RF__n_estimators=200, RF__random_state=200 \n",
      "[CV]  RF__bootstrap=True, RF__max_depth=20, RF__n_estimators=200, RF__random_state=200, score=0.903, total=   0.4s\n",
      "[CV] RF__bootstrap=True, RF__max_depth=20, RF__n_estimators=200, RF__random_state=200 \n",
      "[CV]  RF__bootstrap=True, RF__max_depth=20, RF__n_estimators=200, RF__random_state=200, score=0.742, total=   0.4s\n",
      "[CV] RF__bootstrap=True, RF__max_depth=20, RF__n_estimators=200, RF__random_state=200 \n",
      "[CV]  RF__bootstrap=True, RF__max_depth=20, RF__n_estimators=200, RF__random_state=200, score=0.774, total=   0.4s\n",
      "[CV] RF__bootstrap=True, RF__max_depth=20, RF__n_estimators=400, RF__random_state=100 \n",
      "[CV]  RF__bootstrap=True, RF__max_depth=20, RF__n_estimators=400, RF__random_state=100, score=0.871, total=   0.8s\n",
      "[CV] RF__bootstrap=True, RF__max_depth=20, RF__n_estimators=400, RF__random_state=100 \n",
      "[CV]  RF__bootstrap=True, RF__max_depth=20, RF__n_estimators=400, RF__random_state=100, score=0.710, total=   0.8s\n",
      "[CV] RF__bootstrap=True, RF__max_depth=20, RF__n_estimators=400, RF__random_state=100 \n",
      "[CV]  RF__bootstrap=True, RF__max_depth=20, RF__n_estimators=400, RF__random_state=100, score=0.903, total=   0.9s\n",
      "[CV] RF__bootstrap=True, RF__max_depth=20, RF__n_estimators=400, RF__random_state=100 \n",
      "[CV]  RF__bootstrap=True, RF__max_depth=20, RF__n_estimators=400, RF__random_state=100, score=0.774, total=   0.9s\n",
      "[CV] RF__bootstrap=True, RF__max_depth=20, RF__n_estimators=400, RF__random_state=100 \n",
      "[CV]  RF__bootstrap=True, RF__max_depth=20, RF__n_estimators=400, RF__random_state=100, score=0.774, total=   0.8s\n",
      "[CV] RF__bootstrap=True, RF__max_depth=20, RF__n_estimators=400, RF__random_state=200 \n",
      "[CV]  RF__bootstrap=True, RF__max_depth=20, RF__n_estimators=400, RF__random_state=200, score=0.871, total=   0.8s\n",
      "[CV] RF__bootstrap=True, RF__max_depth=20, RF__n_estimators=400, RF__random_state=200 \n",
      "[CV]  RF__bootstrap=True, RF__max_depth=20, RF__n_estimators=400, RF__random_state=200, score=0.710, total=   0.8s\n",
      "[CV] RF__bootstrap=True, RF__max_depth=20, RF__n_estimators=400, RF__random_state=200 \n",
      "[CV]  RF__bootstrap=True, RF__max_depth=20, RF__n_estimators=400, RF__random_state=200, score=0.903, total=   0.8s\n",
      "[CV] RF__bootstrap=True, RF__max_depth=20, RF__n_estimators=400, RF__random_state=200 \n",
      "[CV]  RF__bootstrap=True, RF__max_depth=20, RF__n_estimators=400, RF__random_state=200, score=0.710, total=   0.8s\n",
      "[CV] RF__bootstrap=True, RF__max_depth=20, RF__n_estimators=400, RF__random_state=200 \n",
      "[CV]  RF__bootstrap=True, RF__max_depth=20, RF__n_estimators=400, RF__random_state=200, score=0.774, total=   1.0s\n",
      "[CV] RF__bootstrap=True, RF__max_depth=None, RF__n_estimators=200, RF__random_state=100 \n",
      "[CV]  RF__bootstrap=True, RF__max_depth=None, RF__n_estimators=200, RF__random_state=100, score=0.871, total=   0.4s\n",
      "[CV] RF__bootstrap=True, RF__max_depth=None, RF__n_estimators=200, RF__random_state=100 \n",
      "[CV]  RF__bootstrap=True, RF__max_depth=None, RF__n_estimators=200, RF__random_state=100, score=0.710, total=   0.4s\n",
      "[CV] RF__bootstrap=True, RF__max_depth=None, RF__n_estimators=200, RF__random_state=100 \n",
      "[CV]  RF__bootstrap=True, RF__max_depth=None, RF__n_estimators=200, RF__random_state=100, score=0.903, total=   0.4s\n",
      "[CV] RF__bootstrap=True, RF__max_depth=None, RF__n_estimators=200, RF__random_state=100 \n"
     ]
    },
    {
     "name": "stdout",
     "output_type": "stream",
     "text": [
      "[CV]  RF__bootstrap=True, RF__max_depth=None, RF__n_estimators=200, RF__random_state=100, score=0.774, total=   0.4s\n",
      "[CV] RF__bootstrap=True, RF__max_depth=None, RF__n_estimators=200, RF__random_state=100 \n",
      "[CV]  RF__bootstrap=True, RF__max_depth=None, RF__n_estimators=200, RF__random_state=100, score=0.774, total=   0.4s\n",
      "[CV] RF__bootstrap=True, RF__max_depth=None, RF__n_estimators=200, RF__random_state=200 \n",
      "[CV]  RF__bootstrap=True, RF__max_depth=None, RF__n_estimators=200, RF__random_state=200, score=0.839, total=   0.4s\n",
      "[CV] RF__bootstrap=True, RF__max_depth=None, RF__n_estimators=200, RF__random_state=200 \n",
      "[CV]  RF__bootstrap=True, RF__max_depth=None, RF__n_estimators=200, RF__random_state=200, score=0.742, total=   0.4s\n",
      "[CV] RF__bootstrap=True, RF__max_depth=None, RF__n_estimators=200, RF__random_state=200 \n",
      "[CV]  RF__bootstrap=True, RF__max_depth=None, RF__n_estimators=200, RF__random_state=200, score=0.903, total=   0.4s\n",
      "[CV] RF__bootstrap=True, RF__max_depth=None, RF__n_estimators=200, RF__random_state=200 \n",
      "[CV]  RF__bootstrap=True, RF__max_depth=None, RF__n_estimators=200, RF__random_state=200, score=0.742, total=   0.4s\n",
      "[CV] RF__bootstrap=True, RF__max_depth=None, RF__n_estimators=200, RF__random_state=200 \n",
      "[CV]  RF__bootstrap=True, RF__max_depth=None, RF__n_estimators=200, RF__random_state=200, score=0.774, total=   0.4s\n",
      "[CV] RF__bootstrap=True, RF__max_depth=None, RF__n_estimators=400, RF__random_state=100 \n",
      "[CV]  RF__bootstrap=True, RF__max_depth=None, RF__n_estimators=400, RF__random_state=100, score=0.871, total=   0.8s\n",
      "[CV] RF__bootstrap=True, RF__max_depth=None, RF__n_estimators=400, RF__random_state=100 \n",
      "[CV]  RF__bootstrap=True, RF__max_depth=None, RF__n_estimators=400, RF__random_state=100, score=0.710, total=   0.8s\n",
      "[CV] RF__bootstrap=True, RF__max_depth=None, RF__n_estimators=400, RF__random_state=100 \n",
      "[CV]  RF__bootstrap=True, RF__max_depth=None, RF__n_estimators=400, RF__random_state=100, score=0.903, total=   0.8s\n",
      "[CV] RF__bootstrap=True, RF__max_depth=None, RF__n_estimators=400, RF__random_state=100 \n",
      "[CV]  RF__bootstrap=True, RF__max_depth=None, RF__n_estimators=400, RF__random_state=100, score=0.774, total=   0.8s\n",
      "[CV] RF__bootstrap=True, RF__max_depth=None, RF__n_estimators=400, RF__random_state=100 \n",
      "[CV]  RF__bootstrap=True, RF__max_depth=None, RF__n_estimators=400, RF__random_state=100, score=0.774, total=   0.8s\n",
      "[CV] RF__bootstrap=True, RF__max_depth=None, RF__n_estimators=400, RF__random_state=200 \n",
      "[CV]  RF__bootstrap=True, RF__max_depth=None, RF__n_estimators=400, RF__random_state=200, score=0.871, total=   0.8s\n",
      "[CV] RF__bootstrap=True, RF__max_depth=None, RF__n_estimators=400, RF__random_state=200 \n",
      "[CV]  RF__bootstrap=True, RF__max_depth=None, RF__n_estimators=400, RF__random_state=200, score=0.710, total=   1.0s\n",
      "[CV] RF__bootstrap=True, RF__max_depth=None, RF__n_estimators=400, RF__random_state=200 \n",
      "[CV]  RF__bootstrap=True, RF__max_depth=None, RF__n_estimators=400, RF__random_state=200, score=0.903, total=   0.8s\n",
      "[CV] RF__bootstrap=True, RF__max_depth=None, RF__n_estimators=400, RF__random_state=200 \n",
      "[CV]  RF__bootstrap=True, RF__max_depth=None, RF__n_estimators=400, RF__random_state=200, score=0.710, total=   0.8s\n",
      "[CV] RF__bootstrap=True, RF__max_depth=None, RF__n_estimators=400, RF__random_state=200 \n",
      "[CV]  RF__bootstrap=True, RF__max_depth=None, RF__n_estimators=400, RF__random_state=200, score=0.774, total=   0.8s\n",
      "[CV] RF__bootstrap=False, RF__max_depth=10, RF__n_estimators=200, RF__random_state=100 \n",
      "[CV]  RF__bootstrap=False, RF__max_depth=10, RF__n_estimators=200, RF__random_state=100, score=0.839, total=   0.4s\n",
      "[CV] RF__bootstrap=False, RF__max_depth=10, RF__n_estimators=200, RF__random_state=100 \n",
      "[CV]  RF__bootstrap=False, RF__max_depth=10, RF__n_estimators=200, RF__random_state=100, score=0.710, total=   0.3s\n",
      "[CV] RF__bootstrap=False, RF__max_depth=10, RF__n_estimators=200, RF__random_state=100 \n",
      "[CV]  RF__bootstrap=False, RF__max_depth=10, RF__n_estimators=200, RF__random_state=100, score=0.871, total=   0.4s\n",
      "[CV] RF__bootstrap=False, RF__max_depth=10, RF__n_estimators=200, RF__random_state=100 \n",
      "[CV]  RF__bootstrap=False, RF__max_depth=10, RF__n_estimators=200, RF__random_state=100, score=0.710, total=   0.4s\n",
      "[CV] RF__bootstrap=False, RF__max_depth=10, RF__n_estimators=200, RF__random_state=100 \n",
      "[CV]  RF__bootstrap=False, RF__max_depth=10, RF__n_estimators=200, RF__random_state=100, score=0.774, total=   0.4s\n",
      "[CV] RF__bootstrap=False, RF__max_depth=10, RF__n_estimators=200, RF__random_state=200 \n",
      "[CV]  RF__bootstrap=False, RF__max_depth=10, RF__n_estimators=200, RF__random_state=200, score=0.839, total=   0.4s\n",
      "[CV] RF__bootstrap=False, RF__max_depth=10, RF__n_estimators=200, RF__random_state=200 \n",
      "[CV]  RF__bootstrap=False, RF__max_depth=10, RF__n_estimators=200, RF__random_state=200, score=0.710, total=   0.4s\n",
      "[CV] RF__bootstrap=False, RF__max_depth=10, RF__n_estimators=200, RF__random_state=200 \n",
      "[CV]  RF__bootstrap=False, RF__max_depth=10, RF__n_estimators=200, RF__random_state=200, score=0.871, total=   0.4s\n",
      "[CV] RF__bootstrap=False, RF__max_depth=10, RF__n_estimators=200, RF__random_state=200 \n",
      "[CV]  RF__bootstrap=False, RF__max_depth=10, RF__n_estimators=200, RF__random_state=200, score=0.742, total=   0.4s\n",
      "[CV] RF__bootstrap=False, RF__max_depth=10, RF__n_estimators=200, RF__random_state=200 \n",
      "[CV]  RF__bootstrap=False, RF__max_depth=10, RF__n_estimators=200, RF__random_state=200, score=0.774, total=   0.3s\n",
      "[CV] RF__bootstrap=False, RF__max_depth=10, RF__n_estimators=400, RF__random_state=100 \n",
      "[CV]  RF__bootstrap=False, RF__max_depth=10, RF__n_estimators=400, RF__random_state=100, score=0.839, total=   0.7s\n",
      "[CV] RF__bootstrap=False, RF__max_depth=10, RF__n_estimators=400, RF__random_state=100 \n",
      "[CV]  RF__bootstrap=False, RF__max_depth=10, RF__n_estimators=400, RF__random_state=100, score=0.710, total=   0.7s\n",
      "[CV] RF__bootstrap=False, RF__max_depth=10, RF__n_estimators=400, RF__random_state=100 \n",
      "[CV]  RF__bootstrap=False, RF__max_depth=10, RF__n_estimators=400, RF__random_state=100, score=0.871, total=   0.7s\n",
      "[CV] RF__bootstrap=False, RF__max_depth=10, RF__n_estimators=400, RF__random_state=100 \n",
      "[CV]  RF__bootstrap=False, RF__max_depth=10, RF__n_estimators=400, RF__random_state=100, score=0.742, total=   0.7s\n",
      "[CV] RF__bootstrap=False, RF__max_depth=10, RF__n_estimators=400, RF__random_state=100 \n",
      "[CV]  RF__bootstrap=False, RF__max_depth=10, RF__n_estimators=400, RF__random_state=100, score=0.774, total=   0.7s\n",
      "[CV] RF__bootstrap=False, RF__max_depth=10, RF__n_estimators=400, RF__random_state=200 \n",
      "[CV]  RF__bootstrap=False, RF__max_depth=10, RF__n_estimators=400, RF__random_state=200, score=0.839, total=   0.6s\n",
      "[CV] RF__bootstrap=False, RF__max_depth=10, RF__n_estimators=400, RF__random_state=200 \n",
      "[CV]  RF__bootstrap=False, RF__max_depth=10, RF__n_estimators=400, RF__random_state=200, score=0.710, total=   0.6s\n",
      "[CV] RF__bootstrap=False, RF__max_depth=10, RF__n_estimators=400, RF__random_state=200 \n",
      "[CV]  RF__bootstrap=False, RF__max_depth=10, RF__n_estimators=400, RF__random_state=200, score=0.871, total=   0.7s\n",
      "[CV] RF__bootstrap=False, RF__max_depth=10, RF__n_estimators=400, RF__random_state=200 \n",
      "[CV]  RF__bootstrap=False, RF__max_depth=10, RF__n_estimators=400, RF__random_state=200, score=0.742, total=   0.7s\n",
      "[CV] RF__bootstrap=False, RF__max_depth=10, RF__n_estimators=400, RF__random_state=200 \n",
      "[CV]  RF__bootstrap=False, RF__max_depth=10, RF__n_estimators=400, RF__random_state=200, score=0.774, total=   0.7s\n",
      "[CV] RF__bootstrap=False, RF__max_depth=20, RF__n_estimators=200, RF__random_state=100 \n",
      "[CV]  RF__bootstrap=False, RF__max_depth=20, RF__n_estimators=200, RF__random_state=100, score=0.839, total=   0.4s\n",
      "[CV] RF__bootstrap=False, RF__max_depth=20, RF__n_estimators=200, RF__random_state=100 \n",
      "[CV]  RF__bootstrap=False, RF__max_depth=20, RF__n_estimators=200, RF__random_state=100, score=0.710, total=   0.4s\n",
      "[CV] RF__bootstrap=False, RF__max_depth=20, RF__n_estimators=200, RF__random_state=100 \n",
      "[CV]  RF__bootstrap=False, RF__max_depth=20, RF__n_estimators=200, RF__random_state=100, score=0.871, total=   0.3s\n",
      "[CV] RF__bootstrap=False, RF__max_depth=20, RF__n_estimators=200, RF__random_state=100 \n"
     ]
    },
    {
     "name": "stdout",
     "output_type": "stream",
     "text": [
      "[CV]  RF__bootstrap=False, RF__max_depth=20, RF__n_estimators=200, RF__random_state=100, score=0.710, total=   0.3s\n",
      "[CV] RF__bootstrap=False, RF__max_depth=20, RF__n_estimators=200, RF__random_state=100 \n",
      "[CV]  RF__bootstrap=False, RF__max_depth=20, RF__n_estimators=200, RF__random_state=100, score=0.774, total=   0.4s\n",
      "[CV] RF__bootstrap=False, RF__max_depth=20, RF__n_estimators=200, RF__random_state=200 \n",
      "[CV]  RF__bootstrap=False, RF__max_depth=20, RF__n_estimators=200, RF__random_state=200, score=0.839, total=   0.4s\n",
      "[CV] RF__bootstrap=False, RF__max_depth=20, RF__n_estimators=200, RF__random_state=200 \n",
      "[CV]  RF__bootstrap=False, RF__max_depth=20, RF__n_estimators=200, RF__random_state=200, score=0.677, total=   0.3s\n",
      "[CV] RF__bootstrap=False, RF__max_depth=20, RF__n_estimators=200, RF__random_state=200 \n",
      "[CV]  RF__bootstrap=False, RF__max_depth=20, RF__n_estimators=200, RF__random_state=200, score=0.871, total=   0.3s\n",
      "[CV] RF__bootstrap=False, RF__max_depth=20, RF__n_estimators=200, RF__random_state=200 \n",
      "[CV]  RF__bootstrap=False, RF__max_depth=20, RF__n_estimators=200, RF__random_state=200, score=0.742, total=   0.3s\n",
      "[CV] RF__bootstrap=False, RF__max_depth=20, RF__n_estimators=200, RF__random_state=200 \n",
      "[CV]  RF__bootstrap=False, RF__max_depth=20, RF__n_estimators=200, RF__random_state=200, score=0.774, total=   0.3s\n",
      "[CV] RF__bootstrap=False, RF__max_depth=20, RF__n_estimators=400, RF__random_state=100 \n",
      "[CV]  RF__bootstrap=False, RF__max_depth=20, RF__n_estimators=400, RF__random_state=100, score=0.839, total=   0.7s\n",
      "[CV] RF__bootstrap=False, RF__max_depth=20, RF__n_estimators=400, RF__random_state=100 \n",
      "[CV]  RF__bootstrap=False, RF__max_depth=20, RF__n_estimators=400, RF__random_state=100, score=0.710, total=   0.7s\n",
      "[CV] RF__bootstrap=False, RF__max_depth=20, RF__n_estimators=400, RF__random_state=100 \n",
      "[CV]  RF__bootstrap=False, RF__max_depth=20, RF__n_estimators=400, RF__random_state=100, score=0.871, total=   0.7s\n",
      "[CV] RF__bootstrap=False, RF__max_depth=20, RF__n_estimators=400, RF__random_state=100 \n",
      "[CV]  RF__bootstrap=False, RF__max_depth=20, RF__n_estimators=400, RF__random_state=100, score=0.742, total=   0.7s\n",
      "[CV] RF__bootstrap=False, RF__max_depth=20, RF__n_estimators=400, RF__random_state=100 \n",
      "[CV]  RF__bootstrap=False, RF__max_depth=20, RF__n_estimators=400, RF__random_state=100, score=0.774, total=   0.6s\n",
      "[CV] RF__bootstrap=False, RF__max_depth=20, RF__n_estimators=400, RF__random_state=200 \n",
      "[CV]  RF__bootstrap=False, RF__max_depth=20, RF__n_estimators=400, RF__random_state=200, score=0.839, total=   0.6s\n",
      "[CV] RF__bootstrap=False, RF__max_depth=20, RF__n_estimators=400, RF__random_state=200 \n",
      "[CV]  RF__bootstrap=False, RF__max_depth=20, RF__n_estimators=400, RF__random_state=200, score=0.677, total=   0.7s\n",
      "[CV] RF__bootstrap=False, RF__max_depth=20, RF__n_estimators=400, RF__random_state=200 \n",
      "[CV]  RF__bootstrap=False, RF__max_depth=20, RF__n_estimators=400, RF__random_state=200, score=0.871, total=   0.7s\n",
      "[CV] RF__bootstrap=False, RF__max_depth=20, RF__n_estimators=400, RF__random_state=200 \n",
      "[CV]  RF__bootstrap=False, RF__max_depth=20, RF__n_estimators=400, RF__random_state=200, score=0.742, total=   0.7s\n",
      "[CV] RF__bootstrap=False, RF__max_depth=20, RF__n_estimators=400, RF__random_state=200 \n",
      "[CV]  RF__bootstrap=False, RF__max_depth=20, RF__n_estimators=400, RF__random_state=200, score=0.774, total=   0.7s\n",
      "[CV] RF__bootstrap=False, RF__max_depth=None, RF__n_estimators=200, RF__random_state=100 \n",
      "[CV]  RF__bootstrap=False, RF__max_depth=None, RF__n_estimators=200, RF__random_state=100, score=0.839, total=   0.3s\n",
      "[CV] RF__bootstrap=False, RF__max_depth=None, RF__n_estimators=200, RF__random_state=100 \n",
      "[CV]  RF__bootstrap=False, RF__max_depth=None, RF__n_estimators=200, RF__random_state=100, score=0.710, total=   0.3s\n",
      "[CV] RF__bootstrap=False, RF__max_depth=None, RF__n_estimators=200, RF__random_state=100 \n",
      "[CV]  RF__bootstrap=False, RF__max_depth=None, RF__n_estimators=200, RF__random_state=100, score=0.871, total=   0.4s\n",
      "[CV] RF__bootstrap=False, RF__max_depth=None, RF__n_estimators=200, RF__random_state=100 \n",
      "[CV]  RF__bootstrap=False, RF__max_depth=None, RF__n_estimators=200, RF__random_state=100, score=0.710, total=   0.3s\n",
      "[CV] RF__bootstrap=False, RF__max_depth=None, RF__n_estimators=200, RF__random_state=100 \n",
      "[CV]  RF__bootstrap=False, RF__max_depth=None, RF__n_estimators=200, RF__random_state=100, score=0.774, total=   0.3s\n",
      "[CV] RF__bootstrap=False, RF__max_depth=None, RF__n_estimators=200, RF__random_state=200 \n",
      "[CV]  RF__bootstrap=False, RF__max_depth=None, RF__n_estimators=200, RF__random_state=200, score=0.839, total=   0.3s\n",
      "[CV] RF__bootstrap=False, RF__max_depth=None, RF__n_estimators=200, RF__random_state=200 \n",
      "[CV]  RF__bootstrap=False, RF__max_depth=None, RF__n_estimators=200, RF__random_state=200, score=0.677, total=   0.3s\n",
      "[CV] RF__bootstrap=False, RF__max_depth=None, RF__n_estimators=200, RF__random_state=200 \n",
      "[CV]  RF__bootstrap=False, RF__max_depth=None, RF__n_estimators=200, RF__random_state=200, score=0.871, total=   0.3s\n",
      "[CV] RF__bootstrap=False, RF__max_depth=None, RF__n_estimators=200, RF__random_state=200 \n",
      "[CV]  RF__bootstrap=False, RF__max_depth=None, RF__n_estimators=200, RF__random_state=200, score=0.742, total=   0.4s\n",
      "[CV] RF__bootstrap=False, RF__max_depth=None, RF__n_estimators=200, RF__random_state=200 \n",
      "[CV]  RF__bootstrap=False, RF__max_depth=None, RF__n_estimators=200, RF__random_state=200, score=0.774, total=   0.4s\n",
      "[CV] RF__bootstrap=False, RF__max_depth=None, RF__n_estimators=400, RF__random_state=100 \n",
      "[CV]  RF__bootstrap=False, RF__max_depth=None, RF__n_estimators=400, RF__random_state=100, score=0.839, total=   0.7s\n",
      "[CV] RF__bootstrap=False, RF__max_depth=None, RF__n_estimators=400, RF__random_state=100 \n",
      "[CV]  RF__bootstrap=False, RF__max_depth=None, RF__n_estimators=400, RF__random_state=100, score=0.710, total=   0.7s\n",
      "[CV] RF__bootstrap=False, RF__max_depth=None, RF__n_estimators=400, RF__random_state=100 \n",
      "[CV]  RF__bootstrap=False, RF__max_depth=None, RF__n_estimators=400, RF__random_state=100, score=0.871, total=   0.7s\n",
      "[CV] RF__bootstrap=False, RF__max_depth=None, RF__n_estimators=400, RF__random_state=100 \n",
      "[CV]  RF__bootstrap=False, RF__max_depth=None, RF__n_estimators=400, RF__random_state=100, score=0.742, total=   0.7s\n",
      "[CV] RF__bootstrap=False, RF__max_depth=None, RF__n_estimators=400, RF__random_state=100 \n",
      "[CV]  RF__bootstrap=False, RF__max_depth=None, RF__n_estimators=400, RF__random_state=100, score=0.774, total=   0.7s\n",
      "[CV] RF__bootstrap=False, RF__max_depth=None, RF__n_estimators=400, RF__random_state=200 \n",
      "[CV]  RF__bootstrap=False, RF__max_depth=None, RF__n_estimators=400, RF__random_state=200, score=0.839, total=   0.7s\n",
      "[CV] RF__bootstrap=False, RF__max_depth=None, RF__n_estimators=400, RF__random_state=200 \n",
      "[CV]  RF__bootstrap=False, RF__max_depth=None, RF__n_estimators=400, RF__random_state=200, score=0.677, total=   0.7s\n",
      "[CV] RF__bootstrap=False, RF__max_depth=None, RF__n_estimators=400, RF__random_state=200 \n",
      "[CV]  RF__bootstrap=False, RF__max_depth=None, RF__n_estimators=400, RF__random_state=200, score=0.871, total=   0.7s\n",
      "[CV] RF__bootstrap=False, RF__max_depth=None, RF__n_estimators=400, RF__random_state=200 \n",
      "[CV]  RF__bootstrap=False, RF__max_depth=None, RF__n_estimators=400, RF__random_state=200, score=0.742, total=   0.7s\n",
      "[CV] RF__bootstrap=False, RF__max_depth=None, RF__n_estimators=400, RF__random_state=200 \n",
      "[CV]  RF__bootstrap=False, RF__max_depth=None, RF__n_estimators=400, RF__random_state=200, score=0.774, total=   0.7s\n"
     ]
    },
    {
     "name": "stderr",
     "output_type": "stream",
     "text": [
      "[Parallel(n_jobs=1)]: Done 120 out of 120 | elapsed:  1.1min finished\n"
     ]
    },
    {
     "name": "stdout",
     "output_type": "stream",
     "text": [
      "{'RF__bootstrap': True, 'RF__max_depth': 10, 'RF__n_estimators': 400, 'RF__random_state': 100}\n",
      "0.7727272727272727\n",
      "0.8108108108108109\n",
      "              precision    recall  f1-score   support\n",
      "\n",
      "           0       0.75      0.72      0.74        58\n",
      "           1       0.79      0.81      0.80        74\n",
      "\n",
      "    accuracy                           0.77       132\n",
      "   macro avg       0.77      0.77      0.77       132\n",
      "weighted avg       0.77      0.77      0.77       132\n",
      "\n"
     ]
    },
    {
     "data": {
      "image/png": "[encoded data removed]",
      "text/plain": [
       "<Figure size 432x288 with 2 Axes>"
      ]
     },
     "metadata": {
      "needs_background": "light"
     },
     "output_type": "display_data"
    },
    {
     "data": {
      "image/png": "[encoded data removed]",
      "text/plain": [
       "<Figure size 432x288 with 1 Axes>"
      ]
     },
     "metadata": {
      "needs_background": "light"
     },
     "output_type": "display_data"
    },
    {
     "name": "stderr",
     "output_type": "stream",
     "text": [
      "C:\\Users\\Utilisateur\\anaconda3\\lib\\site-packages\\sklearn\\model_selection\\_validation.py:548: FitFailedWarning: Estimator fit failed. The score on this train-test partition for these parameters will be set to nan. Details: \n",
      "Traceback (most recent call last):\n",
      "  File \"C:\\Users\\Utilisateur\\anaconda3\\lib\\site-packages\\sklearn\\model_selection\\_validation.py\", line 531, in _fit_and_score\n",
      "    estimator.fit(X_train, y_train, **fit_params)\n",
      "  File \"C:\\Users\\Utilisateur\\anaconda3\\lib\\site-packages\\sklearn\\pipeline.py\", line 330, in fit\n",
      "    Xt = self._fit(X, y, **fit_params_steps)\n",
      "  File \"C:\\Users\\Utilisateur\\anaconda3\\lib\\site-packages\\sklearn\\pipeline.py\", line 292, in _fit\n",
      "    X, fitted_transformer = fit_transform_one_cached(\n",
      "  File \"C:\\Users\\Utilisateur\\anaconda3\\lib\\site-packages\\joblib\\memory.py\", line 352, in __call__\n",
      "    return self.func(*args, **kwargs)\n",
      "  File \"C:\\Users\\Utilisateur\\anaconda3\\lib\\site-packages\\sklearn\\pipeline.py\", line 740, in _fit_transform_one\n",
      "    res = transformer.fit_transform(X, y, **fit_params)\n",
      "  File \"C:\\Users\\Utilisateur\\anaconda3\\lib\\site-packages\\sklearn\\decomposition\\_pca.py\", line 376, in fit_transform\n",
      "    U, S, V = self._fit(X)\n",
      "  File \"C:\\Users\\Utilisateur\\anaconda3\\lib\\site-packages\\sklearn\\decomposition\\_pca.py\", line 423, in _fit\n",
      "    return self._fit_full(X, n_components)\n",
      "  File \"C:\\Users\\Utilisateur\\anaconda3\\lib\\site-packages\\sklearn\\decomposition\\_pca.py\", line 439, in _fit_full\n",
      "    raise ValueError(\"n_components=%r must be between 0 and \"\n",
      "ValueError: n_components=6 must be between 0 and min(n_samples, n_features)=5 with svd_solver='full'\n",
      "\n",
      "  warnings.warn(\"Estimator fit failed. The score on this train-test\"\n",
      "C:\\Users\\Utilisateur\\anaconda3\\lib\\site-packages\\sklearn\\model_selection\\_validation.py:548: FitFailedWarning: Estimator fit failed. The score on this train-test partition for these parameters will be set to nan. Details: \n",
      "Traceback (most recent call last):\n",
      "  File \"C:\\Users\\Utilisateur\\anaconda3\\lib\\site-packages\\sklearn\\model_selection\\_validation.py\", line 531, in _fit_and_score\n",
      "    estimator.fit(X_train, y_train, **fit_params)\n",
      "  File \"C:\\Users\\Utilisateur\\anaconda3\\lib\\site-packages\\sklearn\\pipeline.py\", line 330, in fit\n",
      "    Xt = self._fit(X, y, **fit_params_steps)\n",
      "  File \"C:\\Users\\Utilisateur\\anaconda3\\lib\\site-packages\\sklearn\\pipeline.py\", line 292, in _fit\n",
      "    X, fitted_transformer = fit_transform_one_cached(\n",
      "  File \"C:\\Users\\Utilisateur\\anaconda3\\lib\\site-packages\\joblib\\memory.py\", line 352, in __call__\n",
      "    return self.func(*args, **kwargs)\n",
      "  File \"C:\\Users\\Utilisateur\\anaconda3\\lib\\site-packages\\sklearn\\pipeline.py\", line 740, in _fit_transform_one\n",
      "    res = transformer.fit_transform(X, y, **fit_params)\n",
      "  File \"C:\\Users\\Utilisateur\\anaconda3\\lib\\site-packages\\sklearn\\decomposition\\_pca.py\", line 376, in fit_transform\n",
      "    U, S, V = self._fit(X)\n",
      "  File \"C:\\Users\\Utilisateur\\anaconda3\\lib\\site-packages\\sklearn\\decomposition\\_pca.py\", line 423, in _fit\n",
      "    return self._fit_full(X, n_components)\n",
      "  File \"C:\\Users\\Utilisateur\\anaconda3\\lib\\site-packages\\sklearn\\decomposition\\_pca.py\", line 439, in _fit_full\n",
      "    raise ValueError(\"n_components=%r must be between 0 and \"\n",
      "ValueError: n_components=6 must be between 0 and min(n_samples, n_features)=5 with svd_solver='full'\n",
      "\n",
      "  warnings.warn(\"Estimator fit failed. The score on this train-test\"\n",
      "C:\\Users\\Utilisateur\\anaconda3\\lib\\site-packages\\sklearn\\model_selection\\_validation.py:548: FitFailedWarning: Estimator fit failed. The score on this train-test partition for these parameters will be set to nan. Details: \n",
      "Traceback (most recent call last):\n",
      "  File \"C:\\Users\\Utilisateur\\anaconda3\\lib\\site-packages\\sklearn\\model_selection\\_validation.py\", line 531, in _fit_and_score\n",
      "    estimator.fit(X_train, y_train, **fit_params)\n",
      "  File \"C:\\Users\\Utilisateur\\anaconda3\\lib\\site-packages\\sklearn\\pipeline.py\", line 330, in fit\n",
      "    Xt = self._fit(X, y, **fit_params_steps)\n",
      "  File \"C:\\Users\\Utilisateur\\anaconda3\\lib\\site-packages\\sklearn\\pipeline.py\", line 292, in _fit\n",
      "    X, fitted_transformer = fit_transform_one_cached(\n",
      "  File \"C:\\Users\\Utilisateur\\anaconda3\\lib\\site-packages\\joblib\\memory.py\", line 352, in __call__\n",
      "    return self.func(*args, **kwargs)\n",
      "  File \"C:\\Users\\Utilisateur\\anaconda3\\lib\\site-packages\\sklearn\\pipeline.py\", line 740, in _fit_transform_one\n",
      "    res = transformer.fit_transform(X, y, **fit_params)\n",
      "  File \"C:\\Users\\Utilisateur\\anaconda3\\lib\\site-packages\\sklearn\\decomposition\\_pca.py\", line 376, in fit_transform\n",
      "    U, S, V = self._fit(X)\n",
      "  File \"C:\\Users\\Utilisateur\\anaconda3\\lib\\site-packages\\sklearn\\decomposition\\_pca.py\", line 423, in _fit\n",
      "    return self._fit_full(X, n_components)\n",
      "  File \"C:\\Users\\Utilisateur\\anaconda3\\lib\\site-packages\\sklearn\\decomposition\\_pca.py\", line 439, in _fit_full\n",
      "    raise ValueError(\"n_components=%r must be between 0 and \"\n",
      "ValueError: n_components=6 must be between 0 and min(n_samples, n_features)=5 with svd_solver='full'\n",
      "\n",
      "  warnings.warn(\"Estimator fit failed. The score on this train-test\"\n",
      "C:\\Users\\Utilisateur\\anaconda3\\lib\\site-packages\\sklearn\\model_selection\\_validation.py:548: FitFailedWarning: Estimator fit failed. The score on this train-test partition for these parameters will be set to nan. Details: \n",
      "Traceback (most recent call last):\n",
      "  File \"C:\\Users\\Utilisateur\\anaconda3\\lib\\site-packages\\sklearn\\model_selection\\_validation.py\", line 531, in _fit_and_score\n",
      "    estimator.fit(X_train, y_train, **fit_params)\n",
      "  File \"C:\\Users\\Utilisateur\\anaconda3\\lib\\site-packages\\sklearn\\pipeline.py\", line 330, in fit\n",
      "    Xt = self._fit(X, y, **fit_params_steps)\n",
      "  File \"C:\\Users\\Utilisateur\\anaconda3\\lib\\site-packages\\sklearn\\pipeline.py\", line 292, in _fit\n",
      "    X, fitted_transformer = fit_transform_one_cached(\n",
      "  File \"C:\\Users\\Utilisateur\\anaconda3\\lib\\site-packages\\joblib\\memory.py\", line 352, in __call__\n",
      "    return self.func(*args, **kwargs)\n",
      "  File \"C:\\Users\\Utilisateur\\anaconda3\\lib\\site-packages\\sklearn\\pipeline.py\", line 740, in _fit_transform_one\n",
      "    res = transformer.fit_transform(X, y, **fit_params)\n",
      "  File \"C:\\Users\\Utilisateur\\anaconda3\\lib\\site-packages\\sklearn\\decomposition\\_pca.py\", line 376, in fit_transform\n",
      "    U, S, V = self._fit(X)\n",
      "  File \"C:\\Users\\Utilisateur\\anaconda3\\lib\\site-packages\\sklearn\\decomposition\\_pca.py\", line 423, in _fit\n",
      "    return self._fit_full(X, n_components)\n",
      "  File \"C:\\Users\\Utilisateur\\anaconda3\\lib\\site-packages\\sklearn\\decomposition\\_pca.py\", line 439, in _fit_full\n",
      "    raise ValueError(\"n_components=%r must be between 0 and \"\n",
      "ValueError: n_components=6 must be between 0 and min(n_samples, n_features)=5 with svd_solver='full'\n",
      "\n",
      "  warnings.warn(\"Estimator fit failed. The score on this train-test\"\n",
      "C:\\Users\\Utilisateur\\anaconda3\\lib\\site-packages\\sklearn\\model_selection\\_validation.py:548: FitFailedWarning: Estimator fit failed. The score on this train-test partition for these parameters will be set to nan. Details: \n",
      "Traceback (most recent call last):\n",
      "  File \"C:\\Users\\Utilisateur\\anaconda3\\lib\\site-packages\\sklearn\\model_selection\\_validation.py\", line 531, in _fit_and_score\n",
      "    estimator.fit(X_train, y_train, **fit_params)\n",
      "  File \"C:\\Users\\Utilisateur\\anaconda3\\lib\\site-packages\\sklearn\\pipeline.py\", line 330, in fit\n",
      "    Xt = self._fit(X, y, **fit_params_steps)\n",
      "  File \"C:\\Users\\Utilisateur\\anaconda3\\lib\\site-packages\\sklearn\\pipeline.py\", line 292, in _fit\n",
      "    X, fitted_transformer = fit_transform_one_cached(\n",
      "  File \"C:\\Users\\Utilisateur\\anaconda3\\lib\\site-packages\\joblib\\memory.py\", line 352, in __call__\n",
      "    return self.func(*args, **kwargs)\n",
      "  File \"C:\\Users\\Utilisateur\\anaconda3\\lib\\site-packages\\sklearn\\pipeline.py\", line 740, in _fit_transform_one\n",
      "    res = transformer.fit_transform(X, y, **fit_params)\n",
      "  File \"C:\\Users\\Utilisateur\\anaconda3\\lib\\site-packages\\sklearn\\decomposition\\_pca.py\", line 376, in fit_transform\n",
      "    U, S, V = self._fit(X)\n",
      "  File \"C:\\Users\\Utilisateur\\anaconda3\\lib\\site-packages\\sklearn\\decomposition\\_pca.py\", line 423, in _fit\n",
      "    return self._fit_full(X, n_components)\n",
      "  File \"C:\\Users\\Utilisateur\\anaconda3\\lib\\site-packages\\sklearn\\decomposition\\_pca.py\", line 439, in _fit_full\n",
      "    raise ValueError(\"n_components=%r must be between 0 and \"\n",
      "ValueError: n_components=6 must be between 0 and min(n_samples, n_features)=5 with svd_solver='full'\n",
      "\n",
      "  warnings.warn(\"Estimator fit failed. The score on this train-test\"\n"
     ]
    },
    {
     "data": {
      "image/png": "[encoded data removed]",
      "text/plain": [
       "<Figure size 432x288 with 1 Axes>"
      ]
     },
     "metadata": {
      "needs_background": "light"
     },
     "output_type": "display_data"
    }
   ],
   "source": [
    "df = df_raw\n",
    "\n",
    "# Aucunes missing Values (Drop / SimpleImputer) et duplicates\n",
    "\n",
    "# Moyenne de certaines colonnes après avoir vu les corrélations dans le dataset\n",
    "df['ROA'] = (df[['ROA(C) before interest and depreciation before interest', 'ROA(A) before interest and % after tax',\n",
    "                 'ROA(B) before interest and depreciation after tax']].sum(axis=1))/3\n",
    "\n",
    "df['Margin'] = (df[['Operating Gross Margin', 'Realized Sales Gross Margin',\n",
    "                 'Gross Profit to Sales']].sum(axis=1))/3\n",
    "\n",
    "df['Net Value Per Share'] = (df[['Net Value Per Share (B)', 'Net Value Per Share (A)',\n",
    "                 'Net Value Per Share (C)']].sum(axis=1))/3\n",
    "\n",
    "#drop de colonnes avec une forte corrélation + 'Net Income Flag' qui est inutile\n",
    "df = df.drop(['Current Liability to Liability', 'Liability to Equity', 'Current Liability to Equity', \n",
    "             'ROA(C) before interest and depreciation before interest', 'ROA(A) before interest and % after tax',\n",
    "             'ROA(B) before interest and depreciation after tax', 'Operating Gross Margin', 'Realized Sales Gross Margin',\n",
    "             'Gross Profit to Sales', 'Net Value Per Share (B)' , 'Net Value Per Share (A)',\n",
    "             'Net Value Per Share (C)','Net Income Flag','Long-term Liability to Current Assets', 'Quick Asset Turnover Rate'], axis=1)\n",
    "\n",
    "\n",
    "df5 = df[(df['Bankrupt?'] == 0)]\n",
    "df5 = df.sample(n=220,random_state=1)\n",
    "\n",
    "df6 = df[(df['Bankrupt?'] == 1)]\n",
    "\n",
    "df_model5 = df5.append(df6)\n",
    "\n",
    "RF_model = RandomForestClassifier()\n",
    "\n",
    "RF_pipe = Pipeline([\n",
    "    ('scaling', MinMaxScaler()),\n",
    "    ('PCA', PCA(n_components = 6)),\n",
    "    ('RF', RF_model),\n",
    "    ])\n",
    "\n",
    "\n",
    "X = df_model5.drop(['Bankrupt?'], axis=1)\n",
    "y = df_model5['Bankrupt?']\n",
    "\n",
    "X_train, X_test, y_train, y_test = train_test_split(X, y, test_size=.3, random_state=1)\n",
    "\n",
    "# Instanciate grid search\n",
    "grid_search = GridSearchCV(\n",
    "    RF_pipe, \n",
    "    param_grid={\n",
    "        # Access any component of the pipeline, as far back as you want\n",
    "        'RF__n_estimators' : [200, 400],\n",
    "        'RF__random_state' : [100, 200],\n",
    "        'RF__bootstrap' : [True, False],\n",
    "        'RF__max_depth' : [10, 20, None]}, cv=5, verbose=3, scoring=\"recall\")\n",
    "\n",
    "grid_search.fit(X_train, y_train)\n",
    " \n",
    "\n",
    "# Appliquer les meilleurs paramètres à ton pipe\n",
    "RF_pipe_trained = grid_search.best_estimator_\n",
    "\n",
    "y_pred = RF_pipe_trained.predict(X_test)\n",
    "\n",
    "print(grid_search.best_params_) \n",
    "print(RF_pipe_trained.score(X_test,y_test))\n",
    "print(recall_score(y_test, y_pred))\n",
    "print(classification_report(y_test, y_pred))\n",
    "\n",
    "def plot_confusion_matrix(y, y_pred):\n",
    "     cm = confusion_matrix(y, y_pred)\n",
    "     sns.heatmap(cm, annot=True, fmt=\".0f\")\n",
    "     plt.xlabel('y_pred')\n",
    "     plt.ylabel('y')\n",
    "     plt.show()\n",
    "\n",
    "plot_confusion_matrix(y_test, y_pred)\n",
    "\n",
    "# ROC CURVE\n",
    "metrics.plot_roc_curve(RF_pipe_trained, X_test, y_test)\n",
    "plt.title('ROC Curve')\n",
    "plt.plot([0, 1], [0, 1], 'r--')\n",
    "plt.show()\n",
    "\n",
    "\n",
    "# LEARNING CURVE \n",
    "# Get train scores, train sizes, and validation scores using `learning_curve`, r2 score\n",
    "train_sizes, train_scores, test_scores = learning_curve(estimator = RF_pipe,\n",
    "                                          X = X,\n",
    "                                          y = y,\n",
    "                                          train_sizes = [5,10,50,100,200,300],\n",
    "                                          cv = 5,\n",
    "                                          scoring='recall',\n",
    "                                          shuffle = True,\n",
    "                                          random_state=3)\n",
    "\n",
    "# Take the mean of cross-validated train scores and validation scores\n",
    "train_scores_mean = np.mean(train_scores, axis=1)\n",
    "test_scores_mean = np.mean(test_scores, axis=1)\n",
    "\n",
    "\n",
    "# Plot the learning curves!\n",
    "plt.plot(train_sizes, train_scores_mean, label = 'Training score')\n",
    "plt.plot(train_sizes, test_scores_mean, label = 'Test score')\n",
    "plt.ylabel('Recall', fontsize = 14)\n",
    "plt.xlabel('Training set size', fontsize = 14)\n",
    "plt.title('Learning curves - RF model', fontsize = 18, y = 1.03)\n",
    "plt.legend()\n",
    "plt.ylim(0,1)\n",
    "plt.show()\n"
   ]
  },
  {
   "cell_type": "markdown",
   "id": "2f2c73d8",
   "metadata": {
    "hidden": true
   },
   "source": [
    "_Plus mauvais résultats après le gridsearch  \n",
    "0.7727272727272727  \n",
    "0.8108108108108109 (recall)_  "
   ]
  },
  {
   "cell_type": "markdown",
   "id": "3869f69c",
   "metadata": {
    "heading_collapsed": true
   },
   "source": [
    "### BaggingClassifier avec SVC"
   ]
  },
  {
   "cell_type": "code",
   "execution_count": 3,
   "id": "250c4723",
   "metadata": {
    "hidden": true
   },
   "outputs": [
    {
     "name": "stdout",
     "output_type": "stream",
     "text": [
      "0.553030303030303\n",
      "0.9864864864864865\n",
      "              precision    recall  f1-score   support\n",
      "\n",
      "           0       0.00      0.00      0.00        58\n",
      "           1       0.56      0.99      0.71        74\n",
      "\n",
      "    accuracy                           0.55       132\n",
      "   macro avg       0.28      0.49      0.36       132\n",
      "weighted avg       0.31      0.55      0.40       132\n",
      "\n"
     ]
    },
    {
     "data": {
      "image/png": "[encoded data removed]",
      "text/plain": [
       "<Figure size 432x288 with 2 Axes>"
      ]
     },
     "metadata": {
      "needs_background": "light"
     },
     "output_type": "display_data"
    }
   ],
   "source": [
    "df = df_raw\n",
    "\n",
    "# Aucunes missing Values (Drop / SimpleImputer) et duplicates\n",
    "\n",
    "# Moyenne de certaines colonnes après avoir vu les corrélations dans le dataset\n",
    "df['ROA'] = (df[['ROA(C) before interest and depreciation before interest', 'ROA(A) before interest and % after tax',\n",
    "                 'ROA(B) before interest and depreciation after tax']].sum(axis=1))/3\n",
    "\n",
    "df['Margin'] = (df[['Operating Gross Margin', 'Realized Sales Gross Margin',\n",
    "                 'Gross Profit to Sales']].sum(axis=1))/3\n",
    "\n",
    "df['Net Value Per Share'] = (df[['Net Value Per Share (B)', 'Net Value Per Share (A)',\n",
    "                 'Net Value Per Share (C)']].sum(axis=1))/3\n",
    "\n",
    "#drop de colonnes avec une forte corrélation + 'Net Income Flag' qui est inutile\n",
    "df = df.drop(['Current Liability to Liability', 'Liability to Equity', 'Current Liability to Equity', \n",
    "             'ROA(C) before interest and depreciation before interest', 'ROA(A) before interest and % after tax',\n",
    "             'ROA(B) before interest and depreciation after tax', 'Operating Gross Margin', 'Realized Sales Gross Margin',\n",
    "             'Gross Profit to Sales', 'Net Value Per Share (B)' , 'Net Value Per Share (A)',\n",
    "             'Net Value Per Share (C)','Net Income Flag', 'Long-term Liability to Current Assets', 'Quick Asset Turnover Rate'], axis=1)\n",
    "\n",
    "\n",
    "df5 = df[(df['Bankrupt?'] == 0)]\n",
    "df5 = df.sample(n=220,random_state=1)\n",
    "\n",
    "df6 = df[(df['Bankrupt?'] == 1)]\n",
    "\n",
    "df_model5 = df5.append(df6)\n",
    "\n",
    "\n",
    "BC_model = BaggingClassifier(base_estimator=SVC(C=0.1, gamma=0.1, kernel='poly'),\n",
    "                         n_estimators=10, random_state=1)\n",
    "\n",
    "BC_pipe = Pipeline([\n",
    "    ('scaling', MinMaxScaler()),\n",
    "    ('PCA', PCA(n_components = 5)),\n",
    "    ('BC', BC_model)])\n",
    "\n",
    "X = df_model5.drop(['Bankrupt?'], axis=1)\n",
    "y = df_model5['Bankrupt?']\n",
    "\n",
    "X_train, X_test, y_train, y_test = train_test_split(X, y, test_size=.3, random_state=1)\n",
    "\n",
    "\n",
    "BC_pipe_trained = BC_pipe.fit(X_train,y_train)\n",
    "\n",
    "y_pred = BC_pipe_trained.predict(X_test)\n",
    "    \n",
    "\n",
    "print(BC_pipe_trained.score(X_test,y_test))\n",
    "print(recall_score(y_test, y_pred))\n",
    "print(classification_report(y_test, y_pred))\n",
    "\n",
    "\n",
    "def plot_confusion_matrix(y, y_pred):\n",
    "     cm = confusion_matrix(y, y_pred)\n",
    "     sns.heatmap(cm, annot=True, fmt=\".0f\")\n",
    "     plt.xlabel('y_pred')\n",
    "     plt.ylabel('y')\n",
    "     plt.show()\n",
    "\n",
    "plot_confusion_matrix(y_test, y_pred)            "
   ]
  },
  {
   "cell_type": "markdown",
   "id": "f7258069",
   "metadata": {
    "hidden": true
   },
   "source": [
    "_Avant bagging  \n",
    "0.553030303030303\n",
    "0.9864864864864865 (recall)_    \n",
    "_Après bagging  \n",
    "0.553030303030303    \n",
    "0.9864864864864865 (recall)_  \n",
    "Aucun changement"
   ]
  },
  {
   "cell_type": "markdown",
   "id": "210aaaa3",
   "metadata": {
    "heading_collapsed": true
   },
   "source": [
    "## Modèle 7 = Boosting"
   ]
  },
  {
   "cell_type": "code",
   "execution_count": 4,
   "id": "813dba76",
   "metadata": {
    "hidden": true
   },
   "outputs": [
    {
     "name": "stdout",
     "output_type": "stream",
     "text": [
      "0.7575757575757576\n",
      "0.7972972972972973\n",
      "              precision    recall  f1-score   support\n",
      "\n",
      "           0       0.73      0.71      0.72        58\n",
      "           1       0.78      0.80      0.79        74\n",
      "\n",
      "    accuracy                           0.76       132\n",
      "   macro avg       0.75      0.75      0.75       132\n",
      "weighted avg       0.76      0.76      0.76       132\n",
      "\n"
     ]
    },
    {
     "data": {
      "image/png": "[encoded data removed]",
      "text/plain": [
       "<Figure size 432x288 with 2 Axes>"
      ]
     },
     "metadata": {
      "needs_background": "light"
     },
     "output_type": "display_data"
    }
   ],
   "source": [
    "df = df_raw\n",
    "\n",
    "# Aucunes missing Values (Drop / SimpleImputer) et duplicates\n",
    "\n",
    "# Moyenne de certaines colonnes après avoir vu les corrélations dans le dataset\n",
    "df['ROA'] = (df[['ROA(C) before interest and depreciation before interest', 'ROA(A) before interest and % after tax',\n",
    "                 'ROA(B) before interest and depreciation after tax']].sum(axis=1))/3\n",
    "\n",
    "df['Margin'] = (df[['Operating Gross Margin', 'Realized Sales Gross Margin',\n",
    "                 'Gross Profit to Sales']].sum(axis=1))/3\n",
    "\n",
    "df['Net Value Per Share'] = (df[['Net Value Per Share (B)', 'Net Value Per Share (A)',\n",
    "                 'Net Value Per Share (C)']].sum(axis=1))/3\n",
    "\n",
    "#drop de colonnes avec une forte corrélation + 'Net Income Flag' qui est inutile\n",
    "df = df.drop(['Current Liability to Liability', 'Liability to Equity', 'Current Liability to Equity', \n",
    "             'ROA(C) before interest and depreciation before interest', 'ROA(A) before interest and % after tax',\n",
    "             'ROA(B) before interest and depreciation after tax', 'Operating Gross Margin', 'Realized Sales Gross Margin',\n",
    "             'Gross Profit to Sales', 'Net Value Per Share (B)' , 'Net Value Per Share (A)',\n",
    "             'Net Value Per Share (C)','Net Income Flag', 'Long-term Liability to Current Assets', 'Quick Asset Turnover Rate'], axis=1)\n",
    "\n",
    "\n",
    "df5 = df[(df['Bankrupt?'] == 0)]\n",
    "df5 = df.sample(n=220,random_state=1)\n",
    "\n",
    "df6 = df[(df['Bankrupt?'] == 1)]\n",
    "\n",
    "df_model5 = df5.append(df6)\n",
    "\n",
    "\n",
    "ADA_model = AdaBoostClassifier(\n",
    "                         n_estimators=100, random_state=1)\n",
    "\n",
    "\n",
    "ADA_pipe = Pipeline([\n",
    "    ('scaling', MinMaxScaler()),\n",
    "    ('PCA', PCA(n_components = 5)),\n",
    "    ('ADA', ADA_model)])\n",
    "\n",
    "X = df_model5.drop(['Bankrupt?'], axis=1)\n",
    "y = df_model5['Bankrupt?']\n",
    "\n",
    "X_train, X_test, y_train, y_test = train_test_split(X, y, test_size=.3, random_state=1)\n",
    "\n",
    "\n",
    "ADA_pipe_trained = ADA_pipe.fit(X_train,y_train)\n",
    "\n",
    "y_pred = ADA_pipe_trained.predict(X_test)\n",
    "    \n",
    "\n",
    "print(ADA_pipe_trained.score(X_test,y_test))\n",
    "print(recall_score(y_test, y_pred))\n",
    "print(classification_report(y_test, y_pred))\n",
    "\n",
    "\n",
    "def plot_confusion_matrix(y, y_pred):\n",
    "     cm = confusion_matrix(y, y_pred)\n",
    "     sns.heatmap(cm, annot=True, fmt=\".0f\")\n",
    "     plt.xlabel('y_pred')\n",
    "     plt.ylabel('y')\n",
    "     plt.show()\n",
    "\n",
    "plot_confusion_matrix(y_test, y_pred)            "
   ]
  },
  {
   "cell_type": "markdown",
   "id": "2add2815",
   "metadata": {},
   "source": [
    "## Modèle 8 = Stacking"
   ]
  },
  {
   "cell_type": "code",
   "execution_count": 5,
   "id": "47458795",
   "metadata": {},
   "outputs": [
    {
     "name": "stdout",
     "output_type": "stream",
     "text": [
      "0.7878787878787878\n",
      "0.8513513513513513\n",
      "              precision    recall  f1-score   support\n",
      "\n",
      "           0       0.79      0.71      0.75        58\n",
      "           1       0.79      0.85      0.82        74\n",
      "\n",
      "    accuracy                           0.79       132\n",
      "   macro avg       0.79      0.78      0.78       132\n",
      "weighted avg       0.79      0.79      0.79       132\n",
      "\n"
     ]
    },
    {
     "data": {
      "image/png": "[encoded data removed]",
      "text/plain": [
       "<Figure size 432x288 with 2 Axes>"
      ]
     },
     "metadata": {
      "needs_background": "light"
     },
     "output_type": "display_data"
    }
   ],
   "source": [
    "df = df_raw\n",
    "\n",
    "# Aucunes missing Values (Drop / SimpleImputer) et duplicates\n",
    "\n",
    "# Moyenne de certaines colonnes après avoir vu les corrélations dans le dataset\n",
    "df['ROA'] = (df[['ROA(C) before interest and depreciation before interest', 'ROA(A) before interest and % after tax',\n",
    "                 'ROA(B) before interest and depreciation after tax']].sum(axis=1))/3\n",
    "\n",
    "df['Margin'] = (df[['Operating Gross Margin', 'Realized Sales Gross Margin',\n",
    "                 'Gross Profit to Sales']].sum(axis=1))/3\n",
    "\n",
    "df['Net Value Per Share'] = (df[['Net Value Per Share (B)', 'Net Value Per Share (A)',\n",
    "                 'Net Value Per Share (C)']].sum(axis=1))/3\n",
    "\n",
    "#drop de colonnes avec une forte corrélation + 'Net Income Flag' qui est inutile\n",
    "df = df.drop(['Current Liability to Liability', 'Liability to Equity', 'Current Liability to Equity', \n",
    "             'ROA(C) before interest and depreciation before interest', 'ROA(A) before interest and % after tax',\n",
    "             'ROA(B) before interest and depreciation after tax', 'Operating Gross Margin', 'Realized Sales Gross Margin',\n",
    "             'Gross Profit to Sales', 'Net Value Per Share (B)' , 'Net Value Per Share (A)',\n",
    "             'Net Value Per Share (C)','Net Income Flag', 'Long-term Liability to Current Assets', 'Quick Asset Turnover Rate'], axis=1)\n",
    "\n",
    "\n",
    "df5 = df[(df['Bankrupt?'] == 0)]\n",
    "df5 = df.sample(n=220,random_state=1)\n",
    "\n",
    "df6 = df[(df['Bankrupt?'] == 1)]\n",
    "\n",
    "df_model5 = df5.append(df6)\n",
    "\n",
    "estimators = [\n",
    "     ('SVC', SVC(C=0.1, gamma=0.1, kernel='poly')),\n",
    "     ('RF', RandomForestClassifier()),\n",
    "     ('LR', LogisticRegression()),\n",
    "     ('KNC', KNeighborsClassifier())] \n",
    "\n",
    "STAC_model = StackingClassifier(estimators=estimators, final_estimator=RandomForestClassifier())\n",
    "                             \n",
    "                                \n",
    "STAC_pipe = Pipeline([\n",
    "    ('scaling', MinMaxScaler()),\n",
    "    ('PCA', PCA(n_components = 5)),\n",
    "    ('STAC', STAC_model)])\n",
    "\n",
    "X = df_model5.drop(['Bankrupt?'], axis=1)\n",
    "y = df_model5['Bankrupt?']\n",
    "\n",
    "X_train, X_test, y_train, y_test = train_test_split(X, y, test_size=.3, random_state=1)\n",
    "\n",
    "STAC_pipe_trained = STAC_pipe.fit(X_train,y_train)\n",
    "\n",
    "y_pred = STAC_pipe_trained.predict(X_test)\n",
    "    \n",
    "\n",
    "print(STAC_pipe_trained.score(X_test,y_test))\n",
    "print(recall_score(y_test, y_pred))\n",
    "print(classification_report(y_test, y_pred))\n",
    "\n",
    "\n",
    "def plot_confusion_matrix(y, y_pred):\n",
    "     cm = confusion_matrix(y, y_pred)\n",
    "     sns.heatmap(cm, annot=True, fmt=\".0f\")\n",
    "     plt.xlabel('y_pred')\n",
    "     plt.ylabel('y')\n",
    "     plt.show()\n",
    "\n",
    "plot_confusion_matrix(y_test, y_pred)            "
   ]
  },
  {
   "cell_type": "code",
   "execution_count": null,
   "id": "5bcbae3a",
   "metadata": {},
   "outputs": [],
   "source": []
  },
  {
   "cell_type": "markdown",
   "id": "4d5ebf26",
   "metadata": {
    "heading_collapsed": true
   },
   "source": [
    "# Oversampling Preprocessing"
   ]
  },
  {
   "cell_type": "markdown",
   "id": "35a7c08e",
   "metadata": {
    "hidden": true
   },
   "source": [
    "## Hold out et baseline model"
   ]
  },
  {
   "cell_type": "markdown",
   "id": "f99d4262",
   "metadata": {
    "hidden": true
   },
   "source": [
    "## Modèle 1 = datacleaning"
   ]
  },
  {
   "cell_type": "code",
   "execution_count": null,
   "id": "3fc332c2",
   "metadata": {
    "hidden": true
   },
   "outputs": [],
   "source": [
    "* feature ingenierie  \n",
    "** Encoding (Onehot encoder)  \n",
    "(On peut faire un premier pipeline ici et tester avec un KNN pour comparer avec un autre modèle)\n",
    "** Discretizing : Continue --> discret (exo vin : Note en good quality ou bad quality)\n",
    "\n",
    "* feature selection\n",
    "** Feature permutation\n",
    "** Regularization\n",
    "\n",
    "* feature ingenierie  \n",
    "** PCA\n",
    "** Kmeans\n",
    "\n",
    "\n",
    "\n",
    "\n",
    "Create New Features :\n",
    "\n",
    "SVM\n",
    "Decision tree\n",
    "RandomForest\n",
    "Model tunning\n",
    "\n",
    "\n",
    "Modelisation \n",
    "\n",
    "Evaluation\n",
    "\n",
    "Déploiement"
   ]
  },
  {
   "cell_type": "code",
   "execution_count": null,
   "id": "6435e498",
   "metadata": {
    "hidden": true
   },
   "outputs": [],
   "source": [
    "# Gestion des outliers 0 et 1 (on enlève le 0 et 1 si cela ne touche pas le 220 de 1)\n",
    "col_outliers = df.drop(['Bankrupt?', 'Liability-Assets Flag', 'Net Income Flag',\n",
    "                   'Operating Profit Rate', 'Operating Expense Rate', 'Research and development expense rate',\n",
    "                   'Interest-bearing debt interest rate', 'Tax rate (A)', 'Persistent EPS in the Last Four Seasons', \n",
    "                    'Revenue Per Share (Yuan ¥)', 'Operating Profit Per Share (Yuan ¥)', \n",
    "                    'Per Share Net profit before tax (Yuan ¥)', 'Total Asset Growth Rate',\n",
    "                   'Net Value Growth Rate', 'Cash Reinvestment %', 'Current Ratio', 'Quick Ratio',\n",
    "                   'Total debt/Total net worth', 'Debt ratio %', 'Net worth/Assets', 'Long-term fund suitability ratio (A)',\n",
    "                   'Borrowing dependency', 'Contingent liabilities/Net worth', 'Operating profit/Paid-in capital',\n",
    "                   'Net profit before tax/Paid-in capital', 'Inventory and accounts receivable/Net value',\n",
    "                   'Total Asset Turnover', 'Accounts Receivable Turnover', 'Average Collection Days',\n",
    "                   'Inventory Turnover Rate (times)', 'Fixed Assets Turnover Frequency', 'Net Worth Turnover Rate (times)',\n",
    "                   'Revenue per person', 'Allocation rate per person', 'Current Assets/Total Assets',\n",
    "                   'Cash/Total Assets', 'Quick Assets/Current Liability', 'Cash/Current Liability', 'Current Liability to Assets',\n",
    "                   'Inventory/Current Liability', 'Current Liabilities/Liability', 'Working Capital/Equity',\n",
    "                   'Current Liabilities/Equity', 'Long-term Liability to Current Assets', 'Total income/Total expense',\n",
    "                  'Total expense/Assets', 'Current Asset Turnover Rate', 'Quick Asset Turnover Rate', 'Cash Turnover Rate',\n",
    "                  'Fixed Assets to Assets', 'Equity to Long-term Liability', 'Cash Flow to Equity', \n",
    "                   'Current Liability to Current Assets', 'Total assets to GNP price', 'Net Income to Stockholders Equity',\n",
    "                   'Equity to Liability'], axis=1)\n",
    "\n",
    "\n",
    "for col in (col_outliers.columns):\n",
    "    df_new = df[(df[col]>0.01) & (df[col]<0.99)]\n",
    "    df = df_new\n",
    "#     print(col)\n",
    "#     print(df['Bankrupt?'].value_counts())\n",
    "#     print(df.shape)\n",
    "df.head()"
   ]
  },
  {
   "cell_type": "code",
   "execution_count": null,
   "id": "6c9ca75c",
   "metadata": {
    "hidden": true
   },
   "outputs": [],
   "source": [
    "# possibilité de séparer notre dataset pour faire une PCA sur des colonnes en particulier"
   ]
  }
 ],
 "metadata": {
  "kernelspec": {
   "display_name": "Python 3",
   "language": "python",
   "name": "python3"
  },
  "language_info": {
   "codemirror_mode": {
    "name": "ipython",
    "version": 3
   },
   "file_extension": ".py",
   "mimetype": "text/x-python",
   "name": "python",
   "nbconvert_exporter": "python",
   "pygments_lexer": "ipython3",
   "version": "3.8.8"
  },
  "toc": {
   "base_numbering": 1,
   "nav_menu": {},
   "number_sections": false,
   "sideBar": true,
   "skip_h1_title": false,
   "title_cell": "Table of Contents",
   "title_sidebar": "Contents",
   "toc_cell": true,
   "toc_position": {},
   "toc_section_display": true,
   "toc_window_display": false
  }
 },
 "nbformat": 4,
 "nbformat_minor": 5
}
